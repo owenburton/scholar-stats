{
 "cells": [
  {
   "cell_type": "code",
   "execution_count": 29,
   "metadata": {},
   "outputs": [],
   "source": [
    "%%capture\n",
    "!pip install scholarly\n",
    "!pip install fuzzywuzzy[speedup]"
   ]
  },
  {
   "cell_type": "code",
   "execution_count": 1,
   "metadata": {},
   "outputs": [],
   "source": [
    "import scholarly\n",
    "from fuzzywuzzy import process\n",
    "from multiprocessing import Pool\n",
    "import worker"
   ]
  },
  {
   "cell_type": "code",
   "execution_count": 2,
   "metadata": {
    "scrolled": true
   },
   "outputs": [
    {
     "name": "stdout",
     "output_type": "stream",
     "text": [
      "{'_filled': True,\n",
      " 'affiliation': 'Ph.D. Candidate, Stanford University',\n",
      " 'citedby': 13,\n",
      " 'citedby5y': 13,\n",
      " 'cites_per_year': {2019: 8, 2020: 5},\n",
      " 'coauthors': [<scholarly.scholarly.Author object at 0x0000020BFFC91DA0>,\n",
      "               <scholarly.scholarly.Author object at 0x0000020BFFC91BA8>,\n",
      "               <scholarly.scholarly.Author object at 0x0000020BFFC91DD8>,\n",
      "               <scholarly.scholarly.Author object at 0x0000020BFFC91E10>,\n",
      "               <scholarly.scholarly.Author object at 0x0000020BFFC91E48>,\n",
      "               <scholarly.scholarly.Author object at 0x0000020BFFC91E80>,\n",
      "               <scholarly.scholarly.Author object at 0x0000020BFFC91EB8>,\n",
      "               <scholarly.scholarly.Author object at 0x0000020BFFC91EF0>],\n",
      " 'email': '@stanford.edu',\n",
      " 'hindex': 2,\n",
      " 'hindex5y': 2,\n",
      " 'i10index': 0,\n",
      " 'i10index5y': 0,\n",
      " 'id': 'X7FY3wUAAAAJ',\n",
      " 'interests': ['Gas Hydrates',\n",
      "               'Geochemistry',\n",
      "               'Planetary Science',\n",
      "               'Basin Modeling',\n",
      "               'Sedimentary Systems'],\n",
      " 'name': 'Zachary F. M. Burton',\n",
      " 'publications': [<scholarly.scholarly.Publication object at 0x0000020BFFC91F28>,\n",
      "                  <scholarly.scholarly.Publication object at 0x0000020BFFC91FD0>,\n",
      "                  <scholarly.scholarly.Publication object at 0x0000020BFFC91F98>,\n",
      "                  <scholarly.scholarly.Publication object at 0x0000020BFFC91F60>,\n",
      "                  <scholarly.scholarly.Publication object at 0x0000020BFFC9A048>,\n",
      "                  <scholarly.scholarly.Publication object at 0x0000020BFFC9A080>,\n",
      "                  <scholarly.scholarly.Publication object at 0x0000020BFFC9A0B8>,\n",
      "                  <scholarly.scholarly.Publication object at 0x0000020BFFC9A0F0>,\n",
      "                  <scholarly.scholarly.Publication object at 0x0000020BFFC9A128>,\n",
      "                  <scholarly.scholarly.Publication object at 0x0000020BFFC9A160>,\n",
      "                  <scholarly.scholarly.Publication object at 0x0000020BFFC9A198>,\n",
      "                  <scholarly.scholarly.Publication object at 0x0000020BFFC9A1D0>,\n",
      "                  <scholarly.scholarly.Publication object at 0x0000020BFFC9A208>,\n",
      "                  <scholarly.scholarly.Publication object at 0x0000020BFFC9A240>,\n",
      "                  <scholarly.scholarly.Publication object at 0x0000020BFFC9A278>,\n",
      "                  <scholarly.scholarly.Publication object at 0x0000020BFFC9A2B0>,\n",
      "                  <scholarly.scholarly.Publication object at 0x0000020BFFC9A2E8>],\n",
      " 'url_picture': 'https://scholar.google.com/citations?view_op=medium_photo&user=X7FY3wUAAAAJ'}\n",
      "Wall time: 22.3 s\n"
     ]
    }
   ],
   "source": [
    "%%time\n",
    "# Retrieve the author's data, fill-in, and print\n",
    "search_query = scholarly.search_author('Zachary F M Burton')\n",
    "author = next(search_query)\n",
    "author = author.fill()\n",
    "print(author)"
   ]
  },
  {
   "cell_type": "code",
   "execution_count": 3,
   "metadata": {},
   "outputs": [],
   "source": [
    "publications = author.publications"
   ]
  },
  {
   "cell_type": "code",
   "execution_count": 4,
   "metadata": {},
   "outputs": [
    {
     "data": {
      "text/plain": [
       "'Unraveling petroleum degradation, maturity, and mixing and addressing impact on petroleum prospectivity: Insights from frontier exploration regions in New Zealand'"
      ]
     },
     "execution_count": 4,
     "metadata": {},
     "output_type": "execute_result"
    }
   ],
   "source": [
    "publications[0].bib['title']"
   ]
  },
  {
   "cell_type": "code",
   "execution_count": 5,
   "metadata": {},
   "outputs": [
    {
     "name": "stdout",
     "output_type": "stream",
     "text": [
      "Wall time: 0 ns\n"
     ]
    }
   ],
   "source": [
    "%%time\n",
    "pubs = [p.bib['title'] for p in publications]"
   ]
  },
  {
   "cell_type": "code",
   "execution_count": 17,
   "metadata": {},
   "outputs": [
    {
     "name": "stdout",
     "output_type": "stream",
     "text": [
      "Wall time: 2min 9s\n"
     ]
    }
   ],
   "source": [
    "%%time\n",
    "pubs_info = [next(scholarly.search_pubs_query(p)) for p in pubs]"
   ]
  },
  {
   "cell_type": "code",
   "execution_count": 7,
   "metadata": {},
   "outputs": [
    {
     "data": {
      "text/plain": [
       "17"
      ]
     },
     "execution_count": 7,
     "metadata": {},
     "output_type": "execute_result"
    }
   ],
   "source": [
    "len(pubs)"
   ]
  },
  {
   "cell_type": "code",
   "execution_count": 8,
   "metadata": {},
   "outputs": [
    {
     "name": "stdout",
     "output_type": "stream",
     "text": [
      "Wall time: 24.7 s\n"
     ]
    }
   ],
   "source": [
    "%%time \n",
    "if __name__ == \"__main__\":\n",
    "    pool = Pool()\n",
    "    pubs_info = pool.map(worker.get_pub_info, pubs)"
   ]
  },
  {
   "cell_type": "code",
   "execution_count": 11,
   "metadata": {},
   "outputs": [
    {
     "data": {
      "text/plain": [
       "8"
      ]
     },
     "execution_count": 11,
     "metadata": {},
     "output_type": "execute_result"
    }
   ],
   "source": [
    "len(pubs_info)"
   ]
  },
  {
   "cell_type": "code",
   "execution_count": 13,
   "metadata": {},
   "outputs": [
    {
     "name": "stdout",
     "output_type": "stream",
     "text": [
      "none\n"
     ]
    }
   ],
   "source": [
    "if pubs_info[0]: pubs_info[0].bib['author']\n",
    "else: print('none')"
   ]
  },
  {
   "cell_type": "code",
   "execution_count": 10,
   "metadata": {},
   "outputs": [
    {
     "data": {
      "text/plain": [
       "0"
      ]
     },
     "execution_count": 10,
     "metadata": {},
     "output_type": "execute_result"
    }
   ],
   "source": [
    "pubs_authors = [p.bib['author'] for p in pubs_info if p]\n",
    "len(pubs_authors)"
   ]
  },
  {
   "cell_type": "code",
   "execution_count": 12,
   "metadata": {
    "scrolled": true
   },
   "outputs": [
    {
     "data": {
      "text/plain": [
       "['ZFM Burton and JM Moldowan and LB Magoon…',\n",
       " 'JL Bishop and JD Toner and P Englert…',\n",
       " 'ZFM Burton and JL Bishop and JM Danielsen']"
      ]
     },
     "execution_count": 12,
     "metadata": {},
     "output_type": "execute_result"
    }
   ],
   "source": [
    "pubs_authors"
   ]
  },
  {
   "cell_type": "code",
   "execution_count": 13,
   "metadata": {},
   "outputs": [
    {
     "data": {
      "text/plain": [
       "('ZFM Burton', 86)"
      ]
     },
     "execution_count": 13,
     "metadata": {},
     "output_type": "execute_result"
    }
   ],
   "source": [
    "author_name = 'Zachary F M Burton'\n",
    "process.extractOne(author_name, pubs_authors[0].split(' and '))"
   ]
  },
  {
   "cell_type": "code",
   "execution_count": 14,
   "metadata": {},
   "outputs": [],
   "source": [
    "pub_authors_lists = [authors.split(' and ') for authors in pubs_authors]"
   ]
  },
  {
   "cell_type": "code",
   "execution_count": 15,
   "metadata": {},
   "outputs": [
    {
     "data": {
      "text/plain": [
       "{1: 2, 2: 1}"
      ]
     },
     "execution_count": 15,
     "metadata": {},
     "output_type": "execute_result"
    }
   ],
   "source": [
    "author_positions = {}\n",
    "for lis in pub_authors_lists:\n",
    "    match = process.extractOne(author_name, lis)[0]\n",
    "    for i, author in enumerate(lis):\n",
    "        if author == match:\n",
    "            if i+1 in author_positions:\n",
    "                author_positions[i+1] += 1\n",
    "            else:\n",
    "                author_positions[i+1] = 1\n",
    "            break\n",
    "            \n",
    "author_positions "
   ]
  },
  {
   "cell_type": "code",
   "execution_count": 16,
   "metadata": {},
   "outputs": [],
   "source": [
    "# TODO: \n",
    "    # use multiprocessing is only getting a few of the pubs, and None for the rest\n",
    "    # I think it's a timeout error\n",
    "    \n",
    "    # get citations & h-index based on author position (A1: 4, A2: 7, etc.)\n",
    "    # make nice dashboard w/ simple histograms"
   ]
  },
  {
   "cell_type": "code",
   "execution_count": null,
   "metadata": {},
   "outputs": [],
   "source": []
  }
 ],
 "metadata": {
  "kernelspec": {
   "display_name": "Python 3",
   "language": "python",
   "name": "python3"
  },
  "language_info": {
   "codemirror_mode": {
    "name": "ipython",
    "version": 3
   },
   "file_extension": ".py",
   "mimetype": "text/x-python",
   "name": "python",
   "nbconvert_exporter": "python",
   "pygments_lexer": "ipython3",
   "version": "3.7.3"
  }
 },
 "nbformat": 4,
 "nbformat_minor": 4
}
