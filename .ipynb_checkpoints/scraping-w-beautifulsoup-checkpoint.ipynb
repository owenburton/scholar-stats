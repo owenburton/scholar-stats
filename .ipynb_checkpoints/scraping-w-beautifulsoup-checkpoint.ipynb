{
 "cells": [
  {
   "cell_type": "code",
   "execution_count": 1,
   "metadata": {},
   "outputs": [],
   "source": [
    "from bs4 import BeautifulSoup\n",
    "from fuzzywuzzy import process\n",
    "import requests\n",
    "import matplotlib.pyplot as plt\n",
    "from collections import OrderedDict"
   ]
  },
  {
   "cell_type": "code",
   "execution_count": 2,
   "metadata": {},
   "outputs": [],
   "source": [
    "url = \"https://scholar.google.com/citations?user=X7FY3wUAAAAJ&hl=en&oi=ao\""
   ]
  },
  {
   "cell_type": "code",
   "execution_count": 3,
   "metadata": {},
   "outputs": [],
   "source": [
    "content = requests.get(url).text\n",
    "page = BeautifulSoup(content, 'lxml')"
   ]
  },
  {
   "cell_type": "code",
   "execution_count": 4,
   "metadata": {},
   "outputs": [],
   "source": [
    "# page"
   ]
  },
  {
   "cell_type": "code",
   "execution_count": 5,
   "metadata": {},
   "outputs": [
    {
     "data": {
      "text/plain": [
       "'Zachary F. M. Burton'"
      ]
     },
     "execution_count": 5,
     "metadata": {},
     "output_type": "execute_result"
    }
   ],
   "source": [
    "page_title = page.find('title').string\n",
    "author_name = page_title.split(' - ')[0]\n",
    "author_name"
   ]
  },
  {
   "cell_type": "code",
   "execution_count": 6,
   "metadata": {},
   "outputs": [],
   "source": [
    "# get titles of all papers on first page\n",
    "results = []\n",
    "for entry in page.find_all(\"a\", attrs={\"class\": \"gsc_a_at\"}):\n",
    "    results.append({\"title\":entry.text, \"authors\":None})"
   ]
  },
  {
   "cell_type": "code",
   "execution_count": 7,
   "metadata": {},
   "outputs": [
    {
     "data": {
      "text/plain": [
       "17"
      ]
     },
     "execution_count": 7,
     "metadata": {},
     "output_type": "execute_result"
    }
   ],
   "source": [
    "len(results)"
   ]
  },
  {
   "cell_type": "code",
   "execution_count": 8,
   "metadata": {},
   "outputs": [
    {
     "name": "stdout",
     "output_type": "stream",
     "text": [
      "{'title': 'Unraveling petroleum degradation, maturity, and mixing and addressing impact on petroleum prospectivity: Insights from frontier exploration regions in New Zealand', 'authors': None}\n",
      "{'title': 'Interpretation of source rock depositional environment and age from seep oil, east coast of New Zealand', 'authors': None}\n",
      "{'title': 'Salty Solution to Slipping Soils on Martian Slopes', 'authors': None}\n"
     ]
    }
   ],
   "source": [
    "for r in results[:3]: print(r)"
   ]
  },
  {
   "cell_type": "code",
   "execution_count": 9,
   "metadata": {},
   "outputs": [],
   "source": [
    "# get authors of each paper\n",
    "authors_journals = []\n",
    "for auth in page.find_all(\"div\", attrs={\"class\": \"gs_gray\"}):\n",
    "    authors_journals.append(auth.text)\n",
    "    \n",
    "# remove extra gs_gray classes found (the journal names)\n",
    "authors = [text for i,text in enumerate(authors_journals) if i%2==0]"
   ]
  },
  {
   "cell_type": "code",
   "execution_count": 10,
   "metadata": {},
   "outputs": [
    {
     "data": {
      "text/plain": [
       "17"
      ]
     },
     "execution_count": 10,
     "metadata": {},
     "output_type": "execute_result"
    }
   ],
   "source": [
    "len(authors)"
   ]
  },
  {
   "cell_type": "code",
   "execution_count": 11,
   "metadata": {},
   "outputs": [
    {
     "data": {
      "text/plain": [
       "['ZFM Burton, JM Moldowan, R Sykes, SA Graham',\n",
       " 'ZFM Burton, JM Moldowan, LB Magoon, R Sykes, SA Graham',\n",
       " 'JL Bishop, JD Toner, P Englert, VC Gulick, AS McEwen, ZFM Burton, ...']"
      ]
     },
     "execution_count": 11,
     "metadata": {},
     "output_type": "execute_result"
    }
   ],
   "source": [
    "authors[:3]"
   ]
  },
  {
   "cell_type": "code",
   "execution_count": 73,
   "metadata": {},
   "outputs": [
    {
     "data": {
      "text/plain": [
       "{'1': 11, '6': 2, '3': 2, '2': 2}"
      ]
     },
     "execution_count": 73,
     "metadata": {},
     "output_type": "execute_result"
    }
   ],
   "source": [
    "# get author position counts\n",
    "author_name = 'Zachary F. M. Burton'\n",
    "author_positions = {}\n",
    "\n",
    "author_lists = [names.split(', ') for names in authors]\n",
    "\n",
    "for names in author_lists:\n",
    "    match = process.extractOne(author_name, names)[0]\n",
    "    \n",
    "    for i, author in enumerate(names):\n",
    "        \n",
    "        if author == match:\n",
    "            if str(i+1) in author_positions:\n",
    "                author_positions[str(i+1)] += 1\n",
    "            else:\n",
    "                author_positions[str(i+1)] = 1\n",
    "            break\n",
    "            \n",
    "author_positions "
   ]
  },
  {
   "cell_type": "code",
   "execution_count": 78,
   "metadata": {},
   "outputs": [],
   "source": [
    "author_positions = OrderedDict(sorted(author_positions.items()))"
   ]
  },
  {
   "cell_type": "code",
   "execution_count": 83,
   "metadata": {},
   "outputs": [
    {
     "data": {
      "image/png": "[encoded data removed]",
      "text/plain": [
       "<Figure size 432x288 with 1 Axes>"
      ]
     },
     "metadata": {
      "needs_background": "light"
     },
     "output_type": "display_data"
    }
   ],
   "source": [
    "plt.bar(list(author_positions.keys()), list(author_positions.values()))\n",
    "plt.title(\"author positions\")\n",
    "plt.xlabel(\"placement\")\n",
    "plt.ylabel(\"frequency\");"
   ]
  },
  {
   "cell_type": "code",
   "execution_count": null,
   "metadata": {},
   "outputs": [],
   "source": []
  }
 ],
 "metadata": {
  "kernelspec": {
   "display_name": "Python 3",
   "language": "python",
   "name": "python3"
  },
  "language_info": {
   "codemirror_mode": {
    "name": "ipython",
    "version": 3
   },
   "file_extension": ".py",
   "mimetype": "text/x-python",
   "name": "python",
   "nbconvert_exporter": "python",
   "pygments_lexer": "ipython3",
   "version": "3.7.3"
  }
 },
 "nbformat": 4,
 "nbformat_minor": 4
}
