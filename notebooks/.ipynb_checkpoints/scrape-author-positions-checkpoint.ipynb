{
 "cells": [
  {
   "cell_type": "markdown",
   "metadata": {},
   "source": [
    "## Imports"
   ]
  },
  {
   "cell_type": "code",
   "execution_count": 1,
   "metadata": {},
   "outputs": [],
   "source": [
    "from collections import OrderedDict\n",
    "from bs4 import BeautifulSoup\n",
    "from fuzzywuzzy import process\n",
    "import altair as alt\n",
    "import pandas as pd\n",
    "\n",
    "from selenium.common.exceptions import TimeoutException\n",
    "from selenium.webdriver import Chrome, ChromeOptions\n",
    "from selenium.webdriver.common.by import By\n",
    "from selenium.webdriver.support import expected_conditions as EC\n",
    "from selenium.webdriver.support.ui import WebDriverWait"
   ]
  },
  {
   "cell_type": "markdown",
   "metadata": {},
   "source": [
    "# Scraping w/ Selenium "
   ]
  },
  {
   "cell_type": "code",
   "execution_count": 2,
   "metadata": {},
   "outputs": [],
   "source": [
    "zack_url = \"https://scholar.google.com/citations?user=X7FY3wUAAAAJ&hl=en&oi=ao\"\n",
    "hinton_url = \"https://scholar.google.com/citations?user=JicYPdAAAAAJ&hl=en&oi=ao\"\n",
    "malcolm_url = \"https://scholar.google.de/citations?user=bcO-7KwAAAAJ&hl=en&oi=ao\"\n",
    "tarnas_url = \"https://scholar.google.com/citations?hl=en&user=H9AJzHMAAAAJ&view_op=list_works),\"\n",
    "allegra_url = \"https://scholar.google.com/citations?user=CfnwDC4AAAAJ&hl=en\"\n",
    "kessler_url = \"https://scholar.google.com/citations?user=EicYvbwAAAAJ&hl=en&inst=5746887945952177237&oi=ao)\"\n",
    "foucault_url = \"https://scholar.google.com/citations?user=AKqYlxMAAAAJ&hl=en&inst=5746887945952177237&oi=ao)\"\n",
    "bourdieu_url = \"https://scholar.google.com/citations?user=d_lp40IAAAAJ&hl=en&inst=5746887945952177237&oi=ao),\"\n",
    "kremer_url = \"https://scholar.google.com/citations?user=Qx3D81gAAAAJ&hl=en&inst=5746887945952177237&oi=ao\""
   ]
  },
  {
   "cell_type": "code",
   "execution_count": 3,
   "metadata": {},
   "outputs": [],
   "source": [
    "options = ChromeOptions()\n",
    "options.headless = True\n",
    "driver = Chrome(options=options)"
   ]
  },
  {
   "cell_type": "code",
   "execution_count": 4,
   "metadata": {},
   "outputs": [],
   "source": [
    "button_xpath = \"/html/body/div/div[13]/div[2]/div/div[4]/form/div[2]/div/button\""
   ]
  },
  {
   "cell_type": "code",
   "execution_count": 5,
   "metadata": {
    "scrolled": true
   },
   "outputs": [
    {
     "name": "stdout",
     "output_type": "stream",
     "text": [
      "click number: 1\n",
      "not clickable\n",
      "number of publication links found:  85\n",
      "Wall time: 4.11 s\n"
     ]
    }
   ],
   "source": [
    "%%time\n",
    "# base_url = malcolm_url\n",
    "# base_url = zack_url\n",
    "# base_url = hinton_url\n",
    "# base_url = tarnas_url\n",
    "base_url = allegra_url\n",
    "# base_url = kessler_url\n",
    "# base_url = foucault_url\n",
    "# base_url = bourdieu_url\n",
    "# base_url = kremer_url\n",
    "driver.get(base_url)\n",
    "count = 0\n",
    "\n",
    "while True:  \n",
    "    try:\n",
    "        button = WebDriverWait(driver, 2).until(EC.element_to_be_clickable((By.XPATH, button_xpath)))\n",
    "        button.click()\n",
    "        count += 1\n",
    "        print(f\"click number: {count}\")\n",
    "        \n",
    "    except TimeoutException:\n",
    "        print('not clickable')\n",
    "        break\n",
    "        \n",
    "html = driver.page_source\n",
    "base_page = BeautifulSoup(html, \"lxml\")\n",
    "driver.close()\n",
    "\n",
    "links = []\n",
    "for td in base_page.find_all(\"td\", attrs={\"class\": \"gsc_a_t\"}):\n",
    "    link = td.find(\"a\").get(\"data-href\")\n",
    "    full_link = base_url.split(\"citations?\")[0] + link\n",
    "    links.append(full_link)\n",
    "print(\"number of publication links found: \", len(links))"
   ]
  },
  {
   "cell_type": "code",
   "execution_count": 6,
   "metadata": {},
   "outputs": [
    {
     "data": {
      "text/plain": [
       "bs4.BeautifulSoup"
      ]
     },
     "execution_count": 6,
     "metadata": {},
     "output_type": "execute_result"
    }
   ],
   "source": [
    "type(base_page)"
   ]
  },
  {
   "cell_type": "markdown",
   "metadata": {},
   "source": [
    "# Get data w/ BeautifulSoup"
   ]
  },
  {
   "cell_type": "markdown",
   "metadata": {},
   "source": [
    "### Get author name"
   ]
  },
  {
   "cell_type": "code",
   "execution_count": 7,
   "metadata": {},
   "outputs": [
    {
     "data": {
      "text/plain": [
       "'Allegra Hosford Scheirer'"
      ]
     },
     "execution_count": 7,
     "metadata": {},
     "output_type": "execute_result"
    }
   ],
   "source": [
    "page_title = base_page.find('title').string\n",
    "author_name = page_title.split(' - ')[0]\n",
    "author_name"
   ]
  },
  {
   "cell_type": "markdown",
   "metadata": {},
   "source": [
    "### Get current role"
   ]
  },
  {
   "cell_type": "code",
   "execution_count": 8,
   "metadata": {},
   "outputs": [
    {
     "data": {
      "text/plain": [
       "'Stanford University'"
      ]
     },
     "execution_count": 8,
     "metadata": {},
     "output_type": "execute_result"
    }
   ],
   "source": [
    "temp = []\n",
    "for x in base_page.find_all(\"div\", attrs={\"class\": \"gsc_prf_il\"}):\n",
    "    temp.append(x.text)\n",
    "    \n",
    "temp[0]"
   ]
  },
  {
   "cell_type": "markdown",
   "metadata": {},
   "source": [
    "### Exclude duplicate publications"
   ]
  },
  {
   "cell_type": "code",
   "execution_count": 30,
   "metadata": {
    "scrolled": false
   },
   "outputs": [
    {
     "name": "stdout",
     "output_type": "stream",
     "text": [
      "85\n"
     ]
    }
   ],
   "source": [
    "pubs_data = []\n",
    "for tr in base_page.find_all(\"tr\", attrs={\"class\": \"gsc_a_tr\"}):\n",
    "    # check if it contains an attribute specific to duplicates\n",
    "    if tr.find_all(\"a\")[1].has_attr(\"data-eud\"):\n",
    "        continue\n",
    "    \n",
    "    else:\n",
    "        td1, td2, td3 = tr.find_all(\"td\")\n",
    "        \n",
    "        authors = td1.find(\"div\").contents\n",
    "        if authors:\n",
    "            authors = authors[0].split(\", \")\n",
    "            # some author names have an \"*\" at the end\n",
    "            authors = [name[:-1] if name[-1] == \"*\" else name for name in authors]\n",
    "        else:\n",
    "            authors = None\n",
    "        \n",
    "        citations = td2.find(\"a\").contents\n",
    "        if len(citations) < 1:\n",
    "            citations = None\n",
    "        else:\n",
    "            citations = int(citations[0])\n",
    "            \n",
    "        year = td3.find(\"span\").contents    \n",
    "        if len(year) < 1:\n",
    "            year = None\n",
    "        else:\n",
    "            year = int(year[0])\n",
    "        \n",
    "        data = {\n",
    "            \"authors\": authors, \n",
    "            \"citations\": citations, \n",
    "            \"year\": year\n",
    "        }\n",
    "        pubs_data.append(data)\n",
    "    \n",
    "print(len(pubs_data))"
   ]
  },
  {
   "cell_type": "code",
   "execution_count": 23,
   "metadata": {
    "scrolled": false
   },
   "outputs": [],
   "source": [
    "# pubs_data[:2]"
   ]
  },
  {
   "cell_type": "code",
   "execution_count": 24,
   "metadata": {},
   "outputs": [
    {
     "data": {
      "text/plain": [
       "0"
      ]
     },
     "execution_count": 24,
     "metadata": {},
     "output_type": "execute_result"
    }
   ],
   "source": [
    "# number of missing authors\n",
    "len([pub[\"authors\"] for pub in pubs_data if not pub[\"authors\"]])"
   ]
  },
  {
   "cell_type": "markdown",
   "metadata": {},
   "source": [
    "### Get total citations"
   ]
  },
  {
   "cell_type": "code",
   "execution_count": 25,
   "metadata": {},
   "outputs": [
    {
     "name": "stdout",
     "output_type": "stream",
     "text": [
      "481\n"
     ]
    }
   ],
   "source": [
    "count = 0\n",
    "for pub in pubs_data:\n",
    "    if pub[\"citations\"]:\n",
    "        count += pub[\"citations\"]\n",
    "    \n",
    "print(count)"
   ]
  },
  {
   "cell_type": "markdown",
   "metadata": {},
   "source": [
    "### Get citation counts for each paper"
   ]
  },
  {
   "cell_type": "markdown",
   "metadata": {},
   "source": [
    "There are missing values from the years list because sometimes that section is blank on the website, but the year is listed in the title of the paper section instead.\n",
    "\n",
    "Also, it seems there are duplicate publications listed on some Google Scholar profiles. For example on Geoffrey Hinton's, \"Layer Normalization\" is listed three different times. Same authors, same journal (arXiv), but different citations counts.\n",
    "\n",
    "Google is not taking this into account in there h-index calculations b/c I reproduced theirs by including duplicates."
   ]
  },
  {
   "cell_type": "markdown",
   "metadata": {},
   "source": [
    "# Format data by year(to-do), co-author pos, & h-index"
   ]
  },
  {
   "cell_type": "markdown",
   "metadata": {},
   "source": [
    "### Get co-author positions"
   ]
  },
  {
   "cell_type": "code",
   "execution_count": 26,
   "metadata": {},
   "outputs": [],
   "source": [
    "# scary one-liner to convert int to ordinal representation (ex: 2 --> \"2nd\")\n",
    "# https://stackoverflow.com/questions/9647202/ordinal-numbers-replacement\n",
    "# ordinal = lambda n: \"%d%s\" % (n,\"tsnrhtdd\"[(n/10%10!=1)*(n%10<4)*n%10::4])"
   ]
  },
  {
   "cell_type": "code",
   "execution_count": 27,
   "metadata": {
    "scrolled": true
   },
   "outputs": [
    {
     "name": "stdout",
     "output_type": "stream",
     "text": [
      "author name:  Allegra Hosford Scheirer\n",
      "['1st', '4th', '4th', '1st', '≥6th']\n",
      "85\n"
     ]
    }
   ],
   "source": [
    "print(\"author name: \", author_name)\n",
    "\n",
    "def get_author_positions_lis(auth_name, auth_lists):\n",
    "    ordinal = lambda n: \"%d%s\" % (n,\"tsnrhtdd\"[(n/10%10!=1)*(n%10<4)*n%10::4])\n",
    "    author_positions_lis = []\n",
    "    \n",
    "    for names in auth_lists:\n",
    "        # check if there's any names scraped\n",
    "        if not names:\n",
    "            author_positions_lis.append(\"unknown\")\n",
    "            continue\n",
    "#         print(names)\n",
    "        try: \n",
    "            matches = process.extract(auth_name, names, limit=2)\n",
    "#             print(matches)\n",
    "            if matches:\n",
    "                # make sure they're not too far off origianl name\n",
    "                # cutoff score: 75\n",
    "                if matches[0][1] > 74:\n",
    "                    \n",
    "                    if len(matches) == 2:\n",
    "                        # if one's better, take that one\n",
    "                        if matches[0][1] > matches[1][1]:\n",
    "                            # check if matched last name included in author's full name\n",
    "                            matched_name = matches[0][0]\n",
    "                            matched_name_lis = matched_name.split()\n",
    "                            matched_last_name = matched_name_lis.pop()\n",
    "                            if matched_last_name in auth_name.split():\n",
    "                                match = matched_name\n",
    "                            else:\n",
    "                                match = None\n",
    "                \n",
    "                        else:\n",
    "                            full_name_lis = auth_name.split()\n",
    "                            last_name = full_name_lis.pop()\n",
    "                            initials = \"\".join([name[0] for name in full_name_lis])\n",
    "                            shortened_auth_name = initials + \" \" + last_name\n",
    "                            match = process.extractOne(shortened_auth_name, [name[0] for name in matches])[0]\n",
    "                    else:\n",
    "                        match = matches[0][0]\n",
    "                else:\n",
    "                    match = None\n",
    "                    \n",
    "        except TypeError: \n",
    "            match = None\n",
    "            print('no match')\n",
    "            \n",
    "        if match:\n",
    "            for i, author in enumerate(names):\n",
    "                if author == match:\n",
    "\n",
    "                    if i == len(names)-1 and i > 2:\n",
    "                        author_positions_lis.append('last')\n",
    "                    elif i > 4:\n",
    "                        author_positions_lis.append('≥6th')\n",
    "                    else:\n",
    "                        author_positions_lis.append(ordinal(i+1))\n",
    "                    break\n",
    "        else:\n",
    "            if len(names) > 4:\n",
    "                author_positions_lis.append('≥6th')\n",
    "            else:\n",
    "                author_positions_lis.append(ordinal(len(names)))\n",
    "            \n",
    "    return author_positions_lis\n",
    "\n",
    "author_positions_lis = get_author_positions_lis(author_name, [pub[\"authors\"] for pub in pubs_data])\n",
    "\n",
    "print(author_positions_lis[:5])\n",
    "print(len(author_positions_lis))"
   ]
  },
  {
   "cell_type": "code",
   "execution_count": 28,
   "metadata": {
    "scrolled": true
   },
   "outputs": [
    {
     "data": {
      "text/plain": [
       "{'1st', '2nd', '3rd', '4th', '5th', 'last', '≥6th'}"
      ]
     },
     "execution_count": 28,
     "metadata": {},
     "output_type": "execute_result"
    }
   ],
   "source": [
    "set(author_positions_lis)"
   ]
  },
  {
   "cell_type": "code",
   "execution_count": 29,
   "metadata": {},
   "outputs": [
    {
     "name": "stdout",
     "output_type": "stream",
     "text": [
      "(['A Hosford', 'M Tivey', 'T Matsumoto', 'H Dick', 'H Schouten', 'H Kinoshita'], '1st')\n",
      "(['AG Baines', 'MJ Cheadle', 'HJB Dick', 'AH Scheirer', 'BE John', 'NJ Kusznir', '...'], '4th')\n",
      "(['AG Baines', 'MJ Cheadle', 'HJB Dick', 'AH Scheirer', 'BE John', 'NJ Kusznir', '...'], '4th')\n",
      "(['AH Scheirer', 'LB Magoon'], '1st')\n",
      "(['LA Coogan', 'GM Thompson', 'CJ MacLeod', 'HJB Dick', 'SJ Edwards', '...'], '≥6th')\n",
      "(['A Hosford', 'J Lin', 'RS Detrick'], '1st')\n",
      "(['A Carter'], '1st')\n",
      "(['AH Scheirer', 'LB Magoon'], '1st')\n",
      "(['K McDougall', 'AH Scheirer'], '2nd')\n",
      "(['M He', 'S Graham', 'AH Scheirer', 'KE Peters'], '3rd')\n",
      "(['CL Johnson', 'SA Graham', 'A Hosford-Scheirer'], '3rd')\n",
      "(['KE Peters', 'LB Magoon', 'C Lampe', 'AH Scheirer', 'PG Lillis', 'DL Gautier'], '4th')\n",
      "(['RS Detrick', 'J Collins', 'G Kent', 'J Lin', 'D Toomey', 'A Barclay', 'E Hooft', '...'], '≥6th')\n",
      "(['F Baur', 'A Hosford Scheirer', 'K E. Peters'], '2nd')\n",
      "(['A Hosford'], '1st')\n",
      "(['KE Peters', 'O Schenk', 'AH Scheirer', 'B Wygrala', 'T Hantschel'], '3rd')\n",
      "(['DS Scheirer', 'AH Scheirer'], '2nd')\n",
      "(['DL Gautier', 'AH Scheirer'], '2nd')\n",
      "(['A Hosford', 'J Lin'], '1st')\n",
      "(['AH Scheirer', 'LB Magoon', 'KJ Bird', 'E Duncan', 'KE Peters'], '1st')\n",
      "(['WH AlKawai', 'T Mukerji', 'AH Scheirer', 'SA Graham'], '3rd')\n",
      "(['WH AlKawai', 'T Mukerji', 'AH Scheirer', 'SA Graham'], '3rd')\n",
      "(['A Hosford Scheirer', 'LB Magoon', 'KJ Bird', 'E Duncan', 'KE Peters'], '1st')\n",
      "(['AH Scheirer'], '1st')\n",
      "(['DL Gautier', 'AH Scheirer'], '2nd')\n",
      "(['I Yurchenko', 'SA Graham', 'M Al Ibrahim', 'A Hosford Scheirer'], 'last')\n",
      "(['B Jia', 'T Mukerji', 'AH Scheirer'], '3rd')\n",
      "(['AH Scheirer', 'LB Magoon'], '1st')\n",
      "(['T Menotti', 'A Hosford Scheirer', 'K Meisling', 'SA Graham'], '2nd')\n",
      "(['AH Scheirer', 'LB Magoon', 'KJ Bird', 'EA Duncan'], '1st')\n",
      "(['KA Durant', 'A Scheirer', 'S Graham', 'LB Magoon', 'KE Peters'], '2nd')\n",
      "(['M He', 'SA Graham', 'LB Magoon', 'A Hosford Scheirer', 'KE Peters'], '4th')\n",
      "(['AH Scheirer', 'ME Tennyson', 'LB Magoon', 'RR Charpentier', 'TA Cook', '...'], '1st')\n",
      "(['KE Peters', 'LB Magoon', 'C Lampe', 'A Hosford Scheirer', 'PG Lillis', '...'], '4th')\n",
      "(['M Tran', 'T Mukerji', 'A Hosford Scheirer'], '3rd')\n",
      "(['A Hosford Scheirer', 'KJ Bird'], '1st')\n",
      "(['ZFM Burton', 'KF Kroeger', 'A Hosford Scheirer', 'Y Seol', 'B Burgreen‐Chan', '...'], '3rd')\n",
      "(['W Thompson-Butler', 'KE Peters', 'LB Magoon', 'AH Scheirer', 'JM Moldowan', '...'], '4th')\n",
      "(['MA Al Ibrahim', 'T Mukerji', 'A Hosford Scheirer'], '3rd')\n",
      "(['ZFM Burton', 'A Hosford Scheirer', 'Y Seol', 'SA Graham'], '2nd')\n",
      "(['EH Hartz', 'S Medvedev', 'D Schmid', 'JI Faleide', 'K Iyer', 'AH Scheirer', '...'], '≥6th')\n",
      "(['T Chheda', 'T Mukerji', 'AH Scheirer', 'SA Graham'], '3rd')\n",
      "(['F Baur', 'AH Scheirer', 'KE Peters'], '2nd')\n",
      "(['Y Seol', 'PC Eze', 'L Dafov', 'S Haines', 'S Graham', 'T McHargue', 'A Scheirer'], 'last')\n",
      "(['LN Dafov', 'PC Eze', 'SS Haines', 'SA Graham', 'T McHargue', '...'], '≥6th')\n",
      "(['Y Tong', 'T Mukerji', 'A Scheirer'], '3rd')\n",
      "(['AH Scheirer'], '1st')\n",
      "(['KE Peters', 'SA Graham', 'LB Magoon', 'BJ Wygrala', 'C Lampe', 'AH Scheirer', '...'], '≥6th')\n",
      "(['AH Scheirer', 'LB Magoon'], '1st')\n",
      "(['DL Gautier', 'AH Scheirer'], '2nd')\n",
      "(['AH Scheirer', 'LB Magoon'], '1st')\n",
      "(['DL Gautier', 'AH Scheirer'], '2nd')\n",
      "(['AH Scheirer', 'LB Magoon'], '1st')\n",
      "(['KE Peters', 'LB Magoon', 'C Lampe', 'AH Scheirer', 'PG Lillis', 'DL Gautier'], '4th')\n",
      "(['AH Scheirer'], '1st')\n",
      "(['AH Scheirer'], '1st')\n",
      "(['DL Gautier', 'AH Scheirer', 'ME Tennyson', 'KE Peters', 'LB Magoon', 'PG Lillis', '...'], '2nd')\n",
      "(['AG Baines', 'MJ Cheadle', 'HJB Dick', 'AH Scheirer', 'BE John', 'NJ Kusznir', '...'], '4th')\n",
      "(['ME Tennyson', 'AH Scheirer', 'DL Gautier'], '2nd')\n",
      "(['AH Scheirer'], '1st')\n",
      "(['A HOSFORD SCHEIRER'], '1st')\n",
      "(['LB MAGOON', 'GE CLAYPOOL', 'DL GAUTIER', 'PG LILLIS', 'KE PETERS', '...'], '≥6th')\n",
      "(['A Hosford', 'M Tivey', 'T Matsumoto', 'H Dick', 'H Schouten', 'H Kinoshita'], '1st')\n",
      "(['A Hosford', 'M Tivey', 'T Matsumoto', 'H Dick', 'H Schouten', 'H Kinoshita'], '1st')\n",
      "(['G Baines', 'M Cheadle', 'H Dick', 'A Hosford', 'B John', 'N Kusznir', 'T Matsumoto', '...'], '4th')\n",
      "(['L Dafov', 'AH Scheirer', 'Y Seol', 'R Boswell', 'M Frye'], '2nd')\n",
      "(['M Mei', 'T Mukerji', 'A Burnham', 'L Magoon', 'N Schoellkopf', 'A Scheirer', '...'], '≥6th')\n",
      "(['AH Scheirer', 'M Al Ibrahim', 'T Chheda', 'A Aseev', 'A Pradhan', 'T Mukerji'], '1st')\n",
      "(['W Thompson-Butler', 'K Peters', 'L Magoon', 'JM Moldowan', 'AH Scheirer', '...'], '5th')\n",
      "(['M Al Ibrahim', 'T Mukerji', 'AH Scheirer'], '3rd')\n",
      "(['ZF Burton', 'JM Moldowan', 'AH Scheirer', 'S Graham'], '3rd')\n",
      "(['W Thompson-Butler', 'KE Peters', 'JM Moldowan', 'LB Magoon', 'AH Scheirer', '...'], '5th')\n",
      "(['LB Magoon', 'AH Scheirer'], '2nd')\n",
      "(['AH Scheirer', 'DL Gautier', 'ME Tennyson'], '1st')\n",
      "(['LB Magoon', 'PG Lillis', 'KE Peters', 'AH Scheirer', 'C Lampe', 'DL Gautier'], '4th')\n",
      "(['LE Schultz', 'AH Scheirer', 'SA Graham'], '2nd')\n",
      "(['AH Scheirer', 'DL Gautier', 'LB Magoon', 'KE Peters', 'ME Tennyson'], '1st')\n",
      "(['AH Scheirer', 'LB Magoon'], '1st')\n",
      "(['DL Gautier', 'AH Scheirer'], '2nd')\n",
      "(['AH Scheirer'], '1st')\n",
      "(['WH AlKawai', 'T Mukerji', 'SA Graham', 'AH Scheirer'], 'last')\n",
      "(['AH Scheirer', 'ME Tennyson', 'LB Magoon', 'RR Charpentier', 'TA Cook', '...'], '1st')\n",
      "(['ME Tennyson', 'AH Scheirer'], '2nd')\n",
      "(['AH SChEIrEr', 'LB Magoon'], '2nd')\n",
      "(['W Thompson-Butler', 'KE Peters', 'LB Magoon', 'AH Scheirer', 'SA Graham'], '4th')\n"
     ]
    }
   ],
   "source": [
    "for i in zip([pub[\"authors\"] for pub in pubs_data],author_positions_lis):\n",
    "    print(i)"
   ]
  },
  {
   "cell_type": "code",
   "execution_count": 17,
   "metadata": {},
   "outputs": [],
   "source": [
    "test_names = [\n",
    "    {\n",
    "        \"name\": \"Allegra Hosford Scheirer\",\n",
    "        \"tests\": [\n",
    "            {\"names_lis\": ['A Hosford Scheirer*', 'LB Magoon', 'KJ Bird', 'E Duncan', 'KE Peters'], \"position\": \"1st\"},\n",
    "            {\"names_lis\": ['DS Scheirer', 'AH Scheirer'], \"position\": \"2nd\"},\n",
    "            {\"names_lis\": ['A Hosford', 'J Lin', 'RS Detrick'], \"position\": \"1st\"},\n",
    "            {\"names_lis\": ['A Carter'], \"position\": \"1st\"},\n",
    "            {\"names_lis\": ['A Hosford'], \"position\": \"1st\"},\n",
    "            {\"names_lis\": ['KE Peters', 'O Schenk', 'AH Scheirer', 'B Wygrala', 'T Hantschel'], \"position\": \"3rd\"},\n",
    "            {\"names_lis\": ['AG Baines', 'MJ Cheadle', 'HJB Dick', 'AH Scheirer', 'BE John', 'NJ Kusznir', '...'], \"position\": \"4th\"}\n",
    "        ]\n",
    "    },\n",
    "    {\n",
    "        \"name\": \"Christopher H. Kremer\",\n",
    "        \"tests\": [\n",
    "            {\"names_lis\": ['CH Kremer', 'MS Bramble', 'JF Mustard'], \"position\": \"1st\"},\n",
    "            {\"names_lis\": ['JD Tarnas', 'JF Mustard', 'H Lin', 'TA Goudge', 'ES Amador', 'MS Bramble', '...'], \"position\": \"≥6th\"},\n",
    "            {\"names_lis\": ['C Kremer', 'JF Mustard', 'CM Pieters'], \"position\": \"1st\"}\n",
    "        ]\n",
    "    },\n",
    "    {\n",
    "        \"name\": \"Jesse Tarnas\",\n",
    "        \"tests\": [\n",
    "            {\"names_lis\": ['DM Persaud', 'TS Wu', 'J Tarnas', 'M Preudhomme', 'M Jurg', 'C Chalumeau', '...'], \"position\": \"3rd\"},\n",
    "            {\"names_lis\": ['JF Mustard', 'JD Tarnas'], \"position\": \"2nd\"},\n",
    "            {\"names_lis\": ['M Parente', 'RE Arvidson', 'Y Itoh', 'H Lin', 'JF Mustard', 'AM Saranathan', '...'], \"position\": \"≥6th\"}\n",
    "        ]\n",
    "    },\n",
    "    {\n",
    "        \"name\": \"Ronald C Kessler\",\n",
    "        \"tests\": [\n",
    "            {\"names_lis\": None, \"position\": \"unknown\"},\n",
    "            {\"names_lis\": ['RC Kessler', 'WT Chiu', 'O Demler', 'EE Walters'], \"position\": \"1st\"},\n",
    "            {\"names_lis\": ['DM Eisenberg', 'RB Davis', 'SL Ettner', 'S Appel', 'S Wilkey', 'M Van Rompay', '...'], \"position\": \"≥6h\"},\n",
    "            {\"names_lis\": ['JI Hudson', 'E Hiripi', 'HG Pope Jr', 'RC Kessler'], \"position\": \"last\"},\n",
    "            {\"names_lis\": ['J Elster'], \"position\": \"unknown\"},\n",
    "            {\"names_lis\": ['ESEMeD/MHEDEA 2000 Investigators', 'J Alonso', 'MC Angermeyer', '...'], \"position\": \"unknown\"},\n",
    "            {\"names_lis\": ['KS Kendler', 'RC Kessler', 'EE Walters', 'C MacLean', 'MC Neale', 'AC Heath', '...'], \"position\": \"2nd\"}\n",
    "        ]\n",
    "    }\n",
    "]\n"
   ]
  },
  {
   "cell_type": "markdown",
   "metadata": {},
   "source": [
    "### Group citations by co-author position"
   ]
  },
  {
   "cell_type": "code",
   "execution_count": 231,
   "metadata": {},
   "outputs": [
    {
     "data": {
      "text/plain": [
       "dict_keys(['1st', '2nd', '3rd', '4th', '5th', 'last', 'unknown', '≥6th'])"
      ]
     },
     "execution_count": 231,
     "metadata": {},
     "output_type": "execute_result"
    }
   ],
   "source": [
    "def get_pos_dfs(pos_lis, num_lis):\n",
    "    citations_positions_df = pd.DataFrame(list(zip(pos_lis, num_lis)), columns =['positions', 'citations']) \n",
    "    return dict(tuple(citations_positions_df.groupby('positions')))\n",
    "\n",
    "citations_lis = [pub[\"citations\"] for pub in pubs_data]\n",
    "dfs = get_pos_dfs(author_positions_lis, citations_lis)\n",
    "dfs.keys()"
   ]
  },
  {
   "cell_type": "code",
   "execution_count": 232,
   "metadata": {
    "scrolled": false
   },
   "outputs": [
    {
     "data": {
      "text/html": [
       "<div>\n",
       "<style scoped>\n",
       "    .dataframe tbody tr th:only-of-type {\n",
       "        vertical-align: middle;\n",
       "    }\n",
       "\n",
       "    .dataframe tbody tr th {\n",
       "        vertical-align: top;\n",
       "    }\n",
       "\n",
       "    .dataframe thead th {\n",
       "        text-align: right;\n",
       "    }\n",
       "</style>\n",
       "<table border=\"1\" class=\"dataframe\">\n",
       "  <thead>\n",
       "    <tr style=\"text-align: right;\">\n",
       "      <th></th>\n",
       "      <th>positions</th>\n",
       "      <th>citations</th>\n",
       "    </tr>\n",
       "  </thead>\n",
       "  <tbody>\n",
       "    <tr>\n",
       "      <th>0</th>\n",
       "      <td>1st</td>\n",
       "      <td>25901.0</td>\n",
       "    </tr>\n",
       "    <tr>\n",
       "      <th>1</th>\n",
       "      <td>1st</td>\n",
       "      <td>16783.0</td>\n",
       "    </tr>\n",
       "    <tr>\n",
       "      <th>2</th>\n",
       "      <td>1st</td>\n",
       "      <td>12886.0</td>\n",
       "    </tr>\n",
       "    <tr>\n",
       "      <th>3</th>\n",
       "      <td>1st</td>\n",
       "      <td>12850.0</td>\n",
       "    </tr>\n",
       "    <tr>\n",
       "      <th>5</th>\n",
       "      <td>1st</td>\n",
       "      <td>6048.0</td>\n",
       "    </tr>\n",
       "  </tbody>\n",
       "</table>\n",
       "</div>"
      ],
      "text/plain": [
       "  positions  citations\n",
       "0       1st    25901.0\n",
       "1       1st    16783.0\n",
       "2       1st    12886.0\n",
       "3       1st    12850.0\n",
       "5       1st     6048.0"
      ]
     },
     "execution_count": 232,
     "metadata": {},
     "output_type": "execute_result"
    }
   ],
   "source": [
    "dfs['1st'].head()"
   ]
  },
  {
   "cell_type": "markdown",
   "metadata": {},
   "source": [
    "### Check equal number of auth positions, years, & citations"
   ]
  },
  {
   "cell_type": "code",
   "execution_count": 233,
   "metadata": {},
   "outputs": [],
   "source": [
    "years = [pub[\"year\"] for pub in pubs_data]\n",
    "\n",
    "assert len(years) == len(citations_lis) == len(author_positions_lis)"
   ]
  },
  {
   "cell_type": "code",
   "execution_count": 234,
   "metadata": {},
   "outputs": [
    {
     "name": "stdout",
     "output_type": "stream",
     "text": [
      "number of missing years:  156\n",
      "number of missing citations counts:  490\n",
      "number of missing positions:  0\n"
     ]
    }
   ],
   "source": [
    "def missing_vals(lis): return len([x for x in lis if not x])\n",
    "\n",
    "print(\"number of missing years: \", missing_vals(years))\n",
    "print(\"number of missing citations counts: \", missing_vals(citations_lis))\n",
    "print(\"number of missing positions: \", missing_vals(author_positions_lis))"
   ]
  },
  {
   "cell_type": "code",
   "execution_count": 235,
   "metadata": {},
   "outputs": [
    {
     "name": "stdout",
     "output_type": "stream",
     "text": [
      "48\n",
      "[150, 83, 79, 18, 16, 16, 14, 14, 13, 12, 12, 11, 10, 9, 9, 9, 8, 7, 7, 6, 6, 6, 6, 5, 5, 5, 5, 5, 5, 5, 5, 5, 5, 5, 5, 4, 3, 3, 3, 3, 3, 3, 2, 2, 2, 2, 2, 1]\n"
     ]
    }
   ],
   "source": [
    "# get citations that don't have year info\n",
    "count = 0\n",
    "test = []\n",
    "for i in range(len(years)):\n",
    "    if not years[i] and citations_lis[i]:\n",
    "        count += 1\n",
    "        test.append(citations_lis[i])\n",
    "        \n",
    "print(count)\n",
    "print(test)"
   ]
  },
  {
   "cell_type": "code",
   "execution_count": 256,
   "metadata": {},
   "outputs": [
    {
     "name": "stdout",
     "output_type": "stream",
     "text": [
      "382\n"
     ]
    }
   ],
   "source": [
    "# get years that don't have citation info\n",
    "test = []\n",
    "for i in range(len(years)):\n",
    "    if years[i] and not citations_lis[i]:\n",
    "        test.append(years[i])\n",
    "\n",
    "print(len(test))\n",
    "# print(test)"
   ]
  },
  {
   "cell_type": "markdown",
   "metadata": {},
   "source": [
    "### Get h-indexes by co-author position"
   ]
  },
  {
   "cell_type": "code",
   "execution_count": 237,
   "metadata": {},
   "outputs": [],
   "source": [
    "def get_hindexes_dict(dataframes):\n",
    "    hindexes_dict = {}\n",
    "    \n",
    "    for k, df in dataframes.items():\n",
    "        df.sort_values('citations')\n",
    "        df.index += 1\n",
    "        df = df.reset_index()\n",
    "        df = df.query('citations >= index')\n",
    "        # checking if there are no citations\n",
    "#         if df.shape[0] <= 0:\n",
    "#             hindexes_dict[k] = 0\n",
    "#         else:\n",
    "        hindexes_dict[k] = df.shape[0]\n",
    "        \n",
    "    return hindexes_dict\n",
    "        \n",
    "hindexes_d = get_hindexes_dict(dfs)"
   ]
  },
  {
   "cell_type": "code",
   "execution_count": 238,
   "metadata": {},
   "outputs": [
    {
     "data": {
      "text/plain": [
       "{'1st': 108,\n",
       " '2nd': 36,\n",
       " '3rd': 41,\n",
       " '4th': 23,\n",
       " '5th': 7,\n",
       " 'last': 27,\n",
       " 'unknown': 0,\n",
       " '≥6th': 50}"
      ]
     },
     "execution_count": 238,
     "metadata": {},
     "output_type": "execute_result"
    }
   ],
   "source": [
    "# excluding co-author position w/ h-index of zero\n",
    "hindexes_d"
   ]
  },
  {
   "cell_type": "code",
   "execution_count": 239,
   "metadata": {},
   "outputs": [
    {
     "data": {
      "text/plain": [
       "292"
      ]
     },
     "execution_count": 239,
     "metadata": {},
     "output_type": "execute_result"
    }
   ],
   "source": [
    "sum(hindexes_d.values())"
   ]
  },
  {
   "cell_type": "code",
   "execution_count": 240,
   "metadata": {},
   "outputs": [
    {
     "data": {
      "text/plain": [
       "292"
      ]
     },
     "execution_count": 240,
     "metadata": {},
     "output_type": "execute_result"
    }
   ],
   "source": [
    "# Regular h-index (same as Google's)\n",
    "temp_df = pd.DataFrame({\"citations\": citations_lis})\n",
    "temp_df.sort_values('citations')\n",
    "temp_df.index += 1\n",
    "temp_df = temp_df.reset_index()\n",
    "temp_df = temp_df.query('citations >= index')\n",
    "temp_df.shape[0]"
   ]
  },
  {
   "cell_type": "code",
   "execution_count": 241,
   "metadata": {},
   "outputs": [
    {
     "data": {
      "text/html": [
       "<div>\n",
       "<style scoped>\n",
       "    .dataframe tbody tr th:only-of-type {\n",
       "        vertical-align: middle;\n",
       "    }\n",
       "\n",
       "    .dataframe tbody tr th {\n",
       "        vertical-align: top;\n",
       "    }\n",
       "\n",
       "    .dataframe thead th {\n",
       "        text-align: right;\n",
       "    }\n",
       "</style>\n",
       "<table border=\"1\" class=\"dataframe\">\n",
       "  <thead>\n",
       "    <tr style=\"text-align: right;\">\n",
       "      <th></th>\n",
       "      <th>h-index</th>\n",
       "    </tr>\n",
       "    <tr>\n",
       "      <th>position</th>\n",
       "      <th></th>\n",
       "    </tr>\n",
       "  </thead>\n",
       "  <tbody>\n",
       "    <tr>\n",
       "      <th>1st</th>\n",
       "      <td>108</td>\n",
       "    </tr>\n",
       "    <tr>\n",
       "      <th>2nd</th>\n",
       "      <td>36</td>\n",
       "    </tr>\n",
       "    <tr>\n",
       "      <th>3rd</th>\n",
       "      <td>41</td>\n",
       "    </tr>\n",
       "    <tr>\n",
       "      <th>4th</th>\n",
       "      <td>23</td>\n",
       "    </tr>\n",
       "    <tr>\n",
       "      <th>5th</th>\n",
       "      <td>7</td>\n",
       "    </tr>\n",
       "    <tr>\n",
       "      <th>last</th>\n",
       "      <td>27</td>\n",
       "    </tr>\n",
       "    <tr>\n",
       "      <th>unknown</th>\n",
       "      <td>0</td>\n",
       "    </tr>\n",
       "    <tr>\n",
       "      <th>≥6th</th>\n",
       "      <td>50</td>\n",
       "    </tr>\n",
       "  </tbody>\n",
       "</table>\n",
       "</div>"
      ],
      "text/plain": [
       "          h-index\n",
       "position         \n",
       "1st           108\n",
       "2nd            36\n",
       "3rd            41\n",
       "4th            23\n",
       "5th             7\n",
       "last           27\n",
       "unknown         0\n",
       "≥6th           50"
      ]
     },
     "execution_count": 241,
     "metadata": {},
     "output_type": "execute_result"
    }
   ],
   "source": [
    "pd.DataFrame({'position': list(hindexes_d.keys()), 'h-index': list(hindexes_d.values())}).set_index('position')"
   ]
  },
  {
   "cell_type": "markdown",
   "metadata": {},
   "source": [
    "# Format data for plotting"
   ]
  },
  {
   "cell_type": "code",
   "execution_count": 242,
   "metadata": {},
   "outputs": [
    {
     "name": "stdout",
     "output_type": "stream",
     "text": [
      "author_positions: {'1st': 444, '≥6th': 436, '2nd': 184, 'last': 89, '3rd': 144, '4th': 76, '5th': 36, 'unknown': 1}\n",
      "citations_by_author_position: {'1st': 192376, '≥6th': 65262, '2nd': 46151, 'last': 30234, '3rd': 38955, '4th': 21442, '5th': 8101, 'unknown': 11}\n"
     ]
    }
   ],
   "source": [
    "def get_counts_dicts(pos_lis, num_lis):\n",
    "    d1 = {}\n",
    "    d2 = {}\n",
    "\n",
    "    for position, num in zip(pos_lis, num_lis):\n",
    "        if not num:\n",
    "            continue\n",
    "        else: \n",
    "            if position in d1:\n",
    "                d1[position] += 1\n",
    "                d2[position] += num\n",
    "            else:\n",
    "                d1[position] = 1\n",
    "                d2[position] = num\n",
    "    return d1, d2\n",
    "        \n",
    "author_positions, citations_by_author_position = get_counts_dicts(author_positions_lis, citations_lis)\n",
    "\n",
    "print(f'author_positions: {author_positions}')\n",
    "print(f'citations_by_author_position: {citations_by_author_position}')"
   ]
  },
  {
   "cell_type": "code",
   "execution_count": 243,
   "metadata": {},
   "outputs": [],
   "source": [
    "author_positions = OrderedDict(sorted(author_positions.items()))\n",
    "citations = OrderedDict(sorted(citations_by_author_position.items()))"
   ]
  },
  {
   "cell_type": "code",
   "execution_count": 244,
   "metadata": {},
   "outputs": [],
   "source": [
    "if \"last\" in author_positions:\n",
    "    author_positions.move_to_end('last')\n",
    "if \"last\" in citations:\n",
    "    citations.move_to_end('last')"
   ]
  },
  {
   "cell_type": "code",
   "execution_count": 257,
   "metadata": {},
   "outputs": [],
   "source": [
    "# citations"
   ]
  },
  {
   "cell_type": "code",
   "execution_count": 258,
   "metadata": {},
   "outputs": [],
   "source": [
    "# author_positions"
   ]
  },
  {
   "cell_type": "code",
   "execution_count": 247,
   "metadata": {},
   "outputs": [],
   "source": [
    "lis1 = list(citations.keys())\n",
    "lis2 = list(citations.values())"
   ]
  },
  {
   "cell_type": "code",
   "execution_count": 248,
   "metadata": {
    "scrolled": false
   },
   "outputs": [
    {
     "data": {
      "text/html": [
       "<div>\n",
       "<style scoped>\n",
       "    .dataframe tbody tr th:only-of-type {\n",
       "        vertical-align: middle;\n",
       "    }\n",
       "\n",
       "    .dataframe tbody tr th {\n",
       "        vertical-align: top;\n",
       "    }\n",
       "\n",
       "    .dataframe thead th {\n",
       "        text-align: right;\n",
       "    }\n",
       "</style>\n",
       "<table border=\"1\" class=\"dataframe\">\n",
       "  <thead>\n",
       "    <tr style=\"text-align: right;\">\n",
       "      <th></th>\n",
       "      <th>positions</th>\n",
       "      <th>citations</th>\n",
       "    </tr>\n",
       "  </thead>\n",
       "  <tbody>\n",
       "    <tr>\n",
       "      <th>0</th>\n",
       "      <td>1st</td>\n",
       "      <td>0.48</td>\n",
       "    </tr>\n",
       "    <tr>\n",
       "      <th>1</th>\n",
       "      <td>2nd</td>\n",
       "      <td>0.11</td>\n",
       "    </tr>\n",
       "    <tr>\n",
       "      <th>2</th>\n",
       "      <td>3rd</td>\n",
       "      <td>0.10</td>\n",
       "    </tr>\n",
       "    <tr>\n",
       "      <th>3</th>\n",
       "      <td>4th</td>\n",
       "      <td>0.05</td>\n",
       "    </tr>\n",
       "    <tr>\n",
       "      <th>4</th>\n",
       "      <td>5th</td>\n",
       "      <td>0.02</td>\n",
       "    </tr>\n",
       "    <tr>\n",
       "      <th>5</th>\n",
       "      <td>unknown</td>\n",
       "      <td>0.00</td>\n",
       "    </tr>\n",
       "    <tr>\n",
       "      <th>6</th>\n",
       "      <td>≥6th</td>\n",
       "      <td>0.16</td>\n",
       "    </tr>\n",
       "    <tr>\n",
       "      <th>7</th>\n",
       "      <td>last</td>\n",
       "      <td>0.08</td>\n",
       "    </tr>\n",
       "  </tbody>\n",
       "</table>\n",
       "</div>"
      ],
      "text/plain": [
       "  positions  citations\n",
       "0       1st       0.48\n",
       "1       2nd       0.11\n",
       "2       3rd       0.10\n",
       "3       4th       0.05\n",
       "4       5th       0.02\n",
       "5   unknown       0.00\n",
       "6      ≥6th       0.16\n",
       "7      last       0.08"
      ]
     },
     "execution_count": 248,
     "metadata": {},
     "output_type": "execute_result"
    }
   ],
   "source": [
    "df = pd.DataFrame({\n",
    "                \"positions\": lis1,\n",
    "                \"citations\": lis2\n",
    "            })\n",
    "percents_df = df.copy()\n",
    "percents_df.citations = (100 * df.citations / df.citations.sum()).round(0)\n",
    "percents_df.citations = percents_df.citations / 100\n",
    "# percents_df = percents_df.fillna(0)\n",
    "percents_df"
   ]
  },
  {
   "cell_type": "markdown",
   "metadata": {},
   "source": [
    "# Plot w/ Altair"
   ]
  },
  {
   "cell_type": "code",
   "execution_count": 249,
   "metadata": {},
   "outputs": [
    {
     "data": {
      "text/html": [
       "\n",
       "<div id=\"altair-viz-cb5c4288aa9f4a9e89fc1747b5cee068\"></div>\n",
       "<script type=\"text/javascript\">\n",
       "  (function(spec, embedOpt){\n",
       "    const outputDiv = document.getElementById(\"altair-viz-cb5c4288aa9f4a9e89fc1747b5cee068\");\n",
       "    const paths = {\n",
       "      \"vega\": \"https://cdn.jsdelivr.net/npm//vega@5?noext\",\n",
       "      \"vega-lib\": \"https://cdn.jsdelivr.net/npm//vega-lib?noext\",\n",
       "      \"vega-lite\": \"https://cdn.jsdelivr.net/npm//vega-lite@4.0.2?noext\",\n",
       "      \"vega-embed\": \"https://cdn.jsdelivr.net/npm//vega-embed@6?noext\",\n",
       "    };\n",
       "\n",
       "    function loadScript(lib) {\n",
       "      return new Promise(function(resolve, reject) {\n",
       "        var s = document.createElement('script');\n",
       "        s.src = paths[lib];\n",
       "        s.async = true;\n",
       "        s.onload = () => resolve(paths[lib]);\n",
       "        s.onerror = () => reject(`Error loading script: ${paths[lib]}`);\n",
       "        document.getElementsByTagName(\"head\")[0].appendChild(s);\n",
       "      });\n",
       "    }\n",
       "\n",
       "    function showError(err) {\n",
       "      outputDiv.innerHTML = `<div class=\"error\" style=\"color:red;\">${err}</div>`;\n",
       "      throw err;\n",
       "    }\n",
       "\n",
       "    function displayChart(vegaEmbed) {\n",
       "      vegaEmbed(outputDiv, spec, embedOpt)\n",
       "        .catch(err => showError(`Javascript Error: ${err.message}<br>This usually means there's a typo in your chart specification. See the javascript console for the full traceback.`));\n",
       "    }\n",
       "\n",
       "    if(typeof define === \"function\" && define.amd) {\n",
       "      requirejs.config({paths});\n",
       "      require([\"vega-embed\"], displayChart, err => showError(`Error loading script: ${err.message}`));\n",
       "    } else if (typeof vegaEmbed === \"function\") {\n",
       "      displayChart(vegaEmbed);\n",
       "    } else {\n",
       "      loadScript(\"vega\")\n",
       "        .then(() => loadScript(\"vega-lite\"))\n",
       "        .then(() => loadScript(\"vega-embed\"))\n",
       "        .catch(showError)\n",
       "        .then(() => displayChart(vegaEmbed));\n",
       "    }\n",
       "  })({\"config\": {\"view\": {\"continuousWidth\": 400, \"continuousHeight\": 300, \"strokeWidth\": 0}, \"axisX\": {\"labelAngle\": 0}}, \"data\": {\"name\": \"data-e2278d471789a4d65b142068324739b5\"}, \"mark\": \"bar\", \"encoding\": {\"color\": {\"type\": \"nominal\", \"field\": \"positions\", \"legend\": null, \"scale\": {\"scheme\": \"greenblue\"}}, \"x\": {\"type\": \"quantitative\", \"axis\": {\"format\": \"%\"}, \"field\": \"citations\"}, \"y\": {\"type\": \"nominal\", \"field\": \"positions\", \"sort\": null}}, \"title\": \"portion of total citations by co-author position\", \"$schema\": \"https://vega.github.io/schema/vega-lite/v4.0.2.json\", \"datasets\": {\"data-e2278d471789a4d65b142068324739b5\": [{\"positions\": \"1st\", \"citations\": 0.48}, {\"positions\": \"2nd\", \"citations\": 0.11}, {\"positions\": \"3rd\", \"citations\": 0.1}, {\"positions\": \"4th\", \"citations\": 0.05}, {\"positions\": \"5th\", \"citations\": 0.02}, {\"positions\": \"unknown\", \"citations\": 0.0}, {\"positions\": \"\\u22656th\", \"citations\": 0.16}, {\"positions\": \"last\", \"citations\": 0.08}]}}, {\"mode\": \"vega-lite\"});\n",
       "</script>"
      ],
      "text/plain": [
       "alt.Chart(...)"
      ]
     },
     "metadata": {},
     "output_type": "display_data"
    }
   ],
   "source": [
    "def bar_chart(df):\n",
    "    return alt.Chart(df).mark_bar().encode(\n",
    "        alt.X('citations', axis=alt.Axis(format='%')),\n",
    "        alt.Y('positions', sort=None),\n",
    "        color=alt.Color(\n",
    "            \"positions\", \n",
    "            scale=alt.Scale(scheme=\"greenblue\"), \n",
    "            legend=None\n",
    "            )\n",
    "        ).properties(\n",
    "            title='portion of total citations by co-author position'\n",
    "        ).configure_axisX(\n",
    "            labelAngle=0\n",
    "        ).configure_view(\n",
    "            strokeWidth=0\n",
    "        )\n",
    "\n",
    "\n",
    "bar_chart(percents_df).display()"
   ]
  }
 ],
 "metadata": {
  "kernelspec": {
   "display_name": "Python 3",
   "language": "python",
   "name": "python3"
  },
  "language_info": {
   "codemirror_mode": {
    "name": "ipython",
    "version": 3
   },
   "file_extension": ".py",
   "mimetype": "text/x-python",
   "name": "python",
   "nbconvert_exporter": "python",
   "pygments_lexer": "ipython3",
   "version": "3.7.3"
  }
 },
 "nbformat": 4,
 "nbformat_minor": 4
}
