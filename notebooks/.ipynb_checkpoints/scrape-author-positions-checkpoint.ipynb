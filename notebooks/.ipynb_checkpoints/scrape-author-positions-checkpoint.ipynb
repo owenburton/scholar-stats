{
 "cells": [
  {
   "cell_type": "markdown",
   "metadata": {},
   "source": [
    "## Imports"
   ]
  },
  {
   "cell_type": "code",
   "execution_count": 106,
   "metadata": {},
   "outputs": [],
   "source": [
    "from collections import OrderedDict\n",
    "from bs4 import BeautifulSoup\n",
    "from fuzzywuzzy import process\n",
    "import altair as alt\n",
    "import pandas as pd\n",
    "from typing import List\n",
    "\n",
    "from selenium.common.exceptions import TimeoutException\n",
    "from selenium.webdriver import Chrome, ChromeOptions\n",
    "from selenium.webdriver.common.by import By\n",
    "from selenium.webdriver.support import expected_conditions as EC\n",
    "from selenium.webdriver.support.ui import WebDriverWait"
   ]
  },
  {
   "cell_type": "markdown",
   "metadata": {},
   "source": [
    "# Scraping w/ Selenium "
   ]
  },
  {
   "cell_type": "code",
   "execution_count": 107,
   "metadata": {},
   "outputs": [],
   "source": [
    "zack_url = \"https://scholar.google.com/citations?user=X7FY3wUAAAAJ&hl=en&oi=ao\"\n",
    "hinton_url = \"https://scholar.google.com/citations?user=JicYPdAAAAAJ&hl=en&oi=ao\"\n",
    "malcolm_url = \"https://scholar.google.de/citations?user=bcO-7KwAAAAJ&hl=en&oi=ao\"\n",
    "tarnas_url = \"https://scholar.google.com/citations?hl=en&user=H9AJzHMAAAAJ&view_op=list_works),\"\n",
    "allegra_url = \"https://scholar.google.com/citations?user=CfnwDC4AAAAJ&hl=en\"\n",
    "kessler_url = \"https://scholar.google.com/citations?user=EicYvbwAAAAJ&hl=en&inst=5746887945952177237&oi=ao)\"\n",
    "foucault_url = \"https://scholar.google.com/citations?user=AKqYlxMAAAAJ&hl=en&inst=5746887945952177237&oi=ao)\"\n",
    "bourdieu_url = \"https://scholar.google.com/citations?user=d_lp40IAAAAJ&hl=en&inst=5746887945952177237&oi=ao),\"\n",
    "kremer_url = \"https://scholar.google.com/citations?user=Qx3D81gAAAAJ&hl=en&inst=5746887945952177237&oi=ao\""
   ]
  },
  {
   "cell_type": "code",
   "execution_count": 108,
   "metadata": {},
   "outputs": [],
   "source": [
    "options = ChromeOptions()\n",
    "options.headless = True\n",
    "driver = Chrome(options=options)\n",
    "\n",
    "button_xpath = \"/html/body/div/div[13]/div[2]/div/div[4]/form/div[2]/div/button\""
   ]
  },
  {
   "cell_type": "code",
   "execution_count": 109,
   "metadata": {
    "scrolled": true
   },
   "outputs": [
    {
     "name": "stdout",
     "output_type": "stream",
     "text": [
      "click number: 1\n",
      "not clickable\n",
      "number of publication links found:  85\n",
      "Wall time: 4.03 s\n"
     ]
    }
   ],
   "source": [
    "%%time\n",
    "# base_url = malcolm_url\n",
    "# base_url = zack_url\n",
    "# base_url = hinton_url\n",
    "# base_url = tarnas_url\n",
    "base_url = allegra_url\n",
    "# base_url = kessler_url\n",
    "# base_url = foucault_url\n",
    "# base_url = bourdieu_url\n",
    "# base_url = kremer_url\n",
    "driver.get(base_url)\n",
    "count = 0\n",
    "\n",
    "while True:  \n",
    "    try:\n",
    "        button = WebDriverWait(driver, 2).until(EC.element_to_be_clickable((By.XPATH, button_xpath)))\n",
    "        button.click()\n",
    "        count += 1\n",
    "        print(f\"click number: {count}\")\n",
    "        \n",
    "    except TimeoutException:\n",
    "        print('not clickable')\n",
    "        break\n",
    "        \n",
    "html = driver.page_source\n",
    "base_page = BeautifulSoup(html, \"lxml\")\n",
    "driver.close()\n",
    "\n",
    "links = []\n",
    "for td in base_page.find_all(\"td\", attrs={\"class\": \"gsc_a_t\"}):\n",
    "    link = td.find(\"a\").get(\"data-href\")\n",
    "    full_link = base_url.split(\"citations?\")[0] + link\n",
    "    links.append(full_link)\n",
    "print(\"number of publication links found: \", len(links))"
   ]
  },
  {
   "cell_type": "markdown",
   "metadata": {},
   "source": [
    "# Get data w/ BeautifulSoup"
   ]
  },
  {
   "cell_type": "markdown",
   "metadata": {},
   "source": [
    "### Get author name"
   ]
  },
  {
   "cell_type": "code",
   "execution_count": 110,
   "metadata": {},
   "outputs": [
    {
     "data": {
      "text/plain": [
       "'Allegra Hosford Scheirer'"
      ]
     },
     "execution_count": 110,
     "metadata": {},
     "output_type": "execute_result"
    }
   ],
   "source": [
    "page_title = base_page.find('title').string\n",
    "author_name = page_title.split(' - ')[0]\n",
    "author_name"
   ]
  },
  {
   "cell_type": "markdown",
   "metadata": {},
   "source": [
    "### Get current role"
   ]
  },
  {
   "cell_type": "code",
   "execution_count": 111,
   "metadata": {},
   "outputs": [
    {
     "data": {
      "text/plain": [
       "'Stanford University'"
      ]
     },
     "execution_count": 111,
     "metadata": {},
     "output_type": "execute_result"
    }
   ],
   "source": [
    "temp = []\n",
    "for x in base_page.find_all(\"div\", attrs={\"class\": \"gsc_prf_il\"}):\n",
    "    temp.append(x.text)\n",
    "    \n",
    "temp[0]"
   ]
  },
  {
   "cell_type": "markdown",
   "metadata": {},
   "source": [
    "### Exclude duplicate publications"
   ]
  },
  {
   "cell_type": "code",
   "execution_count": 112,
   "metadata": {
    "scrolled": false
   },
   "outputs": [
    {
     "name": "stdout",
     "output_type": "stream",
     "text": [
      "publications found:  85\n",
      "[{'authors': ['A Hosford', 'M Tivey', 'T Matsumoto', 'H Dick', 'H Schouten', 'H Kinoshita'], 'citations': 68, 'year': 2003}, {'authors': ['AG Baines', 'MJ Cheadle', 'HJB Dick', 'AH Scheirer', 'BE John', 'NJ Kusznir', '...'], 'citations': 66, 'year': 2003}]\n",
      "number of missing authors:  0\n"
     ]
    }
   ],
   "source": [
    "pubs_data = []\n",
    "for tr in base_page.find_all(\"tr\", attrs={\"class\": \"gsc_a_tr\"}):\n",
    "    # check if it contains an attribute specific to duplicates\n",
    "    if tr.find_all(\"a\")[1].has_attr(\"data-eud\"):\n",
    "        continue\n",
    "    \n",
    "    else:\n",
    "        td1, td2, td3 = tr.find_all(\"td\")\n",
    "        \n",
    "        authors = td1.find(\"div\").contents\n",
    "        if authors:\n",
    "            authors = authors[0].split(\", \")\n",
    "            # some author names have an \"*\" at the end\n",
    "            authors = [name[:-1] if name[-1] == \"*\" else name for name in authors]\n",
    "        else:\n",
    "            authors = None\n",
    "        \n",
    "        citations = td2.find(\"a\").contents\n",
    "        if len(citations) < 1:\n",
    "            citations = None\n",
    "        else:\n",
    "            citations = int(citations[0])\n",
    "            \n",
    "        year = td3.find(\"span\").contents    \n",
    "        if len(year) < 1:\n",
    "            year = None\n",
    "        else:\n",
    "            year = int(year[0])\n",
    "        \n",
    "        data = {\n",
    "            \"authors\": authors, \n",
    "            \"citations\": citations, \n",
    "            \"year\": year\n",
    "        }\n",
    "        pubs_data.append(data)\n",
    "    \n",
    "print(\"publications found: \", len(pubs_data))\n",
    "print(pubs_data[:2])\n",
    "print(\"number of missing authors: \",\\\n",
    "      len([pub[\"authors\"] for pub in pubs_data if not pub[\"authors\"]]))"
   ]
  },
  {
   "cell_type": "markdown",
   "metadata": {},
   "source": [
    "### Get total citations"
   ]
  },
  {
   "cell_type": "code",
   "execution_count": 113,
   "metadata": {},
   "outputs": [
    {
     "name": "stdout",
     "output_type": "stream",
     "text": [
      "481\n"
     ]
    }
   ],
   "source": [
    "count = 0\n",
    "for pub in pubs_data:\n",
    "    if pub[\"citations\"]:\n",
    "        count += pub[\"citations\"]\n",
    "    \n",
    "print(count)"
   ]
  },
  {
   "cell_type": "markdown",
   "metadata": {},
   "source": [
    "# Format data by year(to-do), co-author pos, & h-index"
   ]
  },
  {
   "cell_type": "markdown",
   "metadata": {},
   "source": [
    "### Get co-author positions"
   ]
  },
  {
   "cell_type": "code",
   "execution_count": 144,
   "metadata": {
    "scrolled": true
   },
   "outputs": [
    {
     "name": "stdout",
     "output_type": "stream",
     "text": [
      "author name:  Allegra Hosford Scheirer\n",
      "number of positions:  85\n",
      "unique positions found:  {'1st', '≥6th', '5th', 'last', '4th', '2nd', '3rd'}\n"
     ]
    }
   ],
   "source": [
    "def ordinal(n: int) -> str:\n",
    "    # scary one-liner to convert int to ordinal representation (ex: 2 --> \"2nd\")\n",
    "    # https://stackoverflow.com/questions/9647202/ordinal-numbers-replacement\n",
    "    \"\"\"Converts integers to ordinal numerals.\n",
    "    \"\"\"\n",
    "    return \"%d%s\" % (n,\"tsnrhtdd\"[(n/10%10!=1)*(n%10<4)*n%10::4])\n",
    "\n",
    "\n",
    "def get_position(match: str, names: List[str]) -> str:\n",
    "    \"\"\"Gets the author's position in a given list of names.\n",
    "    \"\"\"\n",
    "    if match:\n",
    "            for index, author in enumerate(names):\n",
    "                if author == match:\n",
    "                    if index == len(names)-1 and index > 2:\n",
    "                        return \"last\"\n",
    "                    elif index > 4:\n",
    "                        return \"≥6th\"\n",
    "                    else:\n",
    "                        return ordinal(index + 1)\n",
    "                    \n",
    "    # maybe I should return \"unknown\" instead here        \n",
    "    else:\n",
    "        if not names:\n",
    "            return \"unknown\"\n",
    "        elif len(names) > 5:\n",
    "            return \"≥6th\"\n",
    "        else:\n",
    "            return ordinal(len(names))\n",
    "    \n",
    "    \n",
    "def get_match(auth_name: str, names: List[str]) -> str:\n",
    "    try: \n",
    "        matches = process.extract(auth_name, names, limit=2)\n",
    "#             print(matches)\n",
    "        if matches:\n",
    "            # make sure they're not too far off origianl name\n",
    "            # cutoff score: 75\n",
    "            if matches[0][1] > 74:\n",
    "\n",
    "                if len(matches) == 2:\n",
    "                    # if one's better, take that one\n",
    "                    if matches[0][1] > matches[1][1]:\n",
    "                        # check if matched last name included in author's full name\n",
    "                        matched_name = matches[0][0]\n",
    "                        matched_name_lis = matched_name.split()\n",
    "                        matched_last_name = matched_name_lis.pop()\n",
    "                        if matched_last_name in auth_name.split():\n",
    "                            return matched_name\n",
    "                        else:\n",
    "                            return None\n",
    "                    # if they're equal Levenshtein distance, use a different version of author name to match\n",
    "                    else:\n",
    "                        full_name_lis = auth_name.split()\n",
    "                        last_name = full_name_lis.pop()\n",
    "                        initials = \"\".join([name[0] for name in full_name_lis])\n",
    "                        shortened_auth_name = initials + \" \" + last_name\n",
    "                        return process.extractOne(shortened_auth_name, [name[0] for name in matches])[0]\n",
    "                else:\n",
    "                    return matches[0][0]\n",
    "            else:\n",
    "                return None\n",
    "\n",
    "    except TypeError: \n",
    "        return None\n",
    "#             print('no match')    \n",
    "\n",
    "def get_author_positions_lis(auth_name: str, auth_lists: List[str]) -> List[str]:\n",
    "    \"\"\"Returns a list of all the author's positions for each scraped publication.\n",
    "    \"\"\"\n",
    "    author_positions_lis = []\n",
    "    \n",
    "    for names in auth_lists:\n",
    "        # check if there's any names scraped\n",
    "        if not names:\n",
    "            author_positions_lis.append(\"unknown\")\n",
    "            continue\n",
    "            \n",
    "#         print(names)\n",
    "\n",
    "        match = get_match(auth_name, names)\n",
    "        position = get_position(match, names)\n",
    "        author_positions_lis.append(position)\n",
    "            \n",
    "    return author_positions_lis\n",
    "\n",
    "\n",
    "print(\"author name: \", author_name)\n",
    "author_positions_lis = get_author_positions_lis(author_name, [pub[\"authors\"] for pub in pubs_data])\n",
    "\n",
    "print(\"number of positions: \", len(author_positions_lis))\n",
    "print(\"unique positions found: \", set(author_positions_lis))"
   ]
  },
  {
   "cell_type": "code",
   "execution_count": 145,
   "metadata": {},
   "outputs": [],
   "source": [
    "# for i in zip([pub[\"authors\"] for pub in pubs_data],author_positions_lis):\n",
    "#     print(i)"
   ]
  },
  {
   "cell_type": "code",
   "execution_count": 156,
   "metadata": {},
   "outputs": [],
   "source": [
    "test_names = [\n",
    "    {\n",
    "        \"name\": \"Allegra Hosford Scheirer\",\n",
    "        \"tests\": [\n",
    "            {\"names_lis\": ['A Hosford Scheirer*', 'LB Magoon', 'KJ Bird', 'E Duncan', 'KE Peters'], \"position\": \"1st\"},\n",
    "            {\"names_lis\": ['DS Scheirer', 'AH Scheirer'], \"position\": \"2nd\"},\n",
    "            {\"names_lis\": ['A Hosford', 'J Lin', 'RS Detrick'], \"position\": \"1st\"},\n",
    "            {\"names_lis\": ['A Carter'], \"position\": \"1st\"},\n",
    "            {\"names_lis\": ['A Hosford'], \"position\": \"1st\"},\n",
    "            {\"names_lis\": ['KE Peters', 'O Schenk', 'AH Scheirer', 'B Wygrala', 'T Hantschel'], \"position\": \"3rd\"},\n",
    "            {\"names_lis\": ['AG Baines', 'MJ Cheadle', 'HJB Dick', 'AH Scheirer', 'BE John', 'NJ Kusznir', '...'], \"position\": \"4th\"},\n",
    "            {\"names_lis\": ['AH SChEIrEr', 'LB Magoon'], \"position\": \"2nd\"}\n",
    "        ]\n",
    "    },\n",
    "    {\n",
    "        \"name\": \"Christopher H. Kremer\",\n",
    "        \"tests\": [\n",
    "            {\"names_lis\": ['CH Kremer', 'MS Bramble', 'JF Mustard'], \"position\": \"1st\"},\n",
    "            {\"names_lis\": ['JD Tarnas', 'JF Mustard', 'H Lin', 'TA Goudge', 'ES Amador', 'MS Bramble', '...'], \"position\": \"≥6th\"},\n",
    "            {\"names_lis\": ['C Kremer', 'JF Mustard', 'CM Pieters'], \"position\": \"1st\"}\n",
    "        ]\n",
    "    },\n",
    "    {\n",
    "        \"name\": \"Jesse Tarnas\",\n",
    "        \"tests\": [\n",
    "            {\"names_lis\": ['DM Persaud', 'TS Wu', 'J Tarnas', 'M Preudhomme', 'M Jurg', 'C Chalumeau', '...'], \"position\": \"3rd\"},\n",
    "            {\"names_lis\": ['JF Mustard', 'JD Tarnas'], \"position\": \"2nd\"},\n",
    "            {\"names_lis\": ['M Parente', 'RE Arvidson', 'Y Itoh', 'H Lin', 'JF Mustard', 'AM Saranathan', '...'], \"position\": \"≥6th\"}\n",
    "        ]\n",
    "    },\n",
    "    {\n",
    "        \"name\": \"Ronald C Kessler\",\n",
    "        \"tests\": [\n",
    "            {\"names_lis\": None, \"position\": \"unknown\"},\n",
    "            {\"names_lis\": ['RC Kessler', 'WT Chiu', 'O Demler', 'EE Walters'], \"position\": \"1st\"},\n",
    "            {\"names_lis\": ['DM Eisenberg', 'RB Davis', 'SL Ettner', 'S Appel', 'S Wilkey', 'M Van Rompay', '...'], \"position\": \"≥6th\"},\n",
    "            {\"names_lis\": ['JI Hudson', 'E Hiripi', 'HG Pope Jr', 'RC Kessler'], \"position\": \"last\"},\n",
    "            {\"names_lis\": ['J Elster'], \"position\": \"unknown\"},\n",
    "            {\"names_lis\": ['ESEMeD/MHEDEA 2000 Investigators', 'J Alonso', 'MC Angermeyer', '...'], \"position\": \"unknown\"},\n",
    "            {\"names_lis\": ['KS Kendler', 'RC Kessler', 'EE Walters', 'C MacLean', 'MC Neale', 'AC Heath', '...'], \"position\": \"2nd\"}\n",
    "        ]\n",
    "    }\n",
    "]\n"
   ]
  },
  {
   "cell_type": "code",
   "execution_count": 169,
   "metadata": {},
   "outputs": [
    {
     "name": "stdout",
     "output_type": "stream",
     "text": [
      "test #1 wrong for Allegra Hosford Scheirer\n",
      "                guessed: 5th\n",
      "                correct position: 1st\n",
      "                given names: ['A Hosford Scheirer*', 'LB Magoon', 'KJ Bird', 'E Duncan', 'KE Peters']\n",
      "                \n",
      "\n",
      "                \n",
      "test #5 wrong for Ronald C Kessler\n",
      "                guessed: 1st\n",
      "                correct position: unknown\n",
      "                given names: ['J Elster']\n",
      "                \n",
      "\n",
      "                \n",
      "test #6 wrong for Ronald C Kessler\n",
      "                guessed: 4th\n",
      "                correct position: unknown\n",
      "                given names: ['ESEMeD/MHEDEA 2000 Investigators', 'J Alonso', 'MC Angermeyer', '...']\n",
      "                \n",
      "\n",
      "                \n"
     ]
    }
   ],
   "source": [
    "for author in test_names:\n",
    "    for i, test in enumerate(author[\"tests\"]):\n",
    "        names = test[\"names_lis\"]\n",
    "        match = get_match(author[\"name\"], names)\n",
    "        position = get_position(match, names)\n",
    "        if position != test[\"position\"]:\n",
    "            print(\n",
    "                f\"\"\"test #{i+1} wrong for {author['name']}\n",
    "                guessed: {position}\n",
    "                correct position: {test['position']}\n",
    "                given names: {test['names_lis']}\n",
    "                \\n\n",
    "                \"\"\"\n",
    "            )"
   ]
  },
  {
   "cell_type": "markdown",
   "metadata": {},
   "source": [
    "### Group citations by co-author position"
   ]
  },
  {
   "cell_type": "code",
   "execution_count": 117,
   "metadata": {},
   "outputs": [
    {
     "data": {
      "text/plain": [
       "dict_keys(['1st', '2nd', '3rd', '4th', '5th', 'last', '≥6th'])"
      ]
     },
     "execution_count": 117,
     "metadata": {},
     "output_type": "execute_result"
    }
   ],
   "source": [
    "def get_pos_dfs(pos_lis, num_lis):\n",
    "    citations_positions_df = pd.DataFrame(list(zip(pos_lis, num_lis)), columns =['positions', 'citations']) \n",
    "    return dict(tuple(citations_positions_df.groupby('positions')))\n",
    "\n",
    "citations_lis = [pub[\"citations\"] for pub in pubs_data]\n",
    "dfs = get_pos_dfs(author_positions_lis, citations_lis)\n",
    "dfs.keys()"
   ]
  },
  {
   "cell_type": "code",
   "execution_count": 118,
   "metadata": {
    "scrolled": false
   },
   "outputs": [],
   "source": [
    "# dfs['1st'].head()"
   ]
  },
  {
   "cell_type": "markdown",
   "metadata": {},
   "source": [
    "### Check equal number of auth positions, years, & citations"
   ]
  },
  {
   "cell_type": "code",
   "execution_count": 119,
   "metadata": {},
   "outputs": [],
   "source": [
    "years = [pub[\"year\"] for pub in pubs_data]\n",
    "\n",
    "assert len(years) == len(citations_lis) == len(author_positions_lis)"
   ]
  },
  {
   "cell_type": "code",
   "execution_count": 120,
   "metadata": {},
   "outputs": [
    {
     "name": "stdout",
     "output_type": "stream",
     "text": [
      "number of missing years:  20\n",
      "number of missing citations counts:  51\n",
      "number of missing positions:  0\n"
     ]
    }
   ],
   "source": [
    "def missing_vals(lis): return len([x for x in lis if not x])\n",
    "\n",
    "print(\"number of missing years: \", missing_vals(years))\n",
    "print(\"number of missing citations counts: \", missing_vals(citations_lis))\n",
    "print(\"number of missing positions: \", missing_vals(author_positions_lis))"
   ]
  },
  {
   "cell_type": "code",
   "execution_count": 121,
   "metadata": {},
   "outputs": [
    {
     "name": "stdout",
     "output_type": "stream",
     "text": [
      "number of data w/ citations > 0 but missing year info:  0\n"
     ]
    }
   ],
   "source": [
    "# get citations that don't have year info\n",
    "count = 0\n",
    "test = []\n",
    "for i in range(len(years)):\n",
    "    if not years[i] and citations_lis[i]:\n",
    "        count += 1\n",
    "        test.append(citations_lis[i])\n",
    "        \n",
    "print(\"number of data w/ citations > 0 but missing year info: \", count)\n",
    "# print(test)"
   ]
  },
  {
   "cell_type": "markdown",
   "metadata": {},
   "source": [
    "### Get h-indexes by co-author position"
   ]
  },
  {
   "cell_type": "code",
   "execution_count": 122,
   "metadata": {},
   "outputs": [],
   "source": [
    "def get_hindexes_dict(dataframes):\n",
    "    hindexes_dict = {}\n",
    "    \n",
    "    for k, df in dataframes.items():\n",
    "        df.sort_values('citations')\n",
    "        df.index += 1\n",
    "        df = df.reset_index()\n",
    "        df = df.query('citations >= index')\n",
    "        # checking if there are no citations\n",
    "#         if df.shape[0] <= 0:\n",
    "#             hindexes_dict[k] = 0\n",
    "#         else:\n",
    "        hindexes_dict[k] = df.shape[0]\n",
    "        \n",
    "    return hindexes_dict\n",
    "        \n",
    "hindexes_d = get_hindexes_dict(dfs)"
   ]
  },
  {
   "cell_type": "code",
   "execution_count": 123,
   "metadata": {},
   "outputs": [
    {
     "name": "stdout",
     "output_type": "stream",
     "text": [
      "overall hindex:  12\n"
     ]
    }
   ],
   "source": [
    "print(\"overall hindex: \", sum(hindexes_d.values()))"
   ]
  },
  {
   "cell_type": "code",
   "execution_count": 124,
   "metadata": {},
   "outputs": [
    {
     "data": {
      "text/plain": [
       "12"
      ]
     },
     "execution_count": 124,
     "metadata": {},
     "output_type": "execute_result"
    }
   ],
   "source": [
    "# Regular h-index (same as Google's)\n",
    "temp_df = pd.DataFrame({\"citations\": citations_lis})\n",
    "temp_df.sort_values('citations')\n",
    "temp_df.index += 1\n",
    "temp_df = temp_df.reset_index()\n",
    "temp_df = temp_df.query('citations >= index')\n",
    "temp_df.shape[0]"
   ]
  },
  {
   "cell_type": "code",
   "execution_count": 125,
   "metadata": {},
   "outputs": [
    {
     "data": {
      "text/html": [
       "<div>\n",
       "<style scoped>\n",
       "    .dataframe tbody tr th:only-of-type {\n",
       "        vertical-align: middle;\n",
       "    }\n",
       "\n",
       "    .dataframe tbody tr th {\n",
       "        vertical-align: top;\n",
       "    }\n",
       "\n",
       "    .dataframe thead th {\n",
       "        text-align: right;\n",
       "    }\n",
       "</style>\n",
       "<table border=\"1\" class=\"dataframe\">\n",
       "  <thead>\n",
       "    <tr style=\"text-align: right;\">\n",
       "      <th></th>\n",
       "      <th>h-index</th>\n",
       "    </tr>\n",
       "    <tr>\n",
       "      <th>position</th>\n",
       "      <th></th>\n",
       "    </tr>\n",
       "  </thead>\n",
       "  <tbody>\n",
       "    <tr>\n",
       "      <th>1st</th>\n",
       "      <td>5</td>\n",
       "    </tr>\n",
       "    <tr>\n",
       "      <th>2nd</th>\n",
       "      <td>1</td>\n",
       "    </tr>\n",
       "    <tr>\n",
       "      <th>3rd</th>\n",
       "      <td>2</td>\n",
       "    </tr>\n",
       "    <tr>\n",
       "      <th>4th</th>\n",
       "      <td>3</td>\n",
       "    </tr>\n",
       "    <tr>\n",
       "      <th>5th</th>\n",
       "      <td>0</td>\n",
       "    </tr>\n",
       "    <tr>\n",
       "      <th>last</th>\n",
       "      <td>0</td>\n",
       "    </tr>\n",
       "    <tr>\n",
       "      <th>≥6th</th>\n",
       "      <td>1</td>\n",
       "    </tr>\n",
       "  </tbody>\n",
       "</table>\n",
       "</div>"
      ],
      "text/plain": [
       "          h-index\n",
       "position         \n",
       "1st             5\n",
       "2nd             1\n",
       "3rd             2\n",
       "4th             3\n",
       "5th             0\n",
       "last            0\n",
       "≥6th            1"
      ]
     },
     "execution_count": 125,
     "metadata": {},
     "output_type": "execute_result"
    }
   ],
   "source": [
    "pd.DataFrame({'position': list(hindexes_d.keys()), 'h-index': list(hindexes_d.values())}).set_index('position')"
   ]
  },
  {
   "cell_type": "markdown",
   "metadata": {},
   "source": [
    "# Format data for plotting"
   ]
  },
  {
   "cell_type": "code",
   "execution_count": 126,
   "metadata": {},
   "outputs": [
    {
     "name": "stdout",
     "output_type": "stream",
     "text": [
      "author_positions: {'1st': 13, '4th': 5, '≥6th': 2, '2nd': 7, '3rd': 6, 'last': 1}\n",
      "citations_by_author_position: {'1st': 209, '4th': 132, '≥6th': 47, '2nd': 42, '3rd': 49, 'last': 2}\n"
     ]
    }
   ],
   "source": [
    "def get_counts_dicts(pos_lis, num_lis):\n",
    "    d1 = {}\n",
    "    d2 = {}\n",
    "\n",
    "    for position, num in zip(pos_lis, num_lis):\n",
    "        if not num:\n",
    "            continue\n",
    "        else: \n",
    "            if position in d1:\n",
    "                d1[position] += 1\n",
    "                d2[position] += num\n",
    "            else:\n",
    "                d1[position] = 1\n",
    "                d2[position] = num\n",
    "    return d1, d2\n",
    "        \n",
    "author_positions, citations_by_author_position = get_counts_dicts(author_positions_lis, citations_lis)\n",
    "\n",
    "print(f'author_positions: {author_positions}')\n",
    "print(f'citations_by_author_position: {citations_by_author_position}')"
   ]
  },
  {
   "cell_type": "code",
   "execution_count": 127,
   "metadata": {},
   "outputs": [],
   "source": [
    "author_positions = OrderedDict(sorted(author_positions.items()))\n",
    "citations = OrderedDict(sorted(citations_by_author_position.items()))\n",
    "\n",
    "if \"last\" in author_positions:\n",
    "    author_positions.move_to_end('last')\n",
    "if \"last\" in citations:\n",
    "    citations.move_to_end('last')"
   ]
  },
  {
   "cell_type": "code",
   "execution_count": 128,
   "metadata": {},
   "outputs": [],
   "source": [
    "# citations"
   ]
  },
  {
   "cell_type": "code",
   "execution_count": 129,
   "metadata": {},
   "outputs": [],
   "source": [
    "# author_positions"
   ]
  },
  {
   "cell_type": "code",
   "execution_count": 130,
   "metadata": {
    "scrolled": false
   },
   "outputs": [
    {
     "data": {
      "text/html": [
       "<div>\n",
       "<style scoped>\n",
       "    .dataframe tbody tr th:only-of-type {\n",
       "        vertical-align: middle;\n",
       "    }\n",
       "\n",
       "    .dataframe tbody tr th {\n",
       "        vertical-align: top;\n",
       "    }\n",
       "\n",
       "    .dataframe thead th {\n",
       "        text-align: right;\n",
       "    }\n",
       "</style>\n",
       "<table border=\"1\" class=\"dataframe\">\n",
       "  <thead>\n",
       "    <tr style=\"text-align: right;\">\n",
       "      <th></th>\n",
       "      <th>positions</th>\n",
       "      <th>citations</th>\n",
       "    </tr>\n",
       "  </thead>\n",
       "  <tbody>\n",
       "    <tr>\n",
       "      <th>0</th>\n",
       "      <td>1st</td>\n",
       "      <td>0.43</td>\n",
       "    </tr>\n",
       "    <tr>\n",
       "      <th>1</th>\n",
       "      <td>2nd</td>\n",
       "      <td>0.09</td>\n",
       "    </tr>\n",
       "    <tr>\n",
       "      <th>2</th>\n",
       "      <td>3rd</td>\n",
       "      <td>0.10</td>\n",
       "    </tr>\n",
       "    <tr>\n",
       "      <th>3</th>\n",
       "      <td>4th</td>\n",
       "      <td>0.27</td>\n",
       "    </tr>\n",
       "    <tr>\n",
       "      <th>4</th>\n",
       "      <td>≥6th</td>\n",
       "      <td>0.10</td>\n",
       "    </tr>\n",
       "    <tr>\n",
       "      <th>5</th>\n",
       "      <td>last</td>\n",
       "      <td>0.00</td>\n",
       "    </tr>\n",
       "  </tbody>\n",
       "</table>\n",
       "</div>"
      ],
      "text/plain": [
       "  positions  citations\n",
       "0       1st       0.43\n",
       "1       2nd       0.09\n",
       "2       3rd       0.10\n",
       "3       4th       0.27\n",
       "4      ≥6th       0.10\n",
       "5      last       0.00"
      ]
     },
     "execution_count": 130,
     "metadata": {},
     "output_type": "execute_result"
    }
   ],
   "source": [
    "lis1 = list(citations.keys())\n",
    "lis2 = list(citations.values())\n",
    "\n",
    "df = pd.DataFrame({\n",
    "                \"positions\": lis1,\n",
    "                \"citations\": lis2\n",
    "            })\n",
    "percents_df = df.copy()\n",
    "percents_df.citations = (100 * df.citations / df.citations.sum()).round(0)\n",
    "percents_df.citations = percents_df.citations / 100\n",
    "# percents_df = percents_df.fillna(0)\n",
    "percents_df"
   ]
  },
  {
   "cell_type": "markdown",
   "metadata": {},
   "source": [
    "# Plot w/ Altair"
   ]
  },
  {
   "cell_type": "code",
   "execution_count": 131,
   "metadata": {},
   "outputs": [
    {
     "data": {
      "text/html": [
       "\n",
       "<div id=\"altair-viz-17df6b6fd35541b4bd5ee26891815c91\"></div>\n",
       "<script type=\"text/javascript\">\n",
       "  (function(spec, embedOpt){\n",
       "    const outputDiv = document.getElementById(\"altair-viz-17df6b6fd35541b4bd5ee26891815c91\");\n",
       "    const paths = {\n",
       "      \"vega\": \"https://cdn.jsdelivr.net/npm//vega@5?noext\",\n",
       "      \"vega-lib\": \"https://cdn.jsdelivr.net/npm//vega-lib?noext\",\n",
       "      \"vega-lite\": \"https://cdn.jsdelivr.net/npm//vega-lite@4.0.2?noext\",\n",
       "      \"vega-embed\": \"https://cdn.jsdelivr.net/npm//vega-embed@6?noext\",\n",
       "    };\n",
       "\n",
       "    function loadScript(lib) {\n",
       "      return new Promise(function(resolve, reject) {\n",
       "        var s = document.createElement('script');\n",
       "        s.src = paths[lib];\n",
       "        s.async = true;\n",
       "        s.onload = () => resolve(paths[lib]);\n",
       "        s.onerror = () => reject(`Error loading script: ${paths[lib]}`);\n",
       "        document.getElementsByTagName(\"head\")[0].appendChild(s);\n",
       "      });\n",
       "    }\n",
       "\n",
       "    function showError(err) {\n",
       "      outputDiv.innerHTML = `<div class=\"error\" style=\"color:red;\">${err}</div>`;\n",
       "      throw err;\n",
       "    }\n",
       "\n",
       "    function displayChart(vegaEmbed) {\n",
       "      vegaEmbed(outputDiv, spec, embedOpt)\n",
       "        .catch(err => showError(`Javascript Error: ${err.message}<br>This usually means there's a typo in your chart specification. See the javascript console for the full traceback.`));\n",
       "    }\n",
       "\n",
       "    if(typeof define === \"function\" && define.amd) {\n",
       "      requirejs.config({paths});\n",
       "      require([\"vega-embed\"], displayChart, err => showError(`Error loading script: ${err.message}`));\n",
       "    } else if (typeof vegaEmbed === \"function\") {\n",
       "      displayChart(vegaEmbed);\n",
       "    } else {\n",
       "      loadScript(\"vega\")\n",
       "        .then(() => loadScript(\"vega-lite\"))\n",
       "        .then(() => loadScript(\"vega-embed\"))\n",
       "        .catch(showError)\n",
       "        .then(() => displayChart(vegaEmbed));\n",
       "    }\n",
       "  })({\"config\": {\"view\": {\"continuousWidth\": 400, \"continuousHeight\": 300, \"strokeWidth\": 0}, \"axisX\": {\"labelAngle\": 0}}, \"data\": {\"name\": \"data-73048e4601cbc1606497ebcf89c83de6\"}, \"mark\": \"bar\", \"encoding\": {\"color\": {\"type\": \"nominal\", \"field\": \"positions\", \"legend\": null, \"scale\": {\"scheme\": \"greenblue\"}}, \"x\": {\"type\": \"quantitative\", \"axis\": {\"format\": \"%\"}, \"field\": \"citations\"}, \"y\": {\"type\": \"nominal\", \"field\": \"positions\", \"sort\": null}}, \"title\": \"portion of total citations by co-author position\", \"$schema\": \"https://vega.github.io/schema/vega-lite/v4.0.2.json\", \"datasets\": {\"data-73048e4601cbc1606497ebcf89c83de6\": [{\"positions\": \"1st\", \"citations\": 0.43}, {\"positions\": \"2nd\", \"citations\": 0.09}, {\"positions\": \"3rd\", \"citations\": 0.1}, {\"positions\": \"4th\", \"citations\": 0.27}, {\"positions\": \"\\u22656th\", \"citations\": 0.1}, {\"positions\": \"last\", \"citations\": 0.0}]}}, {\"mode\": \"vega-lite\"});\n",
       "</script>"
      ],
      "text/plain": [
       "alt.Chart(...)"
      ]
     },
     "metadata": {},
     "output_type": "display_data"
    }
   ],
   "source": [
    "def bar_chart(df):\n",
    "    return alt.Chart(df).mark_bar().encode(\n",
    "        alt.X('citations', axis=alt.Axis(format='%')),\n",
    "        alt.Y('positions', sort=None),\n",
    "        color=alt.Color(\n",
    "            \"positions\", \n",
    "            scale=alt.Scale(scheme=\"greenblue\"), \n",
    "            legend=None\n",
    "            )\n",
    "        ).properties(\n",
    "            title='portion of total citations by co-author position'\n",
    "        ).configure_axisX(\n",
    "            labelAngle=0\n",
    "        ).configure_view(\n",
    "            strokeWidth=0\n",
    "        )\n",
    "\n",
    "\n",
    "bar_chart(percents_df).display()"
   ]
  }
 ],
 "metadata": {
  "kernelspec": {
   "display_name": "Python 3",
   "language": "python",
   "name": "python3"
  },
  "language_info": {
   "codemirror_mode": {
    "name": "ipython",
    "version": 3
   },
   "file_extension": ".py",
   "mimetype": "text/x-python",
   "name": "python",
   "nbconvert_exporter": "python",
   "pygments_lexer": "ipython3",
   "version": "3.7.3"
  }
 },
 "nbformat": 4,
 "nbformat_minor": 4
}
