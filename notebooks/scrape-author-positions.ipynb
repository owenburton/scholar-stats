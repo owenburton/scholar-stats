{
 "cells": [
  {
   "cell_type": "markdown",
   "metadata": {},
   "source": [
    "## Imports"
   ]
  },
  {
   "cell_type": "code",
   "execution_count": 12,
   "metadata": {},
   "outputs": [],
   "source": [
    "from collections import OrderedDict\n",
    "from bs4 import BeautifulSoup\n",
    "from fuzzywuzzy import process\n",
    "import altair as alt\n",
    "import pandas as pd\n",
    "\n",
    "from selenium.common.exceptions import TimeoutException\n",
    "from selenium.webdriver import Chrome, ChromeOptions\n",
    "from selenium.webdriver.common.by import By\n",
    "from selenium.webdriver.support import expected_conditions as EC\n",
    "from selenium.webdriver.support.ui import WebDriverWait"
   ]
  },
  {
   "cell_type": "markdown",
   "metadata": {},
   "source": [
    "# Scraping w/ Selenium "
   ]
  },
  {
   "cell_type": "code",
   "execution_count": 123,
   "metadata": {},
   "outputs": [],
   "source": [
    "zack_url = \"https://scholar.google.com/citations?user=X7FY3wUAAAAJ&hl=en&oi=ao\"\n",
    "hinton_url = \"https://scholar.google.com/citations?user=JicYPdAAAAAJ&hl=en&oi=ao\"\n",
    "malcolm_url = \"https://scholar.google.de/citations?user=bcO-7KwAAAAJ&hl=en&oi=ao\"\n",
    "tarnas_url = \"https://scholar.google.com/citations?hl=en&user=H9AJzHMAAAAJ&view_op=list_works),\"\n",
    "allegra_url = \"https://scholar.google.com/citations?user=CfnwDC4AAAAJ&hl=en\"\n",
    "kessler_url = \"https://scholar.google.com/citations?user=EicYvbwAAAAJ&hl=en&inst=5746887945952177237&oi=ao)\"\n",
    "foucault_url = \"https://scholar.google.com/citations?user=AKqYlxMAAAAJ&hl=en&inst=5746887945952177237&oi=ao)\"\n",
    "bourdieu_url = \"https://scholar.google.com/citations?user=d_lp40IAAAAJ&hl=en&inst=5746887945952177237&oi=ao),\""
   ]
  },
  {
   "cell_type": "code",
   "execution_count": 144,
   "metadata": {},
   "outputs": [],
   "source": [
    "options = ChromeOptions()\n",
    "options.headless = True\n",
    "driver = Chrome(options=options)"
   ]
  },
  {
   "cell_type": "code",
   "execution_count": 145,
   "metadata": {},
   "outputs": [
    {
     "data": {
      "text/plain": [
       "selenium.webdriver.chrome.webdriver.WebDriver"
      ]
     },
     "execution_count": 145,
     "metadata": {},
     "output_type": "execute_result"
    }
   ],
   "source": [
    "type(driver)"
   ]
  },
  {
   "cell_type": "code",
   "execution_count": 146,
   "metadata": {},
   "outputs": [],
   "source": [
    "button_xpath = \"/html/body/div/div[13]/div[2]/div/div[4]/form/div[2]/div/button\""
   ]
  },
  {
   "cell_type": "code",
   "execution_count": 147,
   "metadata": {
    "scrolled": true
   },
   "outputs": [
    {
     "name": "stdout",
     "output_type": "stream",
     "text": [
      "click number: 1\n",
      "click number: 2\n",
      "click number: 3\n",
      "click number: 4\n",
      "click number: 5\n",
      "click number: 6\n",
      "click number: 7\n",
      "click number: 8\n",
      "click number: 9\n",
      "click number: 10\n",
      "click number: 11\n",
      "click number: 12\n",
      "click number: 13\n",
      "click number: 14\n",
      "click number: 15\n",
      "click number: 16\n",
      "click number: 17\n",
      "click number: 18\n",
      "click number: 19\n",
      "not clickable\n",
      "number of publication links found:  1900\n",
      "Wall time: 24.9 s\n"
     ]
    }
   ],
   "source": [
    "%%time\n",
    "# base_url = malcolm_url\n",
    "# base_url = zack_url\n",
    "# base_url = hinton_url\n",
    "# base_url = tarnas_url\n",
    "# base_url = allegra_url\n",
    "base_url = kessler_url\n",
    "# base_url = foucault_url\n",
    "# base_url = bourdieu_url\n",
    "driver.get(base_url)\n",
    "count = 0\n",
    "\n",
    "while True:  \n",
    "    try:\n",
    "        button = WebDriverWait(driver, 2).until(EC.element_to_be_clickable((By.XPATH, button_xpath)))\n",
    "        button.click()\n",
    "        count += 1\n",
    "        print(f\"click number: {count}\")\n",
    "        \n",
    "    except TimeoutException:\n",
    "        print('not clickable')\n",
    "        break\n",
    "        \n",
    "html = driver.page_source\n",
    "base_page = BeautifulSoup(html, \"lxml\")\n",
    "driver.close()\n",
    "\n",
    "links = []\n",
    "for td in base_page.find_all(\"td\", attrs={\"class\": \"gsc_a_t\"}):\n",
    "    link = td.find(\"a\").get(\"data-href\")\n",
    "    full_link = base_url.split(\"citations?\")[0] + link\n",
    "    links.append(full_link)\n",
    "print(\"number of publication links found: \", len(links))"
   ]
  },
  {
   "cell_type": "code",
   "execution_count": 148,
   "metadata": {},
   "outputs": [
    {
     "data": {
      "text/plain": [
       "bs4.BeautifulSoup"
      ]
     },
     "execution_count": 148,
     "metadata": {},
     "output_type": "execute_result"
    }
   ],
   "source": [
    "type(base_page)"
   ]
  },
  {
   "cell_type": "markdown",
   "metadata": {},
   "source": [
    "# Get data w/ BeautifulSoup"
   ]
  },
  {
   "cell_type": "markdown",
   "metadata": {},
   "source": [
    "### Get author name"
   ]
  },
  {
   "cell_type": "code",
   "execution_count": 149,
   "metadata": {},
   "outputs": [
    {
     "data": {
      "text/plain": [
       "'Ronald C Kessler'"
      ]
     },
     "execution_count": 149,
     "metadata": {},
     "output_type": "execute_result"
    }
   ],
   "source": [
    "page_title = base_page.find('title').string\n",
    "author_name = page_title.split(' - ')[0]\n",
    "author_name"
   ]
  },
  {
   "cell_type": "markdown",
   "metadata": {},
   "source": [
    "### Get current role"
   ]
  },
  {
   "cell_type": "code",
   "execution_count": 150,
   "metadata": {},
   "outputs": [
    {
     "data": {
      "text/plain": [
       "'Professor of Health Care Policy, Harvard Medical School'"
      ]
     },
     "execution_count": 150,
     "metadata": {},
     "output_type": "execute_result"
    }
   ],
   "source": [
    "temp = []\n",
    "for x in base_page.find_all(\"div\", attrs={\"class\": \"gsc_prf_il\"}):\n",
    "    temp.append(x.text)\n",
    "    \n",
    "temp[0]"
   ]
  },
  {
   "cell_type": "markdown",
   "metadata": {},
   "source": [
    "### Exclude duplicate publications"
   ]
  },
  {
   "cell_type": "code",
   "execution_count": 151,
   "metadata": {
    "scrolled": false
   },
   "outputs": [
    {
     "name": "stdout",
     "output_type": "stream",
     "text": [
      "1900\n"
     ]
    }
   ],
   "source": [
    "pubs_data = []\n",
    "for tr in base_page.find_all(\"tr\", attrs={\"class\": \"gsc_a_tr\"}):\n",
    "    # check if it contains an attribute specific to duplicates\n",
    "    if tr.find_all(\"a\")[1].has_attr(\"data-eud\"):\n",
    "        continue\n",
    "    \n",
    "    else:\n",
    "        td1, td2, td3 = tr.find_all(\"td\")\n",
    "        \n",
    "        authors = td1.find(\"div\").contents\n",
    "        citations = td2.find(\"a\").contents\n",
    "        year = td3.find(\"span\").contents\n",
    "        \n",
    "        if len(citations) < 1:\n",
    "            citations = None\n",
    "        else:\n",
    "            citations = int(citations[0])\n",
    "            \n",
    "        if len(year) < 1:\n",
    "            year = None\n",
    "        else:\n",
    "            year = int(year[0])\n",
    "        \n",
    "        data = {\n",
    "            \"authors\": authors, \n",
    "            \"citations\": citations, \n",
    "            \"year\": year\n",
    "        }\n",
    "        pubs_data.append(data)\n",
    "    \n",
    "print(len(pubs_data))"
   ]
  },
  {
   "cell_type": "code",
   "execution_count": 152,
   "metadata": {
    "scrolled": false
   },
   "outputs": [
    {
     "data": {
      "text/plain": [
       "[{'authors': ['RC Kessler, P Berglund, O Demler, R Jin, KR Merikangas, EE Walters'],\n",
       "  'citations': 25851,\n",
       "  'year': 2005},\n",
       " {'authors': ['RC Kessler, KA McGonagle, S Zhao, CB Nelson, M Hughes, S Eshleman, ...'],\n",
       "  'citations': 16763,\n",
       "  'year': 1994},\n",
       " {'authors': ['RC Kessler, WT Chiu, O Demler, EE Walters'],\n",
       "  'citations': 12858,\n",
       "  'year': 2005},\n",
       " {'authors': ['RC Kessler, A Sonnega, E Bromet, M Hughes, CB Nelson'],\n",
       "  'citations': 12825,\n",
       "  'year': 1995},\n",
       " {'authors': ['DM Eisenberg, RB Davis, SL Ettner, S Appel, S Wilkey, M Van Rompay, ...'],\n",
       "  'citations': 9133,\n",
       "  'year': 1998},\n",
       " {'authors': ['RC Kessler, G Andrews, LJ Colpe, E Hiripi, DK Mroczek, SLT Normand, ...'],\n",
       "  'citations': 6031,\n",
       "  'year': 2002},\n",
       " {'authors': ['DM Eisenberg, RC Kessler, C Foster, FE Norlock, DR Calkins, ...'],\n",
       "  'citations': 5932,\n",
       "  'year': 1993},\n",
       " {'authors': ['JI Hudson, E Hiripi, HG Pope Jr, RC Kessler'],\n",
       "  'citations': 4690,\n",
       "  'year': 2007},\n",
       " {'authors': ['RC Kessler, L Adler, R Barkley, J Biederman, CK Conners, O Demler, ...'],\n",
       "  'citations': 3811,\n",
       "  'year': 2006},\n",
       " {'authors': ['RC Kessler, TB Üstün'], 'citations': 3561, 'year': 2004}]"
      ]
     },
     "execution_count": 152,
     "metadata": {},
     "output_type": "execute_result"
    }
   ],
   "source": [
    "pubs_data[:10]"
   ]
  },
  {
   "cell_type": "markdown",
   "metadata": {},
   "source": [
    "### Get total citations"
   ]
  },
  {
   "cell_type": "code",
   "execution_count": 153,
   "metadata": {},
   "outputs": [
    {
     "name": "stdout",
     "output_type": "stream",
     "text": [
      "401630\n"
     ]
    }
   ],
   "source": [
    "count = 0\n",
    "for pub in pubs_data:\n",
    "    if pub[\"citations\"]:\n",
    "        count += pub[\"citations\"]\n",
    "    \n",
    "print(count)"
   ]
  },
  {
   "cell_type": "markdown",
   "metadata": {},
   "source": [
    "### Get citation counts for each paper"
   ]
  },
  {
   "cell_type": "code",
   "execution_count": 24,
   "metadata": {},
   "outputs": [
    {
     "name": "stdout",
     "output_type": "stream",
     "text": [
      "[['79511'], ['79418'], ['59196']]\n",
      "1007\n"
     ]
    }
   ],
   "source": [
    "# get citations for each paper \n",
    "citations_lis = []\n",
    "for td in base_page.find_all(\"td\", attrs={\"class\": \"gsc_a_c\"}):\n",
    "    citation = td.find(\"a\").contents\n",
    "    citations_lis.append(citation)\n",
    "\n",
    "print(citations_lis[:3])\n",
    "print(len(citations_lis))"
   ]
  },
  {
   "cell_type": "code",
   "execution_count": 25,
   "metadata": {},
   "outputs": [
    {
     "data": {
      "text/plain": [
       "1007"
      ]
     },
     "execution_count": 25,
     "metadata": {},
     "output_type": "execute_result"
    }
   ],
   "source": [
    "citations_lis = [int(c[0]) if len(c)==1 else 0 for c in citations_lis]\n",
    "len(citations_lis)"
   ]
  },
  {
   "cell_type": "code",
   "execution_count": 26,
   "metadata": {},
   "outputs": [
    {
     "data": {
      "text/plain": [
       "1416490"
      ]
     },
     "execution_count": 26,
     "metadata": {},
     "output_type": "execute_result"
    }
   ],
   "source": [
    "sum(citations_lis)"
   ]
  },
  {
   "cell_type": "markdown",
   "metadata": {},
   "source": [
    "Weird that this different from Google's listed total citations for Geoffrey Hinton: 372718.\n",
    "\n",
    "Seems they might be taking into account duplicate publications when counting total citations, but not when calculating the author's overall h-index, as you'll see later in the notebook."
   ]
  },
  {
   "cell_type": "markdown",
   "metadata": {},
   "source": [
    "### Get publication dates"
   ]
  },
  {
   "cell_type": "code",
   "execution_count": 14,
   "metadata": {},
   "outputs": [
    {
     "data": {
      "text/plain": [
       "[', 2005', ', 1994', ', 2005', ', 1995', ', 1998']"
      ]
     },
     "execution_count": 14,
     "metadata": {},
     "output_type": "execute_result"
    }
   ],
   "source": [
    "# get years for each paper \n",
    "years_lis = []\n",
    "for yr in base_page.find_all(\"span\", attrs={\"class\": \"gs_oph\"}):\n",
    "    years_lis.append(yr.text)\n",
    "\n",
    "# remove the extras\n",
    "# years_lis = [text for i,text in enumerate(years_lis) if i%2==0]\n",
    "years_lis[:5]"
   ]
  },
  {
   "cell_type": "code",
   "execution_count": 15,
   "metadata": {},
   "outputs": [
    {
     "data": {
      "text/plain": [
       "1757"
      ]
     },
     "execution_count": 15,
     "metadata": {},
     "output_type": "execute_result"
    }
   ],
   "source": [
    "len(years_lis)"
   ]
  },
  {
   "cell_type": "markdown",
   "metadata": {},
   "source": [
    "There are missing values from the years list because sometimes that section is blank on the website, but the year is listed in the title of the paper section instead.\n",
    "\n",
    "Also, it seems there are duplicate publications listed on some Google Scholar profiles. For example on Geoffrey Hinton's, \"Layer Normalization\" is listed three different times. Same authors, same journal (arXiv), but different citations counts.\n",
    "\n",
    "Google is not taking this into account in there h-index calculations b/c I reproduced theirs by including duplicates."
   ]
  },
  {
   "cell_type": "code",
   "execution_count": 16,
   "metadata": {},
   "outputs": [],
   "source": [
    "# TODO: \n",
    "\n",
    "# would need to extract the dates from the publication title where date is missing from usual spot,\n",
    "# and account for bogus years like \"6\" for \"Williams, RI (1986). Learning internal representations by error propagation\"\n",
    "# and sometimes there's no date listed at all in the title either\n",
    "\n",
    "# also just need to clean up the year strings (ex: ', 1986' --> 1986)"
   ]
  },
  {
   "cell_type": "markdown",
   "metadata": {},
   "source": [
    "### Get co-authors for each publication"
   ]
  },
  {
   "cell_type": "code",
   "execution_count": 17,
   "metadata": {},
   "outputs": [],
   "source": [
    "# clean up and split names\n",
    "# author_lists = [names.split(', ') for names in authors_lis]\n",
    "\n",
    "# print(len(author_lists))"
   ]
  },
  {
   "cell_type": "code",
   "execution_count": 18,
   "metadata": {},
   "outputs": [],
   "source": [
    "# author_lists[:3]"
   ]
  },
  {
   "cell_type": "markdown",
   "metadata": {},
   "source": [
    "### Get backup authors list"
   ]
  },
  {
   "cell_type": "code",
   "execution_count": 19,
   "metadata": {},
   "outputs": [],
   "source": [
    "# get authors of each paper\n",
    "backup_authors = []\n",
    "for auth in base_page.find_all(\"div\", attrs={\"class\": \"gs_gray\"}):\n",
    "    backup_authors.append(auth.text)\n",
    "    \n",
    "# remove extra gs_gray classes found (the journal names)\n",
    "backup_authors = [text for i,text in enumerate(backup_authors) if i%2==0]\n",
    "\n",
    "# clean up and split names\n",
    "backup_authors = [names.split(', ') for names in backup_authors]"
   ]
  },
  {
   "cell_type": "code",
   "execution_count": 20,
   "metadata": {},
   "outputs": [
    {
     "data": {
      "text/plain": [
       "[['RC Kessler',\n",
       "  'P Berglund',\n",
       "  'O Demler',\n",
       "  'R Jin',\n",
       "  'KR Merikangas',\n",
       "  'EE Walters'],\n",
       " ['RC Kessler',\n",
       "  'KA McGonagle',\n",
       "  'S Zhao',\n",
       "  'CB Nelson',\n",
       "  'M Hughes',\n",
       "  'S Eshleman',\n",
       "  '...'],\n",
       " ['RC Kessler', 'WT Chiu', 'O Demler', 'EE Walters'],\n",
       " ['RC Kessler', 'A Sonnega', 'E Bromet', 'M Hughes', 'CB Nelson'],\n",
       " ['DM Eisenberg',\n",
       "  'RB Davis',\n",
       "  'SL Ettner',\n",
       "  'S Appel',\n",
       "  'S Wilkey',\n",
       "  'M Van Rompay',\n",
       "  '...']]"
      ]
     },
     "execution_count": 20,
     "metadata": {},
     "output_type": "execute_result"
    }
   ],
   "source": [
    "backup_authors[:5]"
   ]
  },
  {
   "cell_type": "markdown",
   "metadata": {},
   "source": [
    "# Format data by year(to-do), co-author pos, & h-index"
   ]
  },
  {
   "cell_type": "markdown",
   "metadata": {},
   "source": [
    "### Get co-author positions"
   ]
  },
  {
   "cell_type": "code",
   "execution_count": 21,
   "metadata": {},
   "outputs": [],
   "source": [
    "# scary one-liner to convert int to ordinal representation (ex: 2 --> \"2nd\")\n",
    "# https://stackoverflow.com/questions/9647202/ordinal-numbers-replacement\n",
    "# ordinal = lambda n: \"%d%s\" % (n,\"tsnrhtdd\"[(n/10%10!=1)*(n%10<4)*n%10::4])"
   ]
  },
  {
   "cell_type": "code",
   "execution_count": 22,
   "metadata": {},
   "outputs": [
    {
     "data": {
      "text/plain": [
       "'RC Kessler'"
      ]
     },
     "execution_count": 22,
     "metadata": {},
     "output_type": "execute_result"
    }
   ],
   "source": [
    "full_name_lis = author_name.split()\n",
    "last_name = full_name_lis.pop()\n",
    "initials = \"\".join([name[0] for name in full_name_lis])\n",
    "shortened_auth_name = initials + \" \" + last_name\n",
    "shortened_auth_name"
   ]
  },
  {
   "cell_type": "code",
   "execution_count": 23,
   "metadata": {},
   "outputs": [
    {
     "data": {
      "text/plain": [
       "('DS Scheirer', 46)"
      ]
     },
     "execution_count": 23,
     "metadata": {},
     "output_type": "execute_result"
    }
   ],
   "source": [
    "process.extractOne(shortened_auth_name, ['DS Scheirer', 'AH Scheirer'])"
   ]
  },
  {
   "cell_type": "code",
   "execution_count": 24,
   "metadata": {},
   "outputs": [
    {
     "name": "stdout",
     "output_type": "stream",
     "text": [
      "author name:  Ronald C Kessler\n",
      "['1st', '1st', '1st', '1st', '≥ 6th']\n",
      "1900\n"
     ]
    }
   ],
   "source": [
    "print(\"author name: \", author_name)\n",
    "\n",
    "def get_author_positions_lis(auth_name, auth_lists):\n",
    "    ordinal = lambda n: \"%d%s\" % (n,\"tsnrhtdd\"[(n/10%10!=1)*(n%10<4)*n%10::4])\n",
    "    author_positions_lis = []\n",
    "\n",
    "    for names in auth_lists:\n",
    "#         print(names)\n",
    "        try: \n",
    "#             match = process.extractOne(auth_name, names, score_cutoff=75)[0]\n",
    "            matches = process.extract(auth_name, names, limit=2)\n",
    "#             print(matches)\n",
    "            if matches:\n",
    "                # make sure they're not too far off origianl name\n",
    "                if matches[0][1] > 74:\n",
    "                    \n",
    "                    if len(matches) == 2:\n",
    "                        # if one's better, take that one\n",
    "                        if matches[0][1] > matches[1][1]:\n",
    "                            match = matches[0][0]\n",
    "                \n",
    "                        else:\n",
    "                            full_name_lis = auth_name.split()\n",
    "                            last_name = full_name_lis.pop()\n",
    "                            initials = \"\".join([name[0] for name in full_name_lis])\n",
    "                            shortened_auth_name = initials + \" \" + last_name\n",
    "                            match = process.extractOne(shortened_auth_name, [name[0] for name in matches])[0]\n",
    "                    else:\n",
    "                        match = matches[0][0]\n",
    "                else:\n",
    "                    match = None\n",
    "                    \n",
    "        except TypeError: \n",
    "            match = None\n",
    "#             matches = None\n",
    "            print('no match')\n",
    "        \n",
    "#         print(match)\n",
    "            \n",
    "        if match:\n",
    "            for i, author in enumerate(names):\n",
    "                if author == match:\n",
    "\n",
    "                    if i == len(names)-1 and i > 2:\n",
    "                        author_positions_lis.append('last')\n",
    "                    elif i > 4:\n",
    "#                         author_positions_lis.append('6th or more')\n",
    "                        author_positions_lis.append('≥ 6th')\n",
    "                    else:\n",
    "                        author_positions_lis.append(ordinal(i+1))\n",
    "                    break\n",
    "        else:\n",
    "            if len(names) > 4:\n",
    "#                 author_positions_lis.append('6th or more')\n",
    "                author_positions_lis.append('≥ 6th')\n",
    "            else:\n",
    "                author_positions_lis.append(ordinal(len(names)))\n",
    "            \n",
    "    return author_positions_lis\n",
    "\n",
    "# author_positions_lis = get_author_positions_lis(author_name, author_lists)\n",
    "author_positions_lis = get_author_positions_lis(author_name, backup_authors)\n",
    "\n",
    "print(author_positions_lis[:5])\n",
    "print(len(author_positions_lis))"
   ]
  },
  {
   "cell_type": "code",
   "execution_count": 25,
   "metadata": {
    "scrolled": true
   },
   "outputs": [
    {
     "data": {
      "text/plain": [
       "{'1st', '2nd', '3rd', '4th', '5th', 'last', '≥ 6th'}"
      ]
     },
     "execution_count": 25,
     "metadata": {},
     "output_type": "execute_result"
    }
   ],
   "source": [
    "set(author_positions_lis)"
   ]
  },
  {
   "cell_type": "code",
   "execution_count": 26,
   "metadata": {},
   "outputs": [
    {
     "data": {
      "text/plain": [
       "['RC Kessler',\n",
       " 'KA McGonagle',\n",
       " 'S Zhao',\n",
       " 'CB Nelson',\n",
       " 'M Hughes',\n",
       " 'S Eshleman',\n",
       " '...']"
      ]
     },
     "execution_count": 26,
     "metadata": {},
     "output_type": "execute_result"
    }
   ],
   "source": [
    "backup_authors[1]"
   ]
  },
  {
   "cell_type": "code",
   "execution_count": 27,
   "metadata": {},
   "outputs": [
    {
     "data": {
      "text/plain": [
       "['1st']"
      ]
     },
     "execution_count": 27,
     "metadata": {},
     "output_type": "execute_result"
    }
   ],
   "source": [
    "# needed to lower the cutoff to 75 for it to consider \"JD Tarnas\" a match for \"Jesse Tarnas\"\n",
    "get_author_positions_lis(author_name, [backup_authors[1]])"
   ]
  },
  {
   "cell_type": "markdown",
   "metadata": {},
   "source": [
    "### Group citations by co-author position"
   ]
  },
  {
   "cell_type": "code",
   "execution_count": 28,
   "metadata": {},
   "outputs": [
    {
     "data": {
      "text/plain": [
       "dict_keys(['1st', '2nd', '3rd', '4th', '5th', 'last', '≥ 6th'])"
      ]
     },
     "execution_count": 28,
     "metadata": {},
     "output_type": "execute_result"
    }
   ],
   "source": [
    "def get_pos_dfs(pos_lis, num_lis):\n",
    "    citations_positions_df = pd.DataFrame(list(zip(pos_lis, num_lis)), columns =['positions', 'citations']) \n",
    "    return dict(tuple(citations_positions_df.groupby('positions')))\n",
    "\n",
    "\n",
    "dfs = get_pos_dfs(author_positions_lis, citations_lis)\n",
    "dfs.keys()"
   ]
  },
  {
   "cell_type": "code",
   "execution_count": 29,
   "metadata": {
    "scrolled": true
   },
   "outputs": [
    {
     "data": {
      "text/html": [
       "<div>\n",
       "<style scoped>\n",
       "    .dataframe tbody tr th:only-of-type {\n",
       "        vertical-align: middle;\n",
       "    }\n",
       "\n",
       "    .dataframe tbody tr th {\n",
       "        vertical-align: top;\n",
       "    }\n",
       "\n",
       "    .dataframe thead th {\n",
       "        text-align: right;\n",
       "    }\n",
       "</style>\n",
       "<table border=\"1\" class=\"dataframe\">\n",
       "  <thead>\n",
       "    <tr style=\"text-align: right;\">\n",
       "      <th></th>\n",
       "      <th>positions</th>\n",
       "      <th>citations</th>\n",
       "    </tr>\n",
       "  </thead>\n",
       "  <tbody>\n",
       "    <tr>\n",
       "      <th>0</th>\n",
       "      <td>1st</td>\n",
       "      <td>25851</td>\n",
       "    </tr>\n",
       "    <tr>\n",
       "      <th>1</th>\n",
       "      <td>1st</td>\n",
       "      <td>16763</td>\n",
       "    </tr>\n",
       "    <tr>\n",
       "      <th>2</th>\n",
       "      <td>1st</td>\n",
       "      <td>12858</td>\n",
       "    </tr>\n",
       "    <tr>\n",
       "      <th>3</th>\n",
       "      <td>1st</td>\n",
       "      <td>12825</td>\n",
       "    </tr>\n",
       "    <tr>\n",
       "      <th>5</th>\n",
       "      <td>1st</td>\n",
       "      <td>6031</td>\n",
       "    </tr>\n",
       "  </tbody>\n",
       "</table>\n",
       "</div>"
      ],
      "text/plain": [
       "  positions  citations\n",
       "0       1st      25851\n",
       "1       1st      16763\n",
       "2       1st      12858\n",
       "3       1st      12825\n",
       "5       1st       6031"
      ]
     },
     "execution_count": 29,
     "metadata": {},
     "output_type": "execute_result"
    }
   ],
   "source": [
    "dfs['1st'].head()"
   ]
  },
  {
   "cell_type": "markdown",
   "metadata": {},
   "source": [
    "### Get h-indexes by co-author position"
   ]
  },
  {
   "cell_type": "code",
   "execution_count": 30,
   "metadata": {},
   "outputs": [],
   "source": [
    "def get_hindexes_dict(dataframes):\n",
    "    hindexes_dict = {}\n",
    "    \n",
    "    for k, df in dataframes.items():\n",
    "        df.sort_values('citations')\n",
    "        df.index += 1\n",
    "        df = df.reset_index()\n",
    "        df = df.query('citations >= index')\n",
    "        # checking if there are no citations\n",
    "        if df.shape[0] <= 0:\n",
    "            hindexes_dict[k] = 0\n",
    "        else:\n",
    "            hindexes_dict[k] = df.shape[0]\n",
    "        \n",
    "    return hindexes_dict\n",
    "        \n",
    "hindexes_d = get_hindexes_dict(dfs)"
   ]
  },
  {
   "cell_type": "code",
   "execution_count": 31,
   "metadata": {},
   "outputs": [
    {
     "data": {
      "text/plain": [
       "{'1st': 108,\n",
       " '2nd': 36,\n",
       " '3rd': 41,\n",
       " '4th': 23,\n",
       " '5th': 7,\n",
       " 'last': 27,\n",
       " '≥ 6th': 50}"
      ]
     },
     "execution_count": 31,
     "metadata": {},
     "output_type": "execute_result"
    }
   ],
   "source": [
    "# excluding co-author position w/ h-index of zero\n",
    "hindexes_d"
   ]
  },
  {
   "cell_type": "code",
   "execution_count": 32,
   "metadata": {},
   "outputs": [
    {
     "data": {
      "text/plain": [
       "292"
      ]
     },
     "execution_count": 32,
     "metadata": {},
     "output_type": "execute_result"
    }
   ],
   "source": [
    "sum(hindexes_d.values())"
   ]
  },
  {
   "cell_type": "code",
   "execution_count": 33,
   "metadata": {},
   "outputs": [
    {
     "data": {
      "text/plain": [
       "292"
      ]
     },
     "execution_count": 33,
     "metadata": {},
     "output_type": "execute_result"
    }
   ],
   "source": [
    "# Regular h-index (same as Google's)\n",
    "temp_df = pd.DataFrame({\"citations\": citations_lis})\n",
    "temp_df.sort_values('citations')\n",
    "temp_df.index += 1\n",
    "temp_df = temp_df.reset_index()\n",
    "temp_df = temp_df.query('citations >= index')\n",
    "temp_df.shape[0]"
   ]
  },
  {
   "cell_type": "code",
   "execution_count": 34,
   "metadata": {},
   "outputs": [
    {
     "data": {
      "text/html": [
       "<div>\n",
       "<style scoped>\n",
       "    .dataframe tbody tr th:only-of-type {\n",
       "        vertical-align: middle;\n",
       "    }\n",
       "\n",
       "    .dataframe tbody tr th {\n",
       "        vertical-align: top;\n",
       "    }\n",
       "\n",
       "    .dataframe thead th {\n",
       "        text-align: right;\n",
       "    }\n",
       "</style>\n",
       "<table border=\"1\" class=\"dataframe\">\n",
       "  <thead>\n",
       "    <tr style=\"text-align: right;\">\n",
       "      <th></th>\n",
       "      <th>h-index</th>\n",
       "    </tr>\n",
       "    <tr>\n",
       "      <th>position</th>\n",
       "      <th></th>\n",
       "    </tr>\n",
       "  </thead>\n",
       "  <tbody>\n",
       "    <tr>\n",
       "      <th>1st</th>\n",
       "      <td>108</td>\n",
       "    </tr>\n",
       "    <tr>\n",
       "      <th>2nd</th>\n",
       "      <td>36</td>\n",
       "    </tr>\n",
       "    <tr>\n",
       "      <th>3rd</th>\n",
       "      <td>41</td>\n",
       "    </tr>\n",
       "    <tr>\n",
       "      <th>4th</th>\n",
       "      <td>23</td>\n",
       "    </tr>\n",
       "    <tr>\n",
       "      <th>5th</th>\n",
       "      <td>7</td>\n",
       "    </tr>\n",
       "    <tr>\n",
       "      <th>last</th>\n",
       "      <td>27</td>\n",
       "    </tr>\n",
       "    <tr>\n",
       "      <th>≥ 6th</th>\n",
       "      <td>50</td>\n",
       "    </tr>\n",
       "  </tbody>\n",
       "</table>\n",
       "</div>"
      ],
      "text/plain": [
       "          h-index\n",
       "position         \n",
       "1st           108\n",
       "2nd            36\n",
       "3rd            41\n",
       "4th            23\n",
       "5th             7\n",
       "last           27\n",
       "≥ 6th          50"
      ]
     },
     "execution_count": 34,
     "metadata": {},
     "output_type": "execute_result"
    }
   ],
   "source": [
    "pd.DataFrame({'position': list(hindexes_d.keys()), 'h-index': list(hindexes_d.values())}).set_index('position')"
   ]
  },
  {
   "cell_type": "markdown",
   "metadata": {},
   "source": [
    "# Format data for plotting"
   ]
  },
  {
   "cell_type": "code",
   "execution_count": 35,
   "metadata": {},
   "outputs": [
    {
     "name": "stdout",
     "output_type": "stream",
     "text": [
      "author_positions: {'1st': 567, '≥ 6th': 588, '2nd': 256, 'last': 115, '3rd': 195, '4th': 115, '5th': 64}\n",
      "citations_by_author_position: {'1st': 192216, '≥ 6th': 63207, '2nd': 46497, 'last': 30141, '3rd': 39043, '4th': 21810, '5th': 8716}\n"
     ]
    }
   ],
   "source": [
    "def get_counts_dicts(pos_lis, num_lis):\n",
    "    d1 = {}\n",
    "    d2 = {}\n",
    "\n",
    "    for position, num in zip(pos_lis, num_lis):\n",
    "        if position in d1:\n",
    "            d1[position] += 1\n",
    "            d2[position] += num\n",
    "        else:\n",
    "            d1[position] = 1\n",
    "            d2[position] = num\n",
    "    return d1, d2\n",
    "        \n",
    "author_positions, citations_by_author_position = get_counts_dicts(author_positions_lis, citations_lis)\n",
    "\n",
    "print(f'author_positions: {author_positions}')\n",
    "print(f'citations_by_author_position: {citations_by_author_position}')"
   ]
  },
  {
   "cell_type": "code",
   "execution_count": 36,
   "metadata": {},
   "outputs": [],
   "source": [
    "author_positions = OrderedDict(sorted(author_positions.items()))\n",
    "citations = OrderedDict(sorted(citations_by_author_position.items()))"
   ]
  },
  {
   "cell_type": "code",
   "execution_count": 37,
   "metadata": {},
   "outputs": [],
   "source": [
    "author_positions.move_to_end('last')\n",
    "citations.move_to_end('last')"
   ]
  },
  {
   "cell_type": "code",
   "execution_count": 38,
   "metadata": {},
   "outputs": [
    {
     "data": {
      "text/plain": [
       "OrderedDict([('1st', 192216),\n",
       "             ('2nd', 46497),\n",
       "             ('3rd', 39043),\n",
       "             ('4th', 21810),\n",
       "             ('5th', 8716),\n",
       "             ('≥ 6th', 63207),\n",
       "             ('last', 30141)])"
      ]
     },
     "execution_count": 38,
     "metadata": {},
     "output_type": "execute_result"
    }
   ],
   "source": [
    "citations"
   ]
  },
  {
   "cell_type": "code",
   "execution_count": 39,
   "metadata": {},
   "outputs": [
    {
     "data": {
      "text/plain": [
       "401630"
      ]
     },
     "execution_count": 39,
     "metadata": {},
     "output_type": "execute_result"
    }
   ],
   "source": [
    "sum(citations.values())"
   ]
  },
  {
   "cell_type": "code",
   "execution_count": 40,
   "metadata": {},
   "outputs": [
    {
     "data": {
      "text/plain": [
       "OrderedDict([('1st', 567),\n",
       "             ('2nd', 256),\n",
       "             ('3rd', 195),\n",
       "             ('4th', 115),\n",
       "             ('5th', 64),\n",
       "             ('≥ 6th', 588),\n",
       "             ('last', 115)])"
      ]
     },
     "execution_count": 40,
     "metadata": {},
     "output_type": "execute_result"
    }
   ],
   "source": [
    "author_positions"
   ]
  },
  {
   "cell_type": "code",
   "execution_count": 41,
   "metadata": {},
   "outputs": [
    {
     "name": "stdout",
     "output_type": "stream",
     "text": [
      "OrderedDict([('1st', 567), ('2nd', 256), ('3rd', 195), ('4th', 115), ('5th', 64), ('≥ 6th', 588), ('last', 115)])\n",
      "OrderedDict([('1st', 192216), ('2nd', 46497), ('3rd', 39043), ('4th', 21810), ('5th', 8716), ('≥ 6th', 63207), ('last', 30141)])\n"
     ]
    }
   ],
   "source": [
    "print(author_positions)\n",
    "print(citations)"
   ]
  },
  {
   "cell_type": "code",
   "execution_count": 42,
   "metadata": {},
   "outputs": [],
   "source": [
    "lis1 = list(citations.keys())\n",
    "lis2 = list(citations.values())"
   ]
  },
  {
   "cell_type": "code",
   "execution_count": 43,
   "metadata": {},
   "outputs": [
    {
     "data": {
      "text/plain": [
       "['1st', '2nd', '3rd', '4th', '5th', '≥ 6th', 'last']"
      ]
     },
     "execution_count": 43,
     "metadata": {},
     "output_type": "execute_result"
    }
   ],
   "source": [
    "lis1"
   ]
  },
  {
   "cell_type": "code",
   "execution_count": 44,
   "metadata": {
    "scrolled": false
   },
   "outputs": [
    {
     "data": {
      "text/html": [
       "<div>\n",
       "<style scoped>\n",
       "    .dataframe tbody tr th:only-of-type {\n",
       "        vertical-align: middle;\n",
       "    }\n",
       "\n",
       "    .dataframe tbody tr th {\n",
       "        vertical-align: top;\n",
       "    }\n",
       "\n",
       "    .dataframe thead th {\n",
       "        text-align: right;\n",
       "    }\n",
       "</style>\n",
       "<table border=\"1\" class=\"dataframe\">\n",
       "  <thead>\n",
       "    <tr style=\"text-align: right;\">\n",
       "      <th></th>\n",
       "      <th>positions</th>\n",
       "      <th>citations</th>\n",
       "    </tr>\n",
       "  </thead>\n",
       "  <tbody>\n",
       "    <tr>\n",
       "      <th>0</th>\n",
       "      <td>1st</td>\n",
       "      <td>0.48</td>\n",
       "    </tr>\n",
       "    <tr>\n",
       "      <th>1</th>\n",
       "      <td>2nd</td>\n",
       "      <td>0.12</td>\n",
       "    </tr>\n",
       "    <tr>\n",
       "      <th>2</th>\n",
       "      <td>3rd</td>\n",
       "      <td>0.10</td>\n",
       "    </tr>\n",
       "    <tr>\n",
       "      <th>3</th>\n",
       "      <td>4th</td>\n",
       "      <td>0.05</td>\n",
       "    </tr>\n",
       "    <tr>\n",
       "      <th>4</th>\n",
       "      <td>5th</td>\n",
       "      <td>0.02</td>\n",
       "    </tr>\n",
       "    <tr>\n",
       "      <th>5</th>\n",
       "      <td>≥ 6th</td>\n",
       "      <td>0.16</td>\n",
       "    </tr>\n",
       "    <tr>\n",
       "      <th>6</th>\n",
       "      <td>last</td>\n",
       "      <td>0.08</td>\n",
       "    </tr>\n",
       "  </tbody>\n",
       "</table>\n",
       "</div>"
      ],
      "text/plain": [
       "  positions  citations\n",
       "0       1st       0.48\n",
       "1       2nd       0.12\n",
       "2       3rd       0.10\n",
       "3       4th       0.05\n",
       "4       5th       0.02\n",
       "5     ≥ 6th       0.16\n",
       "6      last       0.08"
      ]
     },
     "execution_count": 44,
     "metadata": {},
     "output_type": "execute_result"
    }
   ],
   "source": [
    "df = pd.DataFrame({\n",
    "                \"positions\": lis1,\n",
    "                \"citations\": lis2\n",
    "            })\n",
    "percents_df = df.copy()\n",
    "percents_df.citations = (100 * df.citations / df.citations.sum()).round(0)\n",
    "percents_df.citations = percents_df.citations / 100\n",
    "# percents_df = percents_df.fillna(0)\n",
    "percents_df"
   ]
  },
  {
   "cell_type": "markdown",
   "metadata": {},
   "source": [
    "# Plot w/ Altair"
   ]
  },
  {
   "cell_type": "code",
   "execution_count": 45,
   "metadata": {},
   "outputs": [
    {
     "data": {
      "text/html": [
       "\n",
       "<div id=\"altair-viz-8cee452dfc9c4f248efd81b1d775d4eb\"></div>\n",
       "<script type=\"text/javascript\">\n",
       "  (function(spec, embedOpt){\n",
       "    const outputDiv = document.getElementById(\"altair-viz-8cee452dfc9c4f248efd81b1d775d4eb\");\n",
       "    const paths = {\n",
       "      \"vega\": \"https://cdn.jsdelivr.net/npm//vega@5?noext\",\n",
       "      \"vega-lib\": \"https://cdn.jsdelivr.net/npm//vega-lib?noext\",\n",
       "      \"vega-lite\": \"https://cdn.jsdelivr.net/npm//vega-lite@4.0.2?noext\",\n",
       "      \"vega-embed\": \"https://cdn.jsdelivr.net/npm//vega-embed@6?noext\",\n",
       "    };\n",
       "\n",
       "    function loadScript(lib) {\n",
       "      return new Promise(function(resolve, reject) {\n",
       "        var s = document.createElement('script');\n",
       "        s.src = paths[lib];\n",
       "        s.async = true;\n",
       "        s.onload = () => resolve(paths[lib]);\n",
       "        s.onerror = () => reject(`Error loading script: ${paths[lib]}`);\n",
       "        document.getElementsByTagName(\"head\")[0].appendChild(s);\n",
       "      });\n",
       "    }\n",
       "\n",
       "    function showError(err) {\n",
       "      outputDiv.innerHTML = `<div class=\"error\" style=\"color:red;\">${err}</div>`;\n",
       "      throw err;\n",
       "    }\n",
       "\n",
       "    function displayChart(vegaEmbed) {\n",
       "      vegaEmbed(outputDiv, spec, embedOpt)\n",
       "        .catch(err => showError(`Javascript Error: ${err.message}<br>This usually means there's a typo in your chart specification. See the javascript console for the full traceback.`));\n",
       "    }\n",
       "\n",
       "    if(typeof define === \"function\" && define.amd) {\n",
       "      requirejs.config({paths});\n",
       "      require([\"vega-embed\"], displayChart, err => showError(`Error loading script: ${err.message}`));\n",
       "    } else if (typeof vegaEmbed === \"function\") {\n",
       "      displayChart(vegaEmbed);\n",
       "    } else {\n",
       "      loadScript(\"vega\")\n",
       "        .then(() => loadScript(\"vega-lite\"))\n",
       "        .then(() => loadScript(\"vega-embed\"))\n",
       "        .catch(showError)\n",
       "        .then(() => displayChart(vegaEmbed));\n",
       "    }\n",
       "  })({\"config\": {\"view\": {\"continuousWidth\": 400, \"continuousHeight\": 300, \"strokeWidth\": 0}, \"axisX\": {\"labelAngle\": 0}}, \"data\": {\"name\": \"data-5e8cfa150146373f99743192e5ee7eef\"}, \"mark\": \"bar\", \"encoding\": {\"color\": {\"type\": \"nominal\", \"field\": \"positions\", \"legend\": null, \"scale\": {\"scheme\": \"greenblue\"}}, \"x\": {\"type\": \"quantitative\", \"axis\": {\"format\": \"%\"}, \"field\": \"citations\"}, \"y\": {\"type\": \"nominal\", \"field\": \"positions\", \"sort\": null}}, \"title\": \"portion of total citations by co-author position\", \"$schema\": \"https://vega.github.io/schema/vega-lite/v4.0.2.json\", \"datasets\": {\"data-5e8cfa150146373f99743192e5ee7eef\": [{\"positions\": \"1st\", \"citations\": 0.48}, {\"positions\": \"2nd\", \"citations\": 0.12}, {\"positions\": \"3rd\", \"citations\": 0.1}, {\"positions\": \"4th\", \"citations\": 0.05}, {\"positions\": \"5th\", \"citations\": 0.02}, {\"positions\": \"\\u2265 6th\", \"citations\": 0.16}, {\"positions\": \"last\", \"citations\": 0.08}]}}, {\"mode\": \"vega-lite\"});\n",
       "</script>"
      ],
      "text/plain": [
       "alt.Chart(...)"
      ]
     },
     "metadata": {},
     "output_type": "display_data"
    }
   ],
   "source": [
    "def bar_chart(df):\n",
    "    return alt.Chart(df).mark_bar().encode(\n",
    "        alt.X('citations', axis=alt.Axis(format='%')),\n",
    "        alt.Y('positions', sort=None),\n",
    "        color=alt.Color(\n",
    "            \"positions\", \n",
    "            scale=alt.Scale(scheme=\"greenblue\"), \n",
    "            legend=None\n",
    "            )\n",
    "        ).properties(\n",
    "            title='portion of total citations by co-author position'\n",
    "        ).configure_axisX(\n",
    "            labelAngle=0\n",
    "        ).configure_view(\n",
    "            strokeWidth=0\n",
    "        )\n",
    "\n",
    "\n",
    "bar_chart(percents_df).display()"
   ]
  }
 ],
 "metadata": {
  "kernelspec": {
   "display_name": "Python 3",
   "language": "python",
   "name": "python3"
  },
  "language_info": {
   "codemirror_mode": {
    "name": "ipython",
    "version": 3
   },
   "file_extension": ".py",
   "mimetype": "text/x-python",
   "name": "python",
   "nbconvert_exporter": "python",
   "pygments_lexer": "ipython3",
   "version": "3.7.3"
  }
 },
 "nbformat": 4,
 "nbformat_minor": 4
}
