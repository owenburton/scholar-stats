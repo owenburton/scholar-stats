{
 "cells": [
  {
   "cell_type": "code",
   "execution_count": 96,
   "metadata": {},
   "outputs": [],
   "source": [
    "from bs4 import BeautifulSoup\n",
    "from fuzzywuzzy import process\n",
    "import requests\n",
    "import matplotlib.pyplot as plt\n",
    "from collections import OrderedDict\n",
    "\n",
    "from selenium.webdriver import Chrome\n",
    "from selenium.webdriver.common.by import By\n",
    "from selenium.common.exceptions import TimeoutException\n",
    "from selenium.webdriver.support import expected_conditions as EC\n",
    "from selenium.webdriver.support.ui import WebDriverWait"
   ]
  },
  {
   "cell_type": "code",
   "execution_count": 97,
   "metadata": {},
   "outputs": [],
   "source": [
    "zack_url = \"https://scholar.google.com/citations?user=X7FY3wUAAAAJ&hl=en&oi=ao\"\n",
    "hinton_url = \"https://scholar.google.com/citations?user=JicYPdAAAAAJ&hl=en&oi=ao\""
   ]
  },
  {
   "cell_type": "code",
   "execution_count": 98,
   "metadata": {},
   "outputs": [],
   "source": [
    "driver = Chrome()"
   ]
  },
  {
   "cell_type": "code",
   "execution_count": 99,
   "metadata": {},
   "outputs": [],
   "source": [
    "button_xpath = \"/html/body/div/div[13]/div[2]/div/div[4]/form/div[2]/div/button\""
   ]
  },
  {
   "cell_type": "code",
   "execution_count": 100,
   "metadata": {},
   "outputs": [
    {
     "name": "stdout",
     "output_type": "stream",
     "text": [
      "click number: 1\n",
      "click number: 2\n",
      "click number: 3\n",
      "click number: 4\n",
      "click number: 5\n",
      "click number: 6\n",
      "click number: 7\n",
      "click number: 8\n",
      "not clickable\n"
     ]
    }
   ],
   "source": [
    "driver.get(hinton_url)\n",
    "count = 0\n",
    "\n",
    "while True:  \n",
    "    try:\n",
    "        button = WebDriverWait(driver, 2).until(EC.element_to_be_clickable((By.XPATH, button_xpath)))\n",
    "        button.click()\n",
    "        count += 1\n",
    "        print(f\"click number: {count}\")\n",
    "        \n",
    "    except TimeoutException:\n",
    "        print('not clickable')\n",
    "        break\n",
    "\n",
    "html = driver.page_source"
   ]
  },
  {
   "cell_type": "code",
   "execution_count": 89,
   "metadata": {},
   "outputs": [],
   "source": [
    "page = BeautifulSoup(html)"
   ]
  },
  {
   "cell_type": "code",
   "execution_count": 90,
   "metadata": {},
   "outputs": [
    {
     "data": {
      "text/plain": [
       "'Geoffrey Hinton'"
      ]
     },
     "execution_count": 90,
     "metadata": {},
     "output_type": "execute_result"
    }
   ],
   "source": [
    "page_title = page.find('title').string\n",
    "author_name = page_title.split(' - ')[0]\n",
    "author_name"
   ]
  },
  {
   "cell_type": "code",
   "execution_count": 91,
   "metadata": {},
   "outputs": [],
   "source": [
    "# get authors of each paper\n",
    "authors_journals = []\n",
    "for auth in page.find_all(\"div\", attrs={\"class\": \"gs_gray\"}):\n",
    "    authors_journals.append(auth.text)\n",
    "    \n",
    "# remove extra gs_gray classes found (the journal names)\n",
    "authors = [text for i,text in enumerate(authors_journals) if i%2==0]"
   ]
  },
  {
   "cell_type": "code",
   "execution_count": 92,
   "metadata": {},
   "outputs": [
    {
     "data": {
      "text/plain": [
       "['DE Rumelhart, GE Hinton, RJ Williams',\n",
       " 'A Krizhevsky, I Sutskever, GE Hinton',\n",
       " 'DE Rumelhart, GE Hinton, RJ Williams']"
      ]
     },
     "execution_count": 92,
     "metadata": {},
     "output_type": "execute_result"
    }
   ],
   "source": [
    "authors[:3]"
   ]
  },
  {
   "cell_type": "code",
   "execution_count": 93,
   "metadata": {},
   "outputs": [
    {
     "data": {
      "text/plain": [
       "{'2': 267, '3': 132, '1': 233, '4': 44, '6': 11, '5': 22, '7': 1}"
      ]
     },
     "execution_count": 93,
     "metadata": {},
     "output_type": "execute_result"
    }
   ],
   "source": [
    "# get author position counts\n",
    "author_positions = {}\n",
    "\n",
    "author_lists = [names.split(', ') for names in authors]\n",
    "\n",
    "for names in author_lists:\n",
    "    match = process.extractOne(author_name, names)[0]\n",
    "    \n",
    "    for i, author in enumerate(names):\n",
    "        \n",
    "        if author == match:\n",
    "            if str(i+1) in author_positions:\n",
    "                author_positions[str(i+1)] += 1\n",
    "            else:\n",
    "                author_positions[str(i+1)] = 1\n",
    "            break\n",
    "            \n",
    "author_positions "
   ]
  },
  {
   "cell_type": "code",
   "execution_count": 94,
   "metadata": {},
   "outputs": [],
   "source": [
    "author_positions = OrderedDict(sorted(author_positions.items()))"
   ]
  },
  {
   "cell_type": "code",
   "execution_count": 95,
   "metadata": {},
   "outputs": [
    {
     "data": {
      "image/png": "[encoded data removed]",
      "text/plain": [
       "<Figure size 432x288 with 1 Axes>"
      ]
     },
     "metadata": {
      "needs_background": "light"
     },
     "output_type": "display_data"
    }
   ],
   "source": [
    "plt.bar(list(author_positions.keys()), list(author_positions.values()))\n",
    "plt.title(\"author positions\")\n",
    "plt.xlabel(\"placement\")\n",
    "plt.ylabel(\"frequency\");"
   ]
  },
  {
   "cell_type": "code",
   "execution_count": null,
   "metadata": {},
   "outputs": [],
   "source": []
  }
 ],
 "metadata": {
  "kernelspec": {
   "display_name": "Python 3",
   "language": "python",
   "name": "python3"
  },
  "language_info": {
   "codemirror_mode": {
    "name": "ipython",
    "version": 3
   },
   "file_extension": ".py",
   "mimetype": "text/x-python",
   "name": "python",
   "nbconvert_exporter": "python",
   "pygments_lexer": "ipython3",
   "version": "3.7.3"
  }
 },
 "nbformat": 4,
 "nbformat_minor": 4
}
