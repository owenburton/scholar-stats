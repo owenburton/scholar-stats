{
 "cells": [
  {
   "cell_type": "code",
   "execution_count": 1,
   "metadata": {},
   "outputs": [],
   "source": [
    "from bs4 import BeautifulSoup\n",
    "from fuzzywuzzy import process\n",
    "import requests\n",
    "import matplotlib.pyplot as plt\n",
    "from collections import OrderedDict\n",
    "\n",
    "from selenium.webdriver import PhantomJS\n",
    "from selenium.webdriver.common.by import By\n",
    "from selenium.common.exceptions import TimeoutException\n",
    "from selenium.webdriver.support import expected_conditions as EC\n",
    "from selenium.webdriver.support.ui import WebDriverWait"
   ]
  },
  {
   "cell_type": "code",
   "execution_count": 2,
   "metadata": {},
   "outputs": [],
   "source": [
    "zack_url = \"https://scholar.google.com/citations?user=X7FY3wUAAAAJ&hl=en&oi=ao\"\n",
    "hinton_url = \"https://scholar.google.com/citations?user=JicYPdAAAAAJ&hl=en&oi=ao\""
   ]
  },
  {
   "cell_type": "code",
   "execution_count": 3,
   "metadata": {},
   "outputs": [
    {
     "name": "stderr",
     "output_type": "stream",
     "text": [
      "C:\\Users\\Owen\\Anaconda3\\lib\\site-packages\\selenium\\webdriver\\phantomjs\\webdriver.py:49: UserWarning: Selenium support for PhantomJS has been deprecated, please use headless versions of Chrome or Firefox instead\n",
      "  warnings.warn('Selenium support for PhantomJS has been deprecated, please use headless '\n"
     ]
    }
   ],
   "source": [
    "driver = PhantomJS()"
   ]
  },
  {
   "cell_type": "code",
   "execution_count": 4,
   "metadata": {},
   "outputs": [],
   "source": [
    "button_xpath = \"/html/body/div/div[13]/div[2]/div/div[4]/form/div[2]/div/button\""
   ]
  },
  {
   "cell_type": "code",
   "execution_count": 5,
   "metadata": {},
   "outputs": [
    {
     "name": "stdout",
     "output_type": "stream",
     "text": [
      "click number: 1\n",
      "click number: 2\n",
      "click number: 3\n",
      "click number: 4\n",
      "click number: 5\n",
      "click number: 6\n",
      "click number: 7\n",
      "click number: 8\n",
      "not clickable\n"
     ]
    }
   ],
   "source": [
    "driver.get(hinton_url)\n",
    "count = 0\n",
    "\n",
    "while True:  \n",
    "    try:\n",
    "        button = WebDriverWait(driver, 2).until(EC.element_to_be_clickable((By.XPATH, button_xpath)))\n",
    "        button.click()\n",
    "        count += 1\n",
    "        print(f\"click number: {count}\")\n",
    "        \n",
    "    except TimeoutException:\n",
    "        print('not clickable')\n",
    "        break\n",
    "\n",
    "html = driver.page_source"
   ]
  },
  {
   "cell_type": "code",
   "execution_count": 6,
   "metadata": {},
   "outputs": [],
   "source": [
    "page = BeautifulSoup(html)"
   ]
  },
  {
   "cell_type": "code",
   "execution_count": 7,
   "metadata": {},
   "outputs": [
    {
     "data": {
      "text/plain": [
       "'Geoffrey Hinton'"
      ]
     },
     "execution_count": 7,
     "metadata": {},
     "output_type": "execute_result"
    }
   ],
   "source": [
    "page_title = page.find('title').string\n",
    "author_name = page_title.split(' - ')[0]\n",
    "author_name"
   ]
  },
  {
   "cell_type": "code",
   "execution_count": 38,
   "metadata": {},
   "outputs": [
    {
     "name": "stdout",
     "output_type": "stream",
     "text": [
      "[['66260'], ['62341'], ['45492']]\n",
      "710\n"
     ]
    }
   ],
   "source": [
    "# get citations for each paper \n",
    "citations = []\n",
    "for td in page.find_all(\"td\", attrs={\"class\": \"gsc_a_c\"}):\n",
    "    citation = td.find(\"a\").contents\n",
    "    citations.append(citation)\n",
    "\n",
    "print(citations[:3])\n",
    "print(len(citations))"
   ]
  },
  {
   "cell_type": "code",
   "execution_count": 39,
   "metadata": {},
   "outputs": [
    {
     "data": {
      "text/plain": [
       "710"
      ]
     },
     "execution_count": 39,
     "metadata": {},
     "output_type": "execute_result"
    }
   ],
   "source": [
    "citations = [int(c[0]) if len(c)==1 else None for c in citations]\n",
    "len(citations)"
   ]
  },
  {
   "cell_type": "code",
   "execution_count": 40,
   "metadata": {},
   "outputs": [
    {
     "name": "stdout",
     "output_type": "stream",
     "text": [
      "710\n"
     ]
    }
   ],
   "source": [
    "# get authors of each paper\n",
    "authors_journals = []\n",
    "for auth in page.find_all(\"div\", attrs={\"class\": \"gs_gray\"}):\n",
    "    authors_journals.append(auth.text)\n",
    "    \n",
    "# remove extra gs_gray classes found (the journal names)\n",
    "authors = [text for i,text in enumerate(authors_journals) if i%2==0]\n",
    "\n",
    "print(len(authors))"
   ]
  },
  {
   "cell_type": "code",
   "execution_count": 41,
   "metadata": {},
   "outputs": [
    {
     "data": {
      "text/plain": [
       "['DE Rumelhart, GE Hinton, RJ Williams',\n",
       " 'A Krizhevsky, I Sutskever, GE Hinton',\n",
       " 'DE Rumelhart, GE Hinton, RJ Williams']"
      ]
     },
     "execution_count": 41,
     "metadata": {},
     "output_type": "execute_result"
    }
   ],
   "source": [
    "authors[:3]"
   ]
  },
  {
   "cell_type": "code",
   "execution_count": 42,
   "metadata": {},
   "outputs": [
    {
     "name": "stdout",
     "output_type": "stream",
     "text": [
      "author_positions: {'2': 267, '3': 132, '1': 233, '4': 44, '6': 11, '5': 22, '7': 1}\n",
      "citations_by_author_position: {'2': 250675, '3': 114276, '1': 84743, '4': 10161, '6': 1822, '5': 1325}\n"
     ]
    }
   ],
   "source": [
    "# get author position counts\n",
    "author_positions = {}\n",
    "citations_by_author_position = {}\n",
    "\n",
    "author_lists = [names.split(', ') for names in authors]\n",
    "\n",
    "for names, c in zip(author_lists, citations):\n",
    "    match = process.extractOne(author_name, names)[0]\n",
    "    \n",
    "    for i, author in enumerate(names):\n",
    "        \n",
    "        if author == match:\n",
    "            if str(i+1) in author_positions:\n",
    "                author_positions[str(i+1)] += 1\n",
    "                if c:\n",
    "                    citations_by_author_position[str(i+1)] += c\n",
    "            else:\n",
    "                author_positions[str(i+1)] = 1\n",
    "                if c:\n",
    "                    citations_by_author_position[str(i+1)] = c\n",
    "            break\n",
    "            \n",
    "print(f'author_positions: {author_positions}')\n",
    "print(f'citations_by_author_position: {citations_by_author_position}')"
   ]
  },
  {
   "cell_type": "code",
   "execution_count": 43,
   "metadata": {},
   "outputs": [],
   "source": [
    "author_positions = OrderedDict(sorted(author_positions.items()))\n",
    "citations_by_author_position = OrderedDict(sorted(citations_by_author_position.items()))"
   ]
  },
  {
   "cell_type": "code",
   "execution_count": 44,
   "metadata": {},
   "outputs": [
    {
     "data": {
      "image/png": "[encoded data removed]",
      "text/plain": [
       "<Figure size 432x288 with 1 Axes>"
      ]
     },
     "metadata": {
      "needs_background": "light"
     },
     "output_type": "display_data"
    }
   ],
   "source": [
    "plt.bar(list(author_positions.keys()), list(author_positions.values()))\n",
    "plt.title(\"author positions\")\n",
    "plt.xlabel(\"position\")\n",
    "plt.ylabel(\"frequency\");"
   ]
  },
  {
   "cell_type": "code",
   "execution_count": 45,
   "metadata": {},
   "outputs": [
    {
     "data": {
      "image/png": "[encoded data removed]",
      "text/plain": [
       "<Figure size 432x288 with 1 Axes>"
      ]
     },
     "metadata": {
      "needs_background": "light"
     },
     "output_type": "display_data"
    }
   ],
   "source": [
    "plt.bar(list(citations_by_author_position.keys()), list(citations_by_author_position.values()))\n",
    "plt.title(\"citations by author position\")\n",
    "plt.xlabel(\"position\")\n",
    "plt.ylabel(\"citations\");"
   ]
  },
  {
   "cell_type": "code",
   "execution_count": 46,
   "metadata": {},
   "outputs": [],
   "source": [
    "driver.close()"
   ]
  },
  {
   "cell_type": "code",
   "execution_count": null,
   "metadata": {},
   "outputs": [],
   "source": []
  }
 ],
 "metadata": {
  "kernelspec": {
   "display_name": "Python 3",
   "language": "python",
   "name": "python3"
  },
  "language_info": {
   "codemirror_mode": {
    "name": "ipython",
    "version": 3
   },
   "file_extension": ".py",
   "mimetype": "text/x-python",
   "name": "python",
   "nbconvert_exporter": "python",
   "pygments_lexer": "ipython3",
   "version": "3.7.3"
  }
 },
 "nbformat": 4,
 "nbformat_minor": 4
}
