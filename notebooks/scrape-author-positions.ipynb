{
 "cells": [
  {
   "cell_type": "markdown",
   "metadata": {},
   "source": [
    "## Imports"
   ]
  },
  {
   "cell_type": "code",
   "execution_count": 1,
   "metadata": {},
   "outputs": [],
   "source": [
    "from collections import OrderedDict\n",
    "from bs4 import BeautifulSoup\n",
    "from fuzzywuzzy import process\n",
    "import altair as alt\n",
    "import pandas as pd\n",
    "\n",
    "from selenium.common.exceptions import TimeoutException\n",
    "from selenium.webdriver import Chrome, ChromeOptions\n",
    "from selenium.webdriver.common.by import By\n",
    "from selenium.webdriver.support import expected_conditions as EC\n",
    "from selenium.webdriver.support.ui import WebDriverWait"
   ]
  },
  {
   "cell_type": "markdown",
   "metadata": {},
   "source": [
    "# Scraping w/ Selenium "
   ]
  },
  {
   "cell_type": "code",
   "execution_count": 2,
   "metadata": {},
   "outputs": [],
   "source": [
    "zack_url = \"https://scholar.google.com/citations?user=X7FY3wUAAAAJ&hl=en&oi=ao\"\n",
    "hinton_url = \"https://scholar.google.com/citations?user=JicYPdAAAAAJ&hl=en&oi=ao\"\n",
    "malcolm_url = \"https://scholar.google.de/citations?user=bcO-7KwAAAAJ&hl=en&oi=ao\"\n",
    "tarnas_url = \"https://scholar.google.com/citations?hl=en&user=H9AJzHMAAAAJ&view_op=list_works),\""
   ]
  },
  {
   "cell_type": "code",
   "execution_count": 3,
   "metadata": {},
   "outputs": [],
   "source": [
    "options = ChromeOptions()\n",
    "options.headless = True\n",
    "driver = Chrome(options=options)"
   ]
  },
  {
   "cell_type": "code",
   "execution_count": 40,
   "metadata": {},
   "outputs": [
    {
     "data": {
      "text/plain": [
       "selenium.webdriver.chrome.webdriver.WebDriver"
      ]
     },
     "execution_count": 40,
     "metadata": {},
     "output_type": "execute_result"
    }
   ],
   "source": [
    "type(driver)"
   ]
  },
  {
   "cell_type": "code",
   "execution_count": 4,
   "metadata": {},
   "outputs": [],
   "source": [
    "button_xpath = \"/html/body/div/div[13]/div[2]/div/div[4]/form/div[2]/div/button\""
   ]
  },
  {
   "cell_type": "code",
   "execution_count": 5,
   "metadata": {
    "scrolled": true
   },
   "outputs": [
    {
     "name": "stdout",
     "output_type": "stream",
     "text": [
      "click number: 1\n",
      "not clickable\n",
      "number of publication links found:  45\n",
      "Wall time: 5.3 s\n"
     ]
    }
   ],
   "source": [
    "%%time\n",
    "# base_url = malcolm_url\n",
    "# base_url = zack_url\n",
    "# base_url = hinton_url\n",
    "base_url = tarnas_url\n",
    "driver.get(base_url)\n",
    "count = 0\n",
    "\n",
    "while True:  \n",
    "    try:\n",
    "        button = WebDriverWait(driver, 2).until(EC.element_to_be_clickable((By.XPATH, button_xpath)))\n",
    "        button.click()\n",
    "        count += 1\n",
    "        print(f\"click number: {count}\")\n",
    "        \n",
    "    except TimeoutException:\n",
    "        print('not clickable')\n",
    "        break\n",
    "        \n",
    "html = driver.page_source\n",
    "base_page = BeautifulSoup(html, \"lxml\")\n",
    "driver.close()\n",
    "\n",
    "links = []\n",
    "for td in base_page.find_all(\"td\", attrs={\"class\": \"gsc_a_t\"}):\n",
    "    link = td.find(\"a\").get(\"data-href\")\n",
    "    full_link = base_url.split(\"citations?\")[0] + link\n",
    "    links.append(full_link)\n",
    "print(\"number of publication links found: \", len(links))"
   ]
  },
  {
   "cell_type": "code",
   "execution_count": 42,
   "metadata": {},
   "outputs": [
    {
     "data": {
      "text/plain": [
       "bs4.BeautifulSoup"
      ]
     },
     "execution_count": 42,
     "metadata": {},
     "output_type": "execute_result"
    }
   ],
   "source": [
    "type(base_page)"
   ]
  },
  {
   "cell_type": "markdown",
   "metadata": {},
   "source": [
    "# Get data w/ BeautifulSoup"
   ]
  },
  {
   "cell_type": "markdown",
   "metadata": {},
   "source": [
    "### Get author name"
   ]
  },
  {
   "cell_type": "code",
   "execution_count": 6,
   "metadata": {},
   "outputs": [
    {
     "data": {
      "text/plain": [
       "'Jesse Tarnas'"
      ]
     },
     "execution_count": 6,
     "metadata": {},
     "output_type": "execute_result"
    }
   ],
   "source": [
    "page_title = base_page.find('title').string\n",
    "author_name = page_title.split(' - ')[0]\n",
    "author_name"
   ]
  },
  {
   "cell_type": "markdown",
   "metadata": {},
   "source": [
    "### Get current role"
   ]
  },
  {
   "cell_type": "code",
   "execution_count": 7,
   "metadata": {},
   "outputs": [
    {
     "data": {
      "text/plain": [
       "'Graduate Student, Brown University'"
      ]
     },
     "execution_count": 7,
     "metadata": {},
     "output_type": "execute_result"
    }
   ],
   "source": [
    "temp = []\n",
    "for x in base_page.find_all(\"div\", attrs={\"class\": \"gsc_prf_il\"}):\n",
    "    temp.append(x.text)\n",
    "    \n",
    "temp[0]"
   ]
  },
  {
   "cell_type": "markdown",
   "metadata": {},
   "source": [
    "### Get citation counts for each paper"
   ]
  },
  {
   "cell_type": "code",
   "execution_count": 8,
   "metadata": {},
   "outputs": [
    {
     "name": "stdout",
     "output_type": "stream",
     "text": [
      "[['14'], ['14'], ['10']]\n",
      "45\n"
     ]
    }
   ],
   "source": [
    "# get citations for each paper \n",
    "citations_lis = []\n",
    "for td in base_page.find_all(\"td\", attrs={\"class\": \"gsc_a_c\"}):\n",
    "    citation = td.find(\"a\").contents\n",
    "    citations_lis.append(citation)\n",
    "\n",
    "print(citations_lis[:3])\n",
    "print(len(citations_lis))"
   ]
  },
  {
   "cell_type": "code",
   "execution_count": 9,
   "metadata": {},
   "outputs": [
    {
     "data": {
      "text/plain": [
       "45"
      ]
     },
     "execution_count": 9,
     "metadata": {},
     "output_type": "execute_result"
    }
   ],
   "source": [
    "citations_lis = [int(c[0]) if len(c)==1 else 0 for c in citations_lis]\n",
    "len(citations_lis)"
   ]
  },
  {
   "cell_type": "code",
   "execution_count": 10,
   "metadata": {},
   "outputs": [
    {
     "data": {
      "text/plain": [
       "52"
      ]
     },
     "execution_count": 10,
     "metadata": {},
     "output_type": "execute_result"
    }
   ],
   "source": [
    "sum(citations_lis)"
   ]
  },
  {
   "cell_type": "markdown",
   "metadata": {},
   "source": [
    "Weird that this different from Google's listed total citations for Geoffrey Hinton: 372718.\n",
    "\n",
    "Seems they might be taking into account duplicate publications when counting total citations, but not when calculating the author's overall h-index, as you'll see later in the notebook."
   ]
  },
  {
   "cell_type": "markdown",
   "metadata": {},
   "source": [
    "### Get publication dates"
   ]
  },
  {
   "cell_type": "code",
   "execution_count": 11,
   "metadata": {},
   "outputs": [
    {
     "data": {
      "text/plain": [
       "[', 2019', ', 2018', ', 2013', ', 2019', ', 2020']"
      ]
     },
     "execution_count": 11,
     "metadata": {},
     "output_type": "execute_result"
    }
   ],
   "source": [
    "# get years for each paper \n",
    "years_lis = []\n",
    "for yr in base_page.find_all(\"span\", attrs={\"class\": \"gs_oph\"}):\n",
    "    years_lis.append(yr.text)\n",
    "\n",
    "# remove the extras\n",
    "# years_lis = [text for i,text in enumerate(years_lis) if i%2==0]\n",
    "years_lis[:5]"
   ]
  },
  {
   "cell_type": "code",
   "execution_count": 12,
   "metadata": {},
   "outputs": [
    {
     "data": {
      "text/plain": [
       "42"
      ]
     },
     "execution_count": 12,
     "metadata": {},
     "output_type": "execute_result"
    }
   ],
   "source": [
    "len(years_lis)"
   ]
  },
  {
   "cell_type": "markdown",
   "metadata": {},
   "source": [
    "There are missing values from the years list because sometimes that section is blank on the website, but the year is listed in the title of the paper section instead.\n",
    "\n",
    "Also, it seems there are duplicate publications listed on some Google Scholar profiles. For example on Geoffrey Hinton's, \"Layer Normalization\" is listed three different times. Same authors, same journal (arXiv), but different citations counts.\n",
    "\n",
    "Google is not taking this into account in there h-index calculations b/c I reproduced theirs by including duplicates."
   ]
  },
  {
   "cell_type": "code",
   "execution_count": 13,
   "metadata": {},
   "outputs": [],
   "source": [
    "# TODO: \n",
    "\n",
    "# would need to extract the dates from the publication title where date is missing from usual spot,\n",
    "# and account for bogus years like \"6\" for \"Williams, RI (1986). Learning internal representations by error propagation\"\n",
    "# and sometimes there's no date listed at all in the title either\n",
    "\n",
    "# also just need to clean up the year strings (ex: ', 1986' --> 1986)"
   ]
  },
  {
   "cell_type": "markdown",
   "metadata": {},
   "source": [
    "### Get co-authors for each publication"
   ]
  },
  {
   "cell_type": "code",
   "execution_count": 14,
   "metadata": {},
   "outputs": [],
   "source": [
    "# clean up and split names\n",
    "# author_lists = [names.split(', ') for names in authors_lis]\n",
    "\n",
    "# print(len(author_lists))"
   ]
  },
  {
   "cell_type": "code",
   "execution_count": 15,
   "metadata": {},
   "outputs": [],
   "source": [
    "# author_lists[:3]"
   ]
  },
  {
   "cell_type": "markdown",
   "metadata": {},
   "source": [
    "### Get backup authors list"
   ]
  },
  {
   "cell_type": "code",
   "execution_count": 16,
   "metadata": {},
   "outputs": [],
   "source": [
    "# get authors of each paper\n",
    "backup_authors = []\n",
    "for auth in base_page.find_all(\"div\", attrs={\"class\": \"gs_gray\"}):\n",
    "    backup_authors.append(auth.text)\n",
    "    \n",
    "# remove extra gs_gray classes found (the journal names)\n",
    "backup_authors = [text for i,text in enumerate(backup_authors) if i%2==0]\n",
    "\n",
    "# clean up and split names\n",
    "backup_authors = [names.split(', ') for names in backup_authors]"
   ]
  },
  {
   "cell_type": "code",
   "execution_count": 17,
   "metadata": {},
   "outputs": [
    {
     "data": {
      "text/plain": [
       "[['V Stamenković',\n",
       "  'LW Beegle',\n",
       "  'K Zacny',\n",
       "  'DD Arumugam',\n",
       "  'P Baglioni',\n",
       "  'N Barba',\n",
       "  '...'],\n",
       " ['JD Tarnas',\n",
       "  'JF Mustard',\n",
       "  'BS Lollar',\n",
       "  'MS Bramble',\n",
       "  'KM Cannon',\n",
       "  'AM Palumbo',\n",
       "  '...'],\n",
       " ['JD Tarnas', 'YS Nam', 'R Blümel'],\n",
       " ['JD Tarnas',\n",
       "  'JF Mustard',\n",
       "  'H Lin',\n",
       "  'TA Goudge',\n",
       "  'ES Amador',\n",
       "  'MS Bramble',\n",
       "  '...'],\n",
       " ['F Klein', 'JD Tarnas', 'W Bach']]"
      ]
     },
     "execution_count": 17,
     "metadata": {},
     "output_type": "execute_result"
    }
   ],
   "source": [
    "backup_authors[:5]"
   ]
  },
  {
   "cell_type": "markdown",
   "metadata": {},
   "source": [
    "# Format data by year(to-do), co-author pos, & h-index"
   ]
  },
  {
   "cell_type": "markdown",
   "metadata": {},
   "source": [
    "### Get co-author positions"
   ]
  },
  {
   "cell_type": "code",
   "execution_count": 18,
   "metadata": {},
   "outputs": [],
   "source": [
    "# scary one-liner to convert int to ordinal representation (ex: 2 --> \"2nd\")\n",
    "# https://stackoverflow.com/questions/9647202/ordinal-numbers-replacement\n",
    "# ordinal = lambda n: \"%d%s\" % (n,\"tsnrhtdd\"[(n/10%10!=1)*(n%10<4)*n%10::4])"
   ]
  },
  {
   "cell_type": "code",
   "execution_count": 19,
   "metadata": {},
   "outputs": [
    {
     "name": "stdout",
     "output_type": "stream",
     "text": [
      "['≥ 6th', '1st', '1st', '1st', '2nd']\n",
      "45\n"
     ]
    }
   ],
   "source": [
    "def get_author_positions_lis(auth_name, auth_lists):\n",
    "    ordinal = lambda n: \"%d%s\" % (n,\"tsnrhtdd\"[(n/10%10!=1)*(n%10<4)*n%10::4])\n",
    "    author_positions_lis = []\n",
    "\n",
    "    for names in auth_lists:\n",
    "#         print(names)\n",
    "        try: \n",
    "            match = process.extractOne(auth_name, names, score_cutoff=75)[0]\n",
    "#             print(match)\n",
    "        except TypeError: \n",
    "            match = None\n",
    "#             print('no match')\n",
    "            \n",
    "        if match:\n",
    "            for i, author in enumerate(names):\n",
    "                if author == match:\n",
    "\n",
    "                    if i == len(names)-1 and i > 2:\n",
    "                        author_positions_lis.append('last')\n",
    "                    elif i > 4:\n",
    "#                         author_positions_lis.append('6th or more')\n",
    "                        author_positions_lis.append('≥ 6th')\n",
    "                    else:\n",
    "                        author_positions_lis.append(ordinal(i+1))\n",
    "                    break\n",
    "        else:\n",
    "            if len(names) > 4:\n",
    "#                 author_positions_lis.append('6th or more')\n",
    "                author_positions_lis.append('≥ 6th')\n",
    "            else:\n",
    "                author_positions_lis.append(ordinal(len(names)))\n",
    "            \n",
    "    return author_positions_lis\n",
    "\n",
    "# author_positions_lis = get_author_positions_lis(author_name, author_lists)\n",
    "author_positions_lis = get_author_positions_lis(author_name, backup_authors)\n",
    "\n",
    "print(author_positions_lis[:5])\n",
    "print(len(author_positions_lis))"
   ]
  },
  {
   "cell_type": "code",
   "execution_count": 20,
   "metadata": {
    "scrolled": true
   },
   "outputs": [
    {
     "data": {
      "text/plain": [
       "{'1st', '2nd', '3rd', '4th', '5th', 'last', '≥ 6th'}"
      ]
     },
     "execution_count": 20,
     "metadata": {},
     "output_type": "execute_result"
    }
   ],
   "source": [
    "set(author_positions_lis)"
   ]
  },
  {
   "cell_type": "code",
   "execution_count": 21,
   "metadata": {},
   "outputs": [
    {
     "data": {
      "text/plain": [
       "['JD Tarnas',\n",
       " 'JF Mustard',\n",
       " 'BS Lollar',\n",
       " 'MS Bramble',\n",
       " 'KM Cannon',\n",
       " 'AM Palumbo',\n",
       " '...']"
      ]
     },
     "execution_count": 21,
     "metadata": {},
     "output_type": "execute_result"
    }
   ],
   "source": [
    "backup_authors[1]"
   ]
  },
  {
   "cell_type": "code",
   "execution_count": 22,
   "metadata": {},
   "outputs": [
    {
     "data": {
      "text/plain": [
       "['1st']"
      ]
     },
     "execution_count": 22,
     "metadata": {},
     "output_type": "execute_result"
    }
   ],
   "source": [
    "# needed to lower the cutoff to 75 for it to consider \"JD Tarnas\" a match for \"Jesse Tarnas\"\n",
    "get_author_positions_lis(author_name, [backup_authors[1]])"
   ]
  },
  {
   "cell_type": "markdown",
   "metadata": {},
   "source": [
    "### Group citations by co-author position"
   ]
  },
  {
   "cell_type": "code",
   "execution_count": 23,
   "metadata": {},
   "outputs": [
    {
     "data": {
      "text/plain": [
       "dict_keys(['1st', '2nd', '3rd', '4th', '5th', 'last', '≥ 6th'])"
      ]
     },
     "execution_count": 23,
     "metadata": {},
     "output_type": "execute_result"
    }
   ],
   "source": [
    "def get_pos_dfs(pos_lis, num_lis):\n",
    "    citations_positions_df = pd.DataFrame(list(zip(pos_lis, num_lis)), columns =['positions', 'citations']) \n",
    "    return dict(tuple(citations_positions_df.groupby('positions')))\n",
    "\n",
    "\n",
    "dfs = get_pos_dfs(author_positions_lis, citations_lis)\n",
    "dfs.keys()"
   ]
  },
  {
   "cell_type": "code",
   "execution_count": 24,
   "metadata": {
    "scrolled": true
   },
   "outputs": [
    {
     "data": {
      "text/html": [
       "<div>\n",
       "<style scoped>\n",
       "    .dataframe tbody tr th:only-of-type {\n",
       "        vertical-align: middle;\n",
       "    }\n",
       "\n",
       "    .dataframe tbody tr th {\n",
       "        vertical-align: top;\n",
       "    }\n",
       "\n",
       "    .dataframe thead th {\n",
       "        text-align: right;\n",
       "    }\n",
       "</style>\n",
       "<table border=\"1\" class=\"dataframe\">\n",
       "  <thead>\n",
       "    <tr style=\"text-align: right;\">\n",
       "      <th></th>\n",
       "      <th>positions</th>\n",
       "      <th>citations</th>\n",
       "    </tr>\n",
       "  </thead>\n",
       "  <tbody>\n",
       "    <tr>\n",
       "      <th>1</th>\n",
       "      <td>1st</td>\n",
       "      <td>14</td>\n",
       "    </tr>\n",
       "    <tr>\n",
       "      <th>2</th>\n",
       "      <td>1st</td>\n",
       "      <td>10</td>\n",
       "    </tr>\n",
       "    <tr>\n",
       "      <th>3</th>\n",
       "      <td>1st</td>\n",
       "      <td>5</td>\n",
       "    </tr>\n",
       "    <tr>\n",
       "      <th>5</th>\n",
       "      <td>1st</td>\n",
       "      <td>2</td>\n",
       "    </tr>\n",
       "    <tr>\n",
       "      <th>8</th>\n",
       "      <td>1st</td>\n",
       "      <td>1</td>\n",
       "    </tr>\n",
       "  </tbody>\n",
       "</table>\n",
       "</div>"
      ],
      "text/plain": [
       "  positions  citations\n",
       "1       1st         14\n",
       "2       1st         10\n",
       "3       1st          5\n",
       "5       1st          2\n",
       "8       1st          1"
      ]
     },
     "execution_count": 24,
     "metadata": {},
     "output_type": "execute_result"
    }
   ],
   "source": [
    "dfs['1st'].head()"
   ]
  },
  {
   "cell_type": "markdown",
   "metadata": {},
   "source": [
    "### Get h-indexes by co-author position"
   ]
  },
  {
   "cell_type": "code",
   "execution_count": 25,
   "metadata": {},
   "outputs": [],
   "source": [
    "def get_hindexes_dict(dataframes):\n",
    "    hindexes_dict = {}\n",
    "    \n",
    "    for k, df in dataframes.items():\n",
    "        df.sort_values('citations')\n",
    "        df.index += 1\n",
    "        df = df.reset_index()\n",
    "        df = df.query('citations >= index')\n",
    "        # checking if there are no citations\n",
    "        if df.shape[0] <= 0:\n",
    "            hindexes_dict[k] = 0\n",
    "        else:\n",
    "            hindexes_dict[k] = df.shape[0]\n",
    "        \n",
    "    return hindexes_dict\n",
    "        \n",
    "hindexes_d = get_hindexes_dict(dfs)"
   ]
  },
  {
   "cell_type": "code",
   "execution_count": 26,
   "metadata": {},
   "outputs": [
    {
     "data": {
      "text/plain": [
       "{'1st': 3, '2nd': 0, '3rd': 0, '4th': 0, '5th': 0, 'last': 0, '≥ 6th': 1}"
      ]
     },
     "execution_count": 26,
     "metadata": {},
     "output_type": "execute_result"
    }
   ],
   "source": [
    "# excluding co-author position w/ h-index of zero\n",
    "hindexes_d"
   ]
  },
  {
   "cell_type": "code",
   "execution_count": 27,
   "metadata": {},
   "outputs": [
    {
     "data": {
      "text/plain": [
       "4"
      ]
     },
     "execution_count": 27,
     "metadata": {},
     "output_type": "execute_result"
    }
   ],
   "source": [
    "sum(hindexes_d.values())"
   ]
  },
  {
   "cell_type": "code",
   "execution_count": 28,
   "metadata": {},
   "outputs": [
    {
     "data": {
      "text/plain": [
       "4"
      ]
     },
     "execution_count": 28,
     "metadata": {},
     "output_type": "execute_result"
    }
   ],
   "source": [
    "# Regular h-index (same as Google's)\n",
    "temp_df = pd.DataFrame({\"citations\": citations_lis})\n",
    "temp_df.sort_values('citations')\n",
    "temp_df.index += 1\n",
    "temp_df = temp_df.reset_index()\n",
    "temp_df = temp_df.query('citations >= index')\n",
    "temp_df.shape[0]"
   ]
  },
  {
   "cell_type": "code",
   "execution_count": 29,
   "metadata": {},
   "outputs": [
    {
     "data": {
      "text/html": [
       "<div>\n",
       "<style scoped>\n",
       "    .dataframe tbody tr th:only-of-type {\n",
       "        vertical-align: middle;\n",
       "    }\n",
       "\n",
       "    .dataframe tbody tr th {\n",
       "        vertical-align: top;\n",
       "    }\n",
       "\n",
       "    .dataframe thead th {\n",
       "        text-align: right;\n",
       "    }\n",
       "</style>\n",
       "<table border=\"1\" class=\"dataframe\">\n",
       "  <thead>\n",
       "    <tr style=\"text-align: right;\">\n",
       "      <th></th>\n",
       "      <th>h-index</th>\n",
       "    </tr>\n",
       "    <tr>\n",
       "      <th>position</th>\n",
       "      <th></th>\n",
       "    </tr>\n",
       "  </thead>\n",
       "  <tbody>\n",
       "    <tr>\n",
       "      <th>1st</th>\n",
       "      <td>3</td>\n",
       "    </tr>\n",
       "    <tr>\n",
       "      <th>2nd</th>\n",
       "      <td>0</td>\n",
       "    </tr>\n",
       "    <tr>\n",
       "      <th>3rd</th>\n",
       "      <td>0</td>\n",
       "    </tr>\n",
       "    <tr>\n",
       "      <th>4th</th>\n",
       "      <td>0</td>\n",
       "    </tr>\n",
       "    <tr>\n",
       "      <th>5th</th>\n",
       "      <td>0</td>\n",
       "    </tr>\n",
       "    <tr>\n",
       "      <th>last</th>\n",
       "      <td>0</td>\n",
       "    </tr>\n",
       "    <tr>\n",
       "      <th>≥ 6th</th>\n",
       "      <td>1</td>\n",
       "    </tr>\n",
       "  </tbody>\n",
       "</table>\n",
       "</div>"
      ],
      "text/plain": [
       "          h-index\n",
       "position         \n",
       "1st             3\n",
       "2nd             0\n",
       "3rd             0\n",
       "4th             0\n",
       "5th             0\n",
       "last            0\n",
       "≥ 6th           1"
      ]
     },
     "execution_count": 29,
     "metadata": {},
     "output_type": "execute_result"
    }
   ],
   "source": [
    "pd.DataFrame({'position': list(hindexes_d.keys()), 'h-index': list(hindexes_d.values())}).set_index('position')"
   ]
  },
  {
   "cell_type": "markdown",
   "metadata": {},
   "source": [
    "# Format data for plotting"
   ]
  },
  {
   "cell_type": "code",
   "execution_count": 30,
   "metadata": {},
   "outputs": [
    {
     "name": "stdout",
     "output_type": "stream",
     "text": [
      "author_positions: {'≥ 6th': 8, '1st': 21, '2nd': 9, '5th': 1, 'last': 2, '4th': 3, '3rd': 1}\n",
      "citations_by_author_position: {'≥ 6th': 15, '1st': 32, '2nd': 5, '5th': 0, 'last': 0, '4th': 0, '3rd': 0}\n"
     ]
    }
   ],
   "source": [
    "def get_counts_dicts(pos_lis, num_lis):\n",
    "    d1 = {}\n",
    "    d2 = {}\n",
    "\n",
    "    for position, num in zip(pos_lis, num_lis):\n",
    "        if position in d1:\n",
    "            d1[position] += 1\n",
    "            d2[position] += num\n",
    "        else:\n",
    "            d1[position] = 1\n",
    "            d2[position] = num\n",
    "    return d1, d2\n",
    "        \n",
    "author_positions, citations_by_author_position = get_counts_dicts(author_positions_lis, citations_lis)\n",
    "\n",
    "print(f'author_positions: {author_positions}')\n",
    "print(f'citations_by_author_position: {citations_by_author_position}')"
   ]
  },
  {
   "cell_type": "code",
   "execution_count": 31,
   "metadata": {},
   "outputs": [],
   "source": [
    "author_positions = OrderedDict(sorted(author_positions.items()))\n",
    "citations = OrderedDict(sorted(citations_by_author_position.items()))"
   ]
  },
  {
   "cell_type": "code",
   "execution_count": 32,
   "metadata": {},
   "outputs": [],
   "source": [
    "author_positions.move_to_end('last')\n",
    "citations.move_to_end('last')"
   ]
  },
  {
   "cell_type": "code",
   "execution_count": 33,
   "metadata": {},
   "outputs": [
    {
     "data": {
      "text/plain": [
       "OrderedDict([('1st', 32),\n",
       "             ('2nd', 5),\n",
       "             ('3rd', 0),\n",
       "             ('4th', 0),\n",
       "             ('5th', 0),\n",
       "             ('≥ 6th', 15),\n",
       "             ('last', 0)])"
      ]
     },
     "execution_count": 33,
     "metadata": {},
     "output_type": "execute_result"
    }
   ],
   "source": [
    "citations"
   ]
  },
  {
   "cell_type": "code",
   "execution_count": 34,
   "metadata": {},
   "outputs": [
    {
     "data": {
      "text/plain": [
       "OrderedDict([('1st', 21),\n",
       "             ('2nd', 9),\n",
       "             ('3rd', 1),\n",
       "             ('4th', 3),\n",
       "             ('5th', 1),\n",
       "             ('≥ 6th', 8),\n",
       "             ('last', 2)])"
      ]
     },
     "execution_count": 34,
     "metadata": {},
     "output_type": "execute_result"
    }
   ],
   "source": [
    "author_positions"
   ]
  },
  {
   "cell_type": "code",
   "execution_count": 35,
   "metadata": {},
   "outputs": [
    {
     "name": "stdout",
     "output_type": "stream",
     "text": [
      "OrderedDict([('1st', 21), ('2nd', 9), ('3rd', 1), ('4th', 3), ('5th', 1), ('≥ 6th', 8), ('last', 2)])\n",
      "OrderedDict([('1st', 32), ('2nd', 5), ('3rd', 0), ('4th', 0), ('5th', 0), ('≥ 6th', 15), ('last', 0)])\n"
     ]
    }
   ],
   "source": [
    "print(author_positions)\n",
    "print(citations)"
   ]
  },
  {
   "cell_type": "code",
   "execution_count": 36,
   "metadata": {},
   "outputs": [],
   "source": [
    "lis1 = list(citations.keys())\n",
    "lis2 = list(citations.values())"
   ]
  },
  {
   "cell_type": "code",
   "execution_count": 37,
   "metadata": {},
   "outputs": [
    {
     "data": {
      "text/plain": [
       "['1st', '2nd', '3rd', '4th', '5th', '≥ 6th', 'last']"
      ]
     },
     "execution_count": 37,
     "metadata": {},
     "output_type": "execute_result"
    }
   ],
   "source": [
    "lis1"
   ]
  },
  {
   "cell_type": "code",
   "execution_count": 38,
   "metadata": {
    "scrolled": false
   },
   "outputs": [
    {
     "data": {
      "text/html": [
       "<div>\n",
       "<style scoped>\n",
       "    .dataframe tbody tr th:only-of-type {\n",
       "        vertical-align: middle;\n",
       "    }\n",
       "\n",
       "    .dataframe tbody tr th {\n",
       "        vertical-align: top;\n",
       "    }\n",
       "\n",
       "    .dataframe thead th {\n",
       "        text-align: right;\n",
       "    }\n",
       "</style>\n",
       "<table border=\"1\" class=\"dataframe\">\n",
       "  <thead>\n",
       "    <tr style=\"text-align: right;\">\n",
       "      <th></th>\n",
       "      <th>positions</th>\n",
       "      <th>citations</th>\n",
       "    </tr>\n",
       "  </thead>\n",
       "  <tbody>\n",
       "    <tr>\n",
       "      <th>0</th>\n",
       "      <td>1st</td>\n",
       "      <td>0.62</td>\n",
       "    </tr>\n",
       "    <tr>\n",
       "      <th>1</th>\n",
       "      <td>2nd</td>\n",
       "      <td>0.10</td>\n",
       "    </tr>\n",
       "    <tr>\n",
       "      <th>2</th>\n",
       "      <td>3rd</td>\n",
       "      <td>0.00</td>\n",
       "    </tr>\n",
       "    <tr>\n",
       "      <th>3</th>\n",
       "      <td>4th</td>\n",
       "      <td>0.00</td>\n",
       "    </tr>\n",
       "    <tr>\n",
       "      <th>4</th>\n",
       "      <td>5th</td>\n",
       "      <td>0.00</td>\n",
       "    </tr>\n",
       "    <tr>\n",
       "      <th>5</th>\n",
       "      <td>≥ 6th</td>\n",
       "      <td>0.29</td>\n",
       "    </tr>\n",
       "    <tr>\n",
       "      <th>6</th>\n",
       "      <td>last</td>\n",
       "      <td>0.00</td>\n",
       "    </tr>\n",
       "  </tbody>\n",
       "</table>\n",
       "</div>"
      ],
      "text/plain": [
       "  positions  citations\n",
       "0       1st       0.62\n",
       "1       2nd       0.10\n",
       "2       3rd       0.00\n",
       "3       4th       0.00\n",
       "4       5th       0.00\n",
       "5     ≥ 6th       0.29\n",
       "6      last       0.00"
      ]
     },
     "execution_count": 38,
     "metadata": {},
     "output_type": "execute_result"
    }
   ],
   "source": [
    "df = pd.DataFrame({\n",
    "                \"positions\": lis1,\n",
    "                \"citations\": lis2\n",
    "            })\n",
    "percents_df = df.copy()\n",
    "percents_df.citations = (100 * df.citations / df.citations.sum()).round(0)\n",
    "percents_df.citations = percents_df.citations / 100\n",
    "# percents_df = percents_df.fillna(0)\n",
    "percents_df"
   ]
  },
  {
   "cell_type": "markdown",
   "metadata": {},
   "source": [
    "# Plot w/ Altair"
   ]
  },
  {
   "cell_type": "code",
   "execution_count": 39,
   "metadata": {},
   "outputs": [
    {
     "data": {
      "text/html": [
       "\n",
       "<div id=\"altair-viz-85ff7f88bea542268d30563440c4fb9e\"></div>\n",
       "<script type=\"text/javascript\">\n",
       "  (function(spec, embedOpt){\n",
       "    const outputDiv = document.getElementById(\"altair-viz-85ff7f88bea542268d30563440c4fb9e\");\n",
       "    const paths = {\n",
       "      \"vega\": \"https://cdn.jsdelivr.net/npm//vega@5?noext\",\n",
       "      \"vega-lib\": \"https://cdn.jsdelivr.net/npm//vega-lib?noext\",\n",
       "      \"vega-lite\": \"https://cdn.jsdelivr.net/npm//vega-lite@4.0.2?noext\",\n",
       "      \"vega-embed\": \"https://cdn.jsdelivr.net/npm//vega-embed@6?noext\",\n",
       "    };\n",
       "\n",
       "    function loadScript(lib) {\n",
       "      return new Promise(function(resolve, reject) {\n",
       "        var s = document.createElement('script');\n",
       "        s.src = paths[lib];\n",
       "        s.async = true;\n",
       "        s.onload = () => resolve(paths[lib]);\n",
       "        s.onerror = () => reject(`Error loading script: ${paths[lib]}`);\n",
       "        document.getElementsByTagName(\"head\")[0].appendChild(s);\n",
       "      });\n",
       "    }\n",
       "\n",
       "    function showError(err) {\n",
       "      outputDiv.innerHTML = `<div class=\"error\" style=\"color:red;\">${err}</div>`;\n",
       "      throw err;\n",
       "    }\n",
       "\n",
       "    function displayChart(vegaEmbed) {\n",
       "      vegaEmbed(outputDiv, spec, embedOpt)\n",
       "        .catch(err => showError(`Javascript Error: ${err.message}<br>This usually means there's a typo in your chart specification. See the javascript console for the full traceback.`));\n",
       "    }\n",
       "\n",
       "    if(typeof define === \"function\" && define.amd) {\n",
       "      requirejs.config({paths});\n",
       "      require([\"vega-embed\"], displayChart, err => showError(`Error loading script: ${err.message}`));\n",
       "    } else if (typeof vegaEmbed === \"function\") {\n",
       "      displayChart(vegaEmbed);\n",
       "    } else {\n",
       "      loadScript(\"vega\")\n",
       "        .then(() => loadScript(\"vega-lite\"))\n",
       "        .then(() => loadScript(\"vega-embed\"))\n",
       "        .catch(showError)\n",
       "        .then(() => displayChart(vegaEmbed));\n",
       "    }\n",
       "  })({\"config\": {\"view\": {\"continuousWidth\": 400, \"continuousHeight\": 300, \"strokeWidth\": 0}, \"axisX\": {\"labelAngle\": 0}}, \"data\": {\"name\": \"data-d430601a39d227f3106d7e9ad19ec114\"}, \"mark\": \"bar\", \"encoding\": {\"color\": {\"type\": \"nominal\", \"field\": \"positions\", \"legend\": null, \"scale\": {\"scheme\": \"greenblue\"}}, \"x\": {\"type\": \"quantitative\", \"axis\": {\"format\": \"%\"}, \"field\": \"citations\"}, \"y\": {\"type\": \"nominal\", \"field\": \"positions\", \"sort\": null}}, \"title\": \"portion of total citations by co-author position\", \"$schema\": \"https://vega.github.io/schema/vega-lite/v4.0.2.json\", \"datasets\": {\"data-d430601a39d227f3106d7e9ad19ec114\": [{\"positions\": \"1st\", \"citations\": 0.62}, {\"positions\": \"2nd\", \"citations\": 0.1}, {\"positions\": \"3rd\", \"citations\": 0.0}, {\"positions\": \"4th\", \"citations\": 0.0}, {\"positions\": \"5th\", \"citations\": 0.0}, {\"positions\": \"\\u2265 6th\", \"citations\": 0.29}, {\"positions\": \"last\", \"citations\": 0.0}]}}, {\"mode\": \"vega-lite\"});\n",
       "</script>"
      ],
      "text/plain": [
       "alt.Chart(...)"
      ]
     },
     "metadata": {},
     "output_type": "display_data"
    }
   ],
   "source": [
    "def bar_chart(df):\n",
    "    return alt.Chart(df).mark_bar().encode(\n",
    "        alt.X('citations', axis=alt.Axis(format='%')),\n",
    "        alt.Y('positions', sort=None),\n",
    "        color=alt.Color(\n",
    "            \"positions\", \n",
    "            scale=alt.Scale(scheme=\"greenblue\"), \n",
    "            legend=None\n",
    "            )\n",
    "        ).properties(\n",
    "            title='portion of total citations by co-author position'\n",
    "        ).configure_axisX(\n",
    "            labelAngle=0\n",
    "        ).configure_view(\n",
    "            strokeWidth=0\n",
    "        )\n",
    "\n",
    "\n",
    "bar_chart(percents_df).display()"
   ]
  }
 ],
 "metadata": {
  "kernelspec": {
   "display_name": "Python 3",
   "language": "python",
   "name": "python3"
  },
  "language_info": {
   "codemirror_mode": {
    "name": "ipython",
    "version": 3
   },
   "file_extension": ".py",
   "mimetype": "text/x-python",
   "name": "python",
   "nbconvert_exporter": "python",
   "pygments_lexer": "ipython3",
   "version": "3.7.3"
  }
 },
 "nbformat": 4,
 "nbformat_minor": 4
}
