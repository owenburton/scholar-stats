{
 "cells": [
  {
   "cell_type": "markdown",
   "metadata": {},
   "source": [
    "## Imports"
   ]
  },
  {
   "cell_type": "code",
   "execution_count": 1,
   "metadata": {},
   "outputs": [],
   "source": [
    "from collections import OrderedDict\n",
    "from bs4 import BeautifulSoup\n",
    "from fuzzywuzzy import process\n",
    "import altair as alt\n",
    "import pandas as pd\n",
    "\n",
    "from selenium.common.exceptions import TimeoutException\n",
    "from selenium.webdriver import Chrome, ChromeOptions\n",
    "from selenium.webdriver.common.by import By\n",
    "from selenium.webdriver.support import expected_conditions as EC\n",
    "from selenium.webdriver.support.ui import WebDriverWait"
   ]
  },
  {
   "cell_type": "markdown",
   "metadata": {},
   "source": [
    "# Scraping w/ Selenium "
   ]
  },
  {
   "cell_type": "code",
   "execution_count": 2,
   "metadata": {},
   "outputs": [],
   "source": [
    "zack_url = \"https://scholar.google.com/citations?user=X7FY3wUAAAAJ&hl=en&oi=ao\"\n",
    "hinton_url = \"https://scholar.google.com/citations?user=JicYPdAAAAAJ&hl=en&oi=ao\"\n",
    "malcolm_url = \"https://scholar.google.de/citations?user=bcO-7KwAAAAJ&hl=en&oi=ao\"\n",
    "tarnas_url = \"https://scholar.google.com/citations?hl=en&user=H9AJzHMAAAAJ&view_op=list_works),\"\n",
    "allegra_url = \"https://scholar.google.com/citations?user=CfnwDC4AAAAJ&hl=en\"\n",
    "kessler_url = \"https://scholar.google.com/citations?user=EicYvbwAAAAJ&hl=en&inst=5746887945952177237&oi=ao)\"\n",
    "foucault_url = \"https://scholar.google.com/citations?user=AKqYlxMAAAAJ&hl=en&inst=5746887945952177237&oi=ao)\"\n",
    "bourdieu_url = \"https://scholar.google.com/citations?user=d_lp40IAAAAJ&hl=en&inst=5746887945952177237&oi=ao),\""
   ]
  },
  {
   "cell_type": "code",
   "execution_count": 44,
   "metadata": {},
   "outputs": [],
   "source": [
    "options = ChromeOptions()\n",
    "options.headless = True\n",
    "driver = Chrome(options=options)"
   ]
  },
  {
   "cell_type": "code",
   "execution_count": 45,
   "metadata": {},
   "outputs": [],
   "source": [
    "button_xpath = \"/html/body/div/div[13]/div[2]/div/div[4]/form/div[2]/div/button\""
   ]
  },
  {
   "cell_type": "code",
   "execution_count": 46,
   "metadata": {
    "scrolled": true
   },
   "outputs": [
    {
     "name": "stdout",
     "output_type": "stream",
     "text": [
      "not clickable\n",
      "number of publication links found:  16\n",
      "Wall time: 7.93 s\n"
     ]
    }
   ],
   "source": [
    "%%time\n",
    "base_url = malcolm_url\n",
    "# base_url = zack_url\n",
    "# base_url = hinton_url\n",
    "# base_url = tarnas_url\n",
    "# base_url = allegra_url\n",
    "# base_url = kessler_url\n",
    "# base_url = foucault_url\n",
    "# base_url = bourdieu_url\n",
    "driver.get(base_url)\n",
    "count = 0\n",
    "\n",
    "while True:  \n",
    "    try:\n",
    "        button = WebDriverWait(driver, 2).until(EC.element_to_be_clickable((By.XPATH, button_xpath)))\n",
    "        button.click()\n",
    "        count += 1\n",
    "        print(f\"click number: {count}\")\n",
    "        \n",
    "    except TimeoutException:\n",
    "        print('not clickable')\n",
    "        break\n",
    "        \n",
    "html = driver.page_source\n",
    "base_page = BeautifulSoup(html, \"lxml\")\n",
    "driver.close()\n",
    "\n",
    "links = []\n",
    "for td in base_page.find_all(\"td\", attrs={\"class\": \"gsc_a_t\"}):\n",
    "    link = td.find(\"a\").get(\"data-href\")\n",
    "    full_link = base_url.split(\"citations?\")[0] + link\n",
    "    links.append(full_link)\n",
    "print(\"number of publication links found: \", len(links))"
   ]
  },
  {
   "cell_type": "code",
   "execution_count": 47,
   "metadata": {},
   "outputs": [
    {
     "data": {
      "text/plain": [
       "bs4.BeautifulSoup"
      ]
     },
     "execution_count": 47,
     "metadata": {},
     "output_type": "execute_result"
    }
   ],
   "source": [
    "type(base_page)"
   ]
  },
  {
   "cell_type": "markdown",
   "metadata": {},
   "source": [
    "# Get data w/ BeautifulSoup"
   ]
  },
  {
   "cell_type": "markdown",
   "metadata": {},
   "source": [
    "### Get author name"
   ]
  },
  {
   "cell_type": "code",
   "execution_count": 48,
   "metadata": {},
   "outputs": [
    {
     "data": {
      "text/plain": [
       "'Malcolm S.W. Hodgskiss'"
      ]
     },
     "execution_count": 48,
     "metadata": {},
     "output_type": "execute_result"
    }
   ],
   "source": [
    "page_title = base_page.find('title').string\n",
    "author_name = page_title.split(' - ')[0]\n",
    "author_name"
   ]
  },
  {
   "cell_type": "markdown",
   "metadata": {},
   "source": [
    "### Get current role"
   ]
  },
  {
   "cell_type": "code",
   "execution_count": 49,
   "metadata": {},
   "outputs": [
    {
     "data": {
      "text/plain": [
       "'Ph.D | Stanford University'"
      ]
     },
     "execution_count": 49,
     "metadata": {},
     "output_type": "execute_result"
    }
   ],
   "source": [
    "temp = []\n",
    "for x in base_page.find_all(\"div\", attrs={\"class\": \"gsc_prf_il\"}):\n",
    "    temp.append(x.text)\n",
    "    \n",
    "temp[0]"
   ]
  },
  {
   "cell_type": "markdown",
   "metadata": {},
   "source": [
    "### Exclude duplicate publications"
   ]
  },
  {
   "cell_type": "code",
   "execution_count": 103,
   "metadata": {
    "scrolled": false
   },
   "outputs": [
    {
     "name": "stdout",
     "output_type": "stream",
     "text": [
      "16\n"
     ]
    }
   ],
   "source": [
    "pubs_data = []\n",
    "for tr in base_page.find_all(\"tr\", attrs={\"class\": \"gsc_a_tr\"}):\n",
    "    # check if it contains an attribute specific to duplicates\n",
    "    if tr.find_all(\"a\")[1].has_attr(\"data-eud\"):\n",
    "        continue\n",
    "    \n",
    "    else:\n",
    "        td1, td2, td3 = tr.find_all(\"td\")\n",
    "        \n",
    "        authors = td1.find(\"div\").contents\n",
    "        authors = authors[0].split(\", \")\n",
    "        authors = [name for name in authors if name!=\"...\"]\n",
    "        \n",
    "        citations = td2.find(\"a\").contents\n",
    "        if len(citations) < 1:\n",
    "            citations = None\n",
    "        else:\n",
    "            citations = int(citations[0])\n",
    "            \n",
    "        year = td3.find(\"span\").contents    \n",
    "        if len(year) < 1:\n",
    "            year = None\n",
    "        else:\n",
    "            year = int(year[0])\n",
    "        \n",
    "        data = {\n",
    "            \"authors\": authors, \n",
    "            \"citations\": citations, \n",
    "            \"year\": year\n",
    "        }\n",
    "        pubs_data.append(data)\n",
    "    \n",
    "print(len(pubs_data))"
   ]
  },
  {
   "cell_type": "code",
   "execution_count": 104,
   "metadata": {
    "scrolled": false
   },
   "outputs": [
    {
     "data": {
      "text/plain": [
       "[{'authors': ['DB Cole',\n",
       "   'CT Reinhard',\n",
       "   'X Wang',\n",
       "   'B Gueguen',\n",
       "   'GP Halverson',\n",
       "   'T Gibson'],\n",
       "  'citations': 137,\n",
       "  'year': 2016},\n",
       " {'authors': ['TM Gibson',\n",
       "   'PM Shih',\n",
       "   'VM Cumming',\n",
       "   'WW Fischer',\n",
       "   'PW Crockford'],\n",
       "  'citations': 64,\n",
       "  'year': 2018}]"
      ]
     },
     "execution_count": 104,
     "metadata": {},
     "output_type": "execute_result"
    }
   ],
   "source": [
    "pubs_data[:2]"
   ]
  },
  {
   "cell_type": "markdown",
   "metadata": {},
   "source": [
    "### Get total citations"
   ]
  },
  {
   "cell_type": "code",
   "execution_count": 80,
   "metadata": {},
   "outputs": [
    {
     "name": "stdout",
     "output_type": "stream",
     "text": [
      "300\n"
     ]
    }
   ],
   "source": [
    "count = 0\n",
    "for pub in pubs_data:\n",
    "    if pub[\"citations\"]:\n",
    "        count += pub[\"citations\"]\n",
    "    \n",
    "print(count)"
   ]
  },
  {
   "cell_type": "markdown",
   "metadata": {},
   "source": [
    "### Get citation counts for each paper"
   ]
  },
  {
   "cell_type": "markdown",
   "metadata": {},
   "source": [
    "There are missing values from the years list because sometimes that section is blank on the website, but the year is listed in the title of the paper section instead.\n",
    "\n",
    "Also, it seems there are duplicate publications listed on some Google Scholar profiles. For example on Geoffrey Hinton's, \"Layer Normalization\" is listed three different times. Same authors, same journal (arXiv), but different citations counts.\n",
    "\n",
    "Google is not taking this into account in there h-index calculations b/c I reproduced theirs by including duplicates."
   ]
  },
  {
   "cell_type": "markdown",
   "metadata": {},
   "source": [
    "# Format data by year(to-do), co-author pos, & h-index"
   ]
  },
  {
   "cell_type": "markdown",
   "metadata": {},
   "source": [
    "### Get co-author positions"
   ]
  },
  {
   "cell_type": "code",
   "execution_count": 81,
   "metadata": {},
   "outputs": [],
   "source": [
    "# scary one-liner to convert int to ordinal representation (ex: 2 --> \"2nd\")\n",
    "# https://stackoverflow.com/questions/9647202/ordinal-numbers-replacement\n",
    "# ordinal = lambda n: \"%d%s\" % (n,\"tsnrhtdd\"[(n/10%10!=1)*(n%10<4)*n%10::4])"
   ]
  },
  {
   "cell_type": "code",
   "execution_count": 100,
   "metadata": {},
   "outputs": [
    {
     "name": "stdout",
     "output_type": "stream",
     "text": [
      "author name:  Malcolm S.W. Hodgskiss\n",
      "['≥ 6th', '≥ 6th', '4th', '2nd', '4th']\n",
      "16\n"
     ]
    }
   ],
   "source": [
    "print(\"author name: \", author_name)\n",
    "\n",
    "def get_author_positions_lis(auth_name, auth_lists):\n",
    "    ordinal = lambda n: \"%d%s\" % (n,\"tsnrhtdd\"[(n/10%10!=1)*(n%10<4)*n%10::4])\n",
    "    author_positions_lis = []\n",
    "\n",
    "    for names in auth_lists:\n",
    "#         print(names)\n",
    "        try: \n",
    "            matches = process.extract(auth_name, names, limit=2)\n",
    "#             print(matches)\n",
    "            if matches:\n",
    "                # make sure they're not too far off origianl name\n",
    "                # cutoff score: 75\n",
    "                if matches[0][1] > 74:\n",
    "                    \n",
    "                    if len(matches) == 2:\n",
    "                        # if one's better, take that one\n",
    "                        if matches[0][1] > matches[1][1]:\n",
    "                            match = matches[0][0]\n",
    "                \n",
    "                        else:\n",
    "                            full_name_lis = auth_name.split()\n",
    "                            last_name = full_name_lis.pop()\n",
    "                            initials = \"\".join([name[0] for name in full_name_lis])\n",
    "                            shortened_auth_name = initials + \" \" + last_name\n",
    "                            match = process.extractOne(shortened_auth_name, [name[0] for name in matches])[0]\n",
    "                    else:\n",
    "                        match = matches[0][0]\n",
    "                else:\n",
    "                    match = None\n",
    "                    \n",
    "        except TypeError: \n",
    "            match = None\n",
    "            print('no match')\n",
    "            \n",
    "        if match:\n",
    "            for i, author in enumerate(names):\n",
    "                if author == match:\n",
    "\n",
    "                    if i == len(names)-1 and i > 2:\n",
    "                        author_positions_lis.append('last')\n",
    "                    elif i > 4:\n",
    "                        author_positions_lis.append('≥ 6th')\n",
    "                    else:\n",
    "                        author_positions_lis.append(ordinal(i+1))\n",
    "                    break\n",
    "        else:\n",
    "            if len(names) > 4:\n",
    "                author_positions_lis.append('≥ 6th')\n",
    "            else:\n",
    "                author_positions_lis.append(ordinal(len(names)))\n",
    "            \n",
    "    return author_positions_lis\n",
    "\n",
    "author_positions_lis = get_author_positions_lis(author_name, [pub[\"authors\"] for pub in pubs_data])\n",
    "\n",
    "print(author_positions_lis[:5])\n",
    "print(len(author_positions_lis))"
   ]
  },
  {
   "cell_type": "code",
   "execution_count": 83,
   "metadata": {
    "scrolled": true
   },
   "outputs": [
    {
     "data": {
      "text/plain": [
       "{'1st', '2nd', '4th', '≥ 6th'}"
      ]
     },
     "execution_count": 83,
     "metadata": {},
     "output_type": "execute_result"
    }
   ],
   "source": [
    "set(author_positions_lis)"
   ]
  },
  {
   "cell_type": "markdown",
   "metadata": {},
   "source": [
    "### Group citations by co-author position"
   ]
  },
  {
   "cell_type": "code",
   "execution_count": 85,
   "metadata": {},
   "outputs": [
    {
     "data": {
      "text/plain": [
       "dict_keys(['1st', '2nd', '4th', '≥ 6th'])"
      ]
     },
     "execution_count": 85,
     "metadata": {},
     "output_type": "execute_result"
    }
   ],
   "source": [
    "def get_pos_dfs(pos_lis, num_lis):\n",
    "    citations_positions_df = pd.DataFrame(list(zip(pos_lis, num_lis)), columns =['positions', 'citations']) \n",
    "    return dict(tuple(citations_positions_df.groupby('positions')))\n",
    "\n",
    "citations_lis = [pub[\"citations\"] for pub in pubs_data]\n",
    "dfs = get_pos_dfs(author_positions_lis, citations_lis)\n",
    "dfs.keys()"
   ]
  },
  {
   "cell_type": "code",
   "execution_count": 86,
   "metadata": {
    "scrolled": true
   },
   "outputs": [
    {
     "data": {
      "text/html": [
       "<div>\n",
       "<style scoped>\n",
       "    .dataframe tbody tr th:only-of-type {\n",
       "        vertical-align: middle;\n",
       "    }\n",
       "\n",
       "    .dataframe tbody tr th {\n",
       "        vertical-align: top;\n",
       "    }\n",
       "\n",
       "    .dataframe thead th {\n",
       "        text-align: right;\n",
       "    }\n",
       "</style>\n",
       "<table border=\"1\" class=\"dataframe\">\n",
       "  <thead>\n",
       "    <tr style=\"text-align: right;\">\n",
       "      <th></th>\n",
       "      <th>positions</th>\n",
       "      <th>citations</th>\n",
       "    </tr>\n",
       "  </thead>\n",
       "  <tbody>\n",
       "    <tr>\n",
       "      <th>5</th>\n",
       "      <td>1st</td>\n",
       "      <td>9.0</td>\n",
       "    </tr>\n",
       "    <tr>\n",
       "      <th>7</th>\n",
       "      <td>1st</td>\n",
       "      <td>8.0</td>\n",
       "    </tr>\n",
       "    <tr>\n",
       "      <th>9</th>\n",
       "      <td>1st</td>\n",
       "      <td>4.0</td>\n",
       "    </tr>\n",
       "    <tr>\n",
       "      <th>12</th>\n",
       "      <td>1st</td>\n",
       "      <td>NaN</td>\n",
       "    </tr>\n",
       "    <tr>\n",
       "      <th>13</th>\n",
       "      <td>1st</td>\n",
       "      <td>NaN</td>\n",
       "    </tr>\n",
       "  </tbody>\n",
       "</table>\n",
       "</div>"
      ],
      "text/plain": [
       "   positions  citations\n",
       "5        1st        9.0\n",
       "7        1st        8.0\n",
       "9        1st        4.0\n",
       "12       1st        NaN\n",
       "13       1st        NaN"
      ]
     },
     "execution_count": 86,
     "metadata": {},
     "output_type": "execute_result"
    }
   ],
   "source": [
    "dfs['1st'].head()"
   ]
  },
  {
   "cell_type": "markdown",
   "metadata": {},
   "source": [
    "### Get h-indexes by co-author position"
   ]
  },
  {
   "cell_type": "code",
   "execution_count": 87,
   "metadata": {},
   "outputs": [],
   "source": [
    "def get_hindexes_dict(dataframes):\n",
    "    hindexes_dict = {}\n",
    "    \n",
    "    for k, df in dataframes.items():\n",
    "        df.sort_values('citations')\n",
    "        df.index += 1\n",
    "        df = df.reset_index()\n",
    "        df = df.query('citations >= index')\n",
    "        # checking if there are no citations\n",
    "        if df.shape[0] <= 0:\n",
    "            hindexes_dict[k] = 0\n",
    "        else:\n",
    "            hindexes_dict[k] = df.shape[0]\n",
    "        \n",
    "    return hindexes_dict\n",
    "        \n",
    "hindexes_d = get_hindexes_dict(dfs)"
   ]
  },
  {
   "cell_type": "code",
   "execution_count": 88,
   "metadata": {},
   "outputs": [
    {
     "data": {
      "text/plain": [
       "{'1st': 2, '2nd': 1, '4th': 3, '≥ 6th': 2}"
      ]
     },
     "execution_count": 88,
     "metadata": {},
     "output_type": "execute_result"
    }
   ],
   "source": [
    "# excluding co-author position w/ h-index of zero\n",
    "hindexes_d"
   ]
  },
  {
   "cell_type": "code",
   "execution_count": 89,
   "metadata": {},
   "outputs": [
    {
     "data": {
      "text/plain": [
       "8"
      ]
     },
     "execution_count": 89,
     "metadata": {},
     "output_type": "execute_result"
    }
   ],
   "source": [
    "sum(hindexes_d.values())"
   ]
  },
  {
   "cell_type": "code",
   "execution_count": 90,
   "metadata": {},
   "outputs": [
    {
     "data": {
      "text/plain": [
       "8"
      ]
     },
     "execution_count": 90,
     "metadata": {},
     "output_type": "execute_result"
    }
   ],
   "source": [
    "# Regular h-index (same as Google's)\n",
    "temp_df = pd.DataFrame({\"citations\": citations_lis})\n",
    "temp_df.sort_values('citations')\n",
    "temp_df.index += 1\n",
    "temp_df = temp_df.reset_index()\n",
    "temp_df = temp_df.query('citations >= index')\n",
    "temp_df.shape[0]"
   ]
  },
  {
   "cell_type": "code",
   "execution_count": 91,
   "metadata": {},
   "outputs": [
    {
     "data": {
      "text/html": [
       "<div>\n",
       "<style scoped>\n",
       "    .dataframe tbody tr th:only-of-type {\n",
       "        vertical-align: middle;\n",
       "    }\n",
       "\n",
       "    .dataframe tbody tr th {\n",
       "        vertical-align: top;\n",
       "    }\n",
       "\n",
       "    .dataframe thead th {\n",
       "        text-align: right;\n",
       "    }\n",
       "</style>\n",
       "<table border=\"1\" class=\"dataframe\">\n",
       "  <thead>\n",
       "    <tr style=\"text-align: right;\">\n",
       "      <th></th>\n",
       "      <th>h-index</th>\n",
       "    </tr>\n",
       "    <tr>\n",
       "      <th>position</th>\n",
       "      <th></th>\n",
       "    </tr>\n",
       "  </thead>\n",
       "  <tbody>\n",
       "    <tr>\n",
       "      <th>1st</th>\n",
       "      <td>2</td>\n",
       "    </tr>\n",
       "    <tr>\n",
       "      <th>2nd</th>\n",
       "      <td>1</td>\n",
       "    </tr>\n",
       "    <tr>\n",
       "      <th>4th</th>\n",
       "      <td>3</td>\n",
       "    </tr>\n",
       "    <tr>\n",
       "      <th>≥ 6th</th>\n",
       "      <td>2</td>\n",
       "    </tr>\n",
       "  </tbody>\n",
       "</table>\n",
       "</div>"
      ],
      "text/plain": [
       "          h-index\n",
       "position         \n",
       "1st             2\n",
       "2nd             1\n",
       "4th             3\n",
       "≥ 6th           2"
      ]
     },
     "execution_count": 91,
     "metadata": {},
     "output_type": "execute_result"
    }
   ],
   "source": [
    "pd.DataFrame({'position': list(hindexes_d.keys()), 'h-index': list(hindexes_d.values())}).set_index('position')"
   ]
  },
  {
   "cell_type": "markdown",
   "metadata": {},
   "source": [
    "# Format data for plotting"
   ]
  },
  {
   "cell_type": "code",
   "execution_count": 92,
   "metadata": {},
   "outputs": [
    {
     "name": "stdout",
     "output_type": "stream",
     "text": [
      "author_positions: {'≥ 6th': 3, '4th': 5, '2nd': 1, '1st': 3}\n",
      "citations_by_author_position: {'≥ 6th': 204, '4th': 56, '2nd': 19, '1st': 21}\n"
     ]
    }
   ],
   "source": [
    "def get_counts_dicts(pos_lis, num_lis):\n",
    "    d1 = {}\n",
    "    d2 = {}\n",
    "\n",
    "    for position, num in zip(pos_lis, num_lis):\n",
    "        if not num:\n",
    "            continue\n",
    "        else: \n",
    "            if position in d1:\n",
    "                d1[position] += 1\n",
    "                d2[position] += num\n",
    "            else:\n",
    "                d1[position] = 1\n",
    "                d2[position] = num\n",
    "    return d1, d2\n",
    "        \n",
    "author_positions, citations_by_author_position = get_counts_dicts(author_positions_lis, citations_lis)\n",
    "\n",
    "print(f'author_positions: {author_positions}')\n",
    "print(f'citations_by_author_position: {citations_by_author_position}')"
   ]
  },
  {
   "cell_type": "code",
   "execution_count": 93,
   "metadata": {},
   "outputs": [],
   "source": [
    "author_positions = OrderedDict(sorted(author_positions.items()))\n",
    "citations = OrderedDict(sorted(citations_by_author_position.items()))"
   ]
  },
  {
   "cell_type": "code",
   "execution_count": 94,
   "metadata": {},
   "outputs": [],
   "source": [
    "if \"last\" in author_positions:\n",
    "    author_positions.move_to_end('last')\n",
    "if \"last\" in citations:\n",
    "    citations.move_to_end('last')"
   ]
  },
  {
   "cell_type": "code",
   "execution_count": 95,
   "metadata": {},
   "outputs": [
    {
     "data": {
      "text/plain": [
       "OrderedDict([('1st', 21), ('2nd', 19), ('4th', 56), ('≥ 6th', 204)])"
      ]
     },
     "execution_count": 95,
     "metadata": {},
     "output_type": "execute_result"
    }
   ],
   "source": [
    "citations"
   ]
  },
  {
   "cell_type": "code",
   "execution_count": 96,
   "metadata": {},
   "outputs": [
    {
     "data": {
      "text/plain": [
       "OrderedDict([('1st', 3), ('2nd', 1), ('4th', 5), ('≥ 6th', 3)])"
      ]
     },
     "execution_count": 96,
     "metadata": {},
     "output_type": "execute_result"
    }
   ],
   "source": [
    "author_positions"
   ]
  },
  {
   "cell_type": "code",
   "execution_count": 97,
   "metadata": {},
   "outputs": [],
   "source": [
    "lis1 = list(citations.keys())\n",
    "lis2 = list(citations.values())"
   ]
  },
  {
   "cell_type": "code",
   "execution_count": 98,
   "metadata": {
    "scrolled": false
   },
   "outputs": [
    {
     "data": {
      "text/html": [
       "<div>\n",
       "<style scoped>\n",
       "    .dataframe tbody tr th:only-of-type {\n",
       "        vertical-align: middle;\n",
       "    }\n",
       "\n",
       "    .dataframe tbody tr th {\n",
       "        vertical-align: top;\n",
       "    }\n",
       "\n",
       "    .dataframe thead th {\n",
       "        text-align: right;\n",
       "    }\n",
       "</style>\n",
       "<table border=\"1\" class=\"dataframe\">\n",
       "  <thead>\n",
       "    <tr style=\"text-align: right;\">\n",
       "      <th></th>\n",
       "      <th>positions</th>\n",
       "      <th>citations</th>\n",
       "    </tr>\n",
       "  </thead>\n",
       "  <tbody>\n",
       "    <tr>\n",
       "      <th>0</th>\n",
       "      <td>1st</td>\n",
       "      <td>0.07</td>\n",
       "    </tr>\n",
       "    <tr>\n",
       "      <th>1</th>\n",
       "      <td>2nd</td>\n",
       "      <td>0.06</td>\n",
       "    </tr>\n",
       "    <tr>\n",
       "      <th>2</th>\n",
       "      <td>4th</td>\n",
       "      <td>0.19</td>\n",
       "    </tr>\n",
       "    <tr>\n",
       "      <th>3</th>\n",
       "      <td>≥ 6th</td>\n",
       "      <td>0.68</td>\n",
       "    </tr>\n",
       "  </tbody>\n",
       "</table>\n",
       "</div>"
      ],
      "text/plain": [
       "  positions  citations\n",
       "0       1st       0.07\n",
       "1       2nd       0.06\n",
       "2       4th       0.19\n",
       "3     ≥ 6th       0.68"
      ]
     },
     "execution_count": 98,
     "metadata": {},
     "output_type": "execute_result"
    }
   ],
   "source": [
    "df = pd.DataFrame({\n",
    "                \"positions\": lis1,\n",
    "                \"citations\": lis2\n",
    "            })\n",
    "percents_df = df.copy()\n",
    "percents_df.citations = (100 * df.citations / df.citations.sum()).round(0)\n",
    "percents_df.citations = percents_df.citations / 100\n",
    "# percents_df = percents_df.fillna(0)\n",
    "percents_df"
   ]
  },
  {
   "cell_type": "markdown",
   "metadata": {},
   "source": [
    "# Plot w/ Altair"
   ]
  },
  {
   "cell_type": "code",
   "execution_count": 99,
   "metadata": {},
   "outputs": [
    {
     "data": {
      "text/html": [
       "\n",
       "<div id=\"altair-viz-5b537d367738454d9c2cce68cfbbb2bc\"></div>\n",
       "<script type=\"text/javascript\">\n",
       "  (function(spec, embedOpt){\n",
       "    const outputDiv = document.getElementById(\"altair-viz-5b537d367738454d9c2cce68cfbbb2bc\");\n",
       "    const paths = {\n",
       "      \"vega\": \"https://cdn.jsdelivr.net/npm//vega@5?noext\",\n",
       "      \"vega-lib\": \"https://cdn.jsdelivr.net/npm//vega-lib?noext\",\n",
       "      \"vega-lite\": \"https://cdn.jsdelivr.net/npm//vega-lite@4.0.2?noext\",\n",
       "      \"vega-embed\": \"https://cdn.jsdelivr.net/npm//vega-embed@6?noext\",\n",
       "    };\n",
       "\n",
       "    function loadScript(lib) {\n",
       "      return new Promise(function(resolve, reject) {\n",
       "        var s = document.createElement('script');\n",
       "        s.src = paths[lib];\n",
       "        s.async = true;\n",
       "        s.onload = () => resolve(paths[lib]);\n",
       "        s.onerror = () => reject(`Error loading script: ${paths[lib]}`);\n",
       "        document.getElementsByTagName(\"head\")[0].appendChild(s);\n",
       "      });\n",
       "    }\n",
       "\n",
       "    function showError(err) {\n",
       "      outputDiv.innerHTML = `<div class=\"error\" style=\"color:red;\">${err}</div>`;\n",
       "      throw err;\n",
       "    }\n",
       "\n",
       "    function displayChart(vegaEmbed) {\n",
       "      vegaEmbed(outputDiv, spec, embedOpt)\n",
       "        .catch(err => showError(`Javascript Error: ${err.message}<br>This usually means there's a typo in your chart specification. See the javascript console for the full traceback.`));\n",
       "    }\n",
       "\n",
       "    if(typeof define === \"function\" && define.amd) {\n",
       "      requirejs.config({paths});\n",
       "      require([\"vega-embed\"], displayChart, err => showError(`Error loading script: ${err.message}`));\n",
       "    } else if (typeof vegaEmbed === \"function\") {\n",
       "      displayChart(vegaEmbed);\n",
       "    } else {\n",
       "      loadScript(\"vega\")\n",
       "        .then(() => loadScript(\"vega-lite\"))\n",
       "        .then(() => loadScript(\"vega-embed\"))\n",
       "        .catch(showError)\n",
       "        .then(() => displayChart(vegaEmbed));\n",
       "    }\n",
       "  })({\"config\": {\"view\": {\"continuousWidth\": 400, \"continuousHeight\": 300, \"strokeWidth\": 0}, \"axisX\": {\"labelAngle\": 0}}, \"data\": {\"name\": \"data-5a0fd1ad013edd767f51b1658f65aac6\"}, \"mark\": \"bar\", \"encoding\": {\"color\": {\"type\": \"nominal\", \"field\": \"positions\", \"legend\": null, \"scale\": {\"scheme\": \"greenblue\"}}, \"x\": {\"type\": \"quantitative\", \"axis\": {\"format\": \"%\"}, \"field\": \"citations\"}, \"y\": {\"type\": \"nominal\", \"field\": \"positions\", \"sort\": null}}, \"title\": \"portion of total citations by co-author position\", \"$schema\": \"https://vega.github.io/schema/vega-lite/v4.0.2.json\", \"datasets\": {\"data-5a0fd1ad013edd767f51b1658f65aac6\": [{\"positions\": \"1st\", \"citations\": 0.07}, {\"positions\": \"2nd\", \"citations\": 0.06}, {\"positions\": \"4th\", \"citations\": 0.19}, {\"positions\": \"\\u2265 6th\", \"citations\": 0.68}]}}, {\"mode\": \"vega-lite\"});\n",
       "</script>"
      ],
      "text/plain": [
       "alt.Chart(...)"
      ]
     },
     "metadata": {},
     "output_type": "display_data"
    }
   ],
   "source": [
    "def bar_chart(df):\n",
    "    return alt.Chart(df).mark_bar().encode(\n",
    "        alt.X('citations', axis=alt.Axis(format='%')),\n",
    "        alt.Y('positions', sort=None),\n",
    "        color=alt.Color(\n",
    "            \"positions\", \n",
    "            scale=alt.Scale(scheme=\"greenblue\"), \n",
    "            legend=None\n",
    "            )\n",
    "        ).properties(\n",
    "            title='portion of total citations by co-author position'\n",
    "        ).configure_axisX(\n",
    "            labelAngle=0\n",
    "        ).configure_view(\n",
    "            strokeWidth=0\n",
    "        )\n",
    "\n",
    "\n",
    "bar_chart(percents_df).display()"
   ]
  },
  {
   "cell_type": "code",
   "execution_count": null,
   "metadata": {},
   "outputs": [],
   "source": []
  }
 ],
 "metadata": {
  "kernelspec": {
   "display_name": "Python 3",
   "language": "python",
   "name": "python3"
  },
  "language_info": {
   "codemirror_mode": {
    "name": "ipython",
    "version": 3
   },
   "file_extension": ".py",
   "mimetype": "text/x-python",
   "name": "python",
   "nbconvert_exporter": "python",
   "pygments_lexer": "ipython3",
   "version": "3.7.3"
  }
 },
 "nbformat": 4,
 "nbformat_minor": 4
}
