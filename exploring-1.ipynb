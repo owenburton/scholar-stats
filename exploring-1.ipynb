{
 "cells": [
  {
   "cell_type": "code",
   "execution_count": 29,
   "metadata": {},
   "outputs": [],
   "source": [
    "%%capture\n",
    "# !pip install scholarly\n",
    "!pip install fuzzywuzzy[speedup]"
   ]
  },
  {
   "cell_type": "code",
   "execution_count": 30,
   "metadata": {},
   "outputs": [],
   "source": [
    "import scholarly\n",
    "from fuzzywuzzy import process"
   ]
  },
  {
   "cell_type": "code",
   "execution_count": 7,
   "metadata": {
    "scrolled": true
   },
   "outputs": [
    {
     "name": "stdout",
     "output_type": "stream",
     "text": [
      "{'_filled': True,\n",
      " 'affiliation': 'Ph.D. Candidate, Stanford University',\n",
      " 'citedby': 13,\n",
      " 'citedby5y': 13,\n",
      " 'cites_per_year': {2019: 8, 2020: 5},\n",
      " 'coauthors': [<scholarly.scholarly.Author object at 0x00000178B8244F60>,\n",
      "               <scholarly.scholarly.Author object at 0x00000178B8244D68>,\n",
      "               <scholarly.scholarly.Author object at 0x00000178B8244F98>,\n",
      "               <scholarly.scholarly.Author object at 0x00000178B8244FD0>,\n",
      "               <scholarly.scholarly.Author object at 0x00000178B824A048>,\n",
      "               <scholarly.scholarly.Author object at 0x00000178B824A080>,\n",
      "               <scholarly.scholarly.Author object at 0x00000178B824A0B8>,\n",
      "               <scholarly.scholarly.Author object at 0x00000178B824A0F0>],\n",
      " 'email': '@stanford.edu',\n",
      " 'hindex': 2,\n",
      " 'hindex5y': 2,\n",
      " 'i10index': 0,\n",
      " 'i10index5y': 0,\n",
      " 'id': 'X7FY3wUAAAAJ',\n",
      " 'interests': ['Gas Hydrates',\n",
      "               'Geochemistry',\n",
      "               'Planetary Science',\n",
      "               'Basin Modeling',\n",
      "               'Sedimentary Systems'],\n",
      " 'name': 'Zachary F. M. Burton',\n",
      " 'publications': [<scholarly.scholarly.Publication object at 0x00000178B824A128>,\n",
      "                  <scholarly.scholarly.Publication object at 0x00000178B824A160>,\n",
      "                  <scholarly.scholarly.Publication object at 0x00000178B824A198>,\n",
      "                  <scholarly.scholarly.Publication object at 0x00000178B824A1D0>,\n",
      "                  <scholarly.scholarly.Publication object at 0x00000178B824A208>,\n",
      "                  <scholarly.scholarly.Publication object at 0x00000178B824A240>,\n",
      "                  <scholarly.scholarly.Publication object at 0x00000178B824A278>,\n",
      "                  <scholarly.scholarly.Publication object at 0x00000178B824A2B0>,\n",
      "                  <scholarly.scholarly.Publication object at 0x00000178B824A2E8>,\n",
      "                  <scholarly.scholarly.Publication object at 0x00000178B824A320>,\n",
      "                  <scholarly.scholarly.Publication object at 0x00000178B824A358>,\n",
      "                  <scholarly.scholarly.Publication object at 0x00000178B824A390>,\n",
      "                  <scholarly.scholarly.Publication object at 0x00000178B824A3C8>,\n",
      "                  <scholarly.scholarly.Publication object at 0x00000178B824A400>,\n",
      "                  <scholarly.scholarly.Publication object at 0x00000178B824A438>,\n",
      "                  <scholarly.scholarly.Publication object at 0x00000178B824A470>,\n",
      "                  <scholarly.scholarly.Publication object at 0x00000178B824A4A8>],\n",
      " 'url_picture': 'https://scholar.google.com/citations?view_op=medium_photo&user=X7FY3wUAAAAJ'}\n",
      "Wall time: 15.2 s\n"
     ]
    }
   ],
   "source": [
    "%%time\n",
    "# Retrieve the author's data, fill-in, and print\n",
    "search_query = scholarly.search_author('Zachary F M Burton')\n",
    "author = next(search_query)\n",
    "author = author.fill()\n",
    "print(author)"
   ]
  },
  {
   "cell_type": "code",
   "execution_count": 8,
   "metadata": {},
   "outputs": [],
   "source": [
    "publications = author.publications"
   ]
  },
  {
   "cell_type": "code",
   "execution_count": 9,
   "metadata": {},
   "outputs": [
    {
     "data": {
      "text/plain": [
       "'Unraveling petroleum degradation, maturity, and mixing and addressing impact on petroleum prospectivity: Insights from frontier exploration regions in New Zealand'"
      ]
     },
     "execution_count": 9,
     "metadata": {},
     "output_type": "execute_result"
    }
   ],
   "source": [
    "publications[0].bib['title']"
   ]
  },
  {
   "cell_type": "code",
   "execution_count": 14,
   "metadata": {},
   "outputs": [
    {
     "name": "stdout",
     "output_type": "stream",
     "text": [
      "Wall time: 0 ns\n"
     ]
    }
   ],
   "source": [
    "%%time\n",
    "pubs = [p.bib['title'] for p in publications]"
   ]
  },
  {
   "cell_type": "code",
   "execution_count": 17,
   "metadata": {},
   "outputs": [
    {
     "name": "stdout",
     "output_type": "stream",
     "text": [
      "Wall time: 2min 9s\n"
     ]
    }
   ],
   "source": [
    "%%time\n",
    "pubs_info = [next(scholarly.search_pubs_query(p)) for p in pubs]"
   ]
  },
  {
   "cell_type": "code",
   "execution_count": 20,
   "metadata": {},
   "outputs": [
    {
     "data": {
      "text/plain": [
       "'ZFM Burton and JM Moldowan and R Sykes…'"
      ]
     },
     "execution_count": 20,
     "metadata": {},
     "output_type": "execute_result"
    }
   ],
   "source": [
    "pubs_info[0].bib['author']"
   ]
  },
  {
   "cell_type": "code",
   "execution_count": 21,
   "metadata": {},
   "outputs": [],
   "source": [
    "pubs_authors = [p.bib['author'] for p in pubs_info]"
   ]
  },
  {
   "cell_type": "code",
   "execution_count": 22,
   "metadata": {
    "scrolled": true
   },
   "outputs": [
    {
     "data": {
      "text/plain": [
       "['ZFM Burton and JM Moldowan and R Sykes…',\n",
       " 'ZFM Burton and JM Moldowan and LB Magoon…',\n",
       " 'JL Bishop and JD Toner and P Englert…',\n",
       " 'ZFM Burton and JL Bishop and P Englert…',\n",
       " 'ZFM Burton and KF Kroeger and AH Scheirer…',\n",
       " 'ZFM Burton and JL Bishop and P Englert and P Dera and C Koeberl…',\n",
       " 'ZFM Burton and JL Bishop and JM Danielsen',\n",
       " 'R Bonaccorsi and JL Bishop and ZFM Burton',\n",
       " 'ZFM Burton and T McHargue and T Kukla and RB Bloch…',\n",
       " 'JL Bishop and C Koeberl and PAJ Englert and J Toner…',\n",
       " 'T McHargue and ZFM Burton and T Kukla and RB Bloch…',\n",
       " 'P Englert and JL Bishop and ZFM Burton…',\n",
       " 'ZFM Burton and JL Bishop and P Englert…',\n",
       " 'ZFM Burton and A Hosford Scheirer and Y Seol…',\n",
       " 'ZF Burton and JM Moldowan and AH Scheirer…',\n",
       " 'ZFM Burton',\n",
       " 'EM Peterman and ZFM Burton and JN Rubel…']"
      ]
     },
     "execution_count": 22,
     "metadata": {},
     "output_type": "execute_result"
    }
   ],
   "source": [
    "pubs_authors"
   ]
  },
  {
   "cell_type": "code",
   "execution_count": 37,
   "metadata": {},
   "outputs": [
    {
     "data": {
      "text/plain": [
       "('ZFM Burton', 86)"
      ]
     },
     "execution_count": 37,
     "metadata": {},
     "output_type": "execute_result"
    }
   ],
   "source": [
    "author_name = 'Zachary F M Burton'\n",
    "process.extractOne(author_name, pubs_authors[0].split(' and '))"
   ]
  },
  {
   "cell_type": "code",
   "execution_count": 39,
   "metadata": {},
   "outputs": [],
   "source": [
    "pub_authors_lists = [authors.split(' and ') for authors in pubs_authors]"
   ]
  },
  {
   "cell_type": "code",
   "execution_count": 40,
   "metadata": {},
   "outputs": [
    {
     "data": {
      "text/plain": [
       "{1: 11, 2: 3, 3: 2, 4: 1}"
      ]
     },
     "execution_count": 40,
     "metadata": {},
     "output_type": "execute_result"
    }
   ],
   "source": [
    "author_positions = {}\n",
    "for lis in pub_authors_lists:\n",
    "    match = process.extractOne(author_name, lis)[0]\n",
    "    for i, author in enumerate(lis):\n",
    "        if author == match:\n",
    "            if i+1 in author_positions:\n",
    "                author_positions[i+1] += 1\n",
    "            else:\n",
    "                author_positions[i+1] = 1\n",
    "            break\n",
    "            \n",
    "author_positions "
   ]
  },
  {
   "cell_type": "code",
   "execution_count": null,
   "metadata": {},
   "outputs": [],
   "source": [
    "# TODO: \n",
    "    # use multiprocessing to get publication info faster (takes 2 min for current example!)\n",
    "    # get citations & h-index based on author position (A1: 4, A2: 7, etc.)\n",
    "    # make nice dashboard w/ simple histograms"
   ]
  }
 ],
 "metadata": {
  "kernelspec": {
   "display_name": "Python 3",
   "language": "python",
   "name": "python3"
  },
  "language_info": {
   "codemirror_mode": {
    "name": "ipython",
    "version": 3
   },
   "file_extension": ".py",
   "mimetype": "text/x-python",
   "name": "python",
   "nbconvert_exporter": "python",
   "pygments_lexer": "ipython3",
   "version": "3.7.3"
  }
 },
 "nbformat": 4,
 "nbformat_minor": 4
}
