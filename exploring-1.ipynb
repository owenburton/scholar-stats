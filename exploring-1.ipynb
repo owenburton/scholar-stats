{
 "cells": [
  {
   "cell_type": "code",
   "execution_count": 1,
   "metadata": {},
   "outputs": [
    {
     "name": "stdout",
     "output_type": "stream",
     "text": [
      "Collecting scholarly\n",
      "  Downloading https://files.pythonhosted.org/packages/6c/23/bdf0229ab47fdabb3255cb9709b9af6f63f72150c3498fd9adc3155b1635/scholarly-0.2.5-py2.py3-none-any.whl\n",
      "Requirement already satisfied: beautifulsoup4 in c:\\users\\owen\\anaconda3\\lib\\site-packages (from scholarly) (4.8.2)\n",
      "Collecting bibtexparser\n",
      "  Downloading https://files.pythonhosted.org/packages/1f/cb/c30ee322d69a569423edbcc9cf544edc5d634f3340f448c918c8a3cbccf0/bibtexparser-1.1.0.tar.gz (46kB)\n",
      "Requirement already satisfied: requests[security] in c:\\users\\owen\\anaconda3\\lib\\site-packages (from scholarly) (2.22.0)\n",
      "Collecting arrow\n",
      "  Downloading https://files.pythonhosted.org/packages/99/b5/1f1c5ef3156f7b514c58613fe56e5670dc56374ab744bd1eb653c95e16b5/arrow-0.15.6-py2.py3-none-any.whl (47kB)\n",
      "Requirement already satisfied: soupsieve>=1.2 in c:\\users\\owen\\anaconda3\\lib\\site-packages (from beautifulsoup4->scholarly) (1.9.4)\n",
      "Requirement already satisfied: pyparsing>=2.0.3 in c:\\users\\owen\\anaconda3\\lib\\site-packages (from bibtexparser->scholarly) (2.4.6)\n",
      "Requirement already satisfied: future>=0.16.0 in c:\\users\\owen\\anaconda3\\lib\\site-packages (from bibtexparser->scholarly) (0.17.1)\n",
      "Requirement already satisfied: urllib3!=1.25.0,!=1.25.1,<1.26,>=1.21.1 in c:\\users\\owen\\anaconda3\\lib\\site-packages (from requests[security]->scholarly) (1.25.7)\n",
      "Requirement already satisfied: idna<2.9,>=2.5 in c:\\users\\owen\\anaconda3\\lib\\site-packages (from requests[security]->scholarly) (2.8)\n",
      "Requirement already satisfied: certifi>=2017.4.17 in c:\\users\\owen\\anaconda3\\lib\\site-packages (from requests[security]->scholarly) (2019.11.28)\n",
      "Requirement already satisfied: chardet<3.1.0,>=3.0.2 in c:\\users\\owen\\anaconda3\\lib\\site-packages (from requests[security]->scholarly) (3.0.4)\n",
      "Requirement already satisfied: cryptography>=1.3.4; extra == \"security\" in c:\\users\\owen\\anaconda3\\lib\\site-packages (from requests[security]->scholarly) (2.8)\n",
      "Requirement already satisfied: pyOpenSSL>=0.14; extra == \"security\" in c:\\users\\owen\\anaconda3\\lib\\site-packages (from requests[security]->scholarly) (19.1.0)\n",
      "Requirement already satisfied: python-dateutil in c:\\users\\owen\\anaconda3\\lib\\site-packages (from arrow->scholarly) (2.8.0)\n",
      "Requirement already satisfied: cffi!=1.11.3,>=1.8 in c:\\users\\owen\\anaconda3\\lib\\site-packages (from cryptography>=1.3.4; extra == \"security\"->requests[security]->scholarly) (1.13.2)\n",
      "Requirement already satisfied: six>=1.4.1 in c:\\users\\owen\\anaconda3\\lib\\site-packages (from cryptography>=1.3.4; extra == \"security\"->requests[security]->scholarly) (1.14.0)\n",
      "Requirement already satisfied: pycparser in c:\\users\\owen\\anaconda3\\lib\\site-packages (from cffi!=1.11.3,>=1.8->cryptography>=1.3.4; extra == \"security\"->requests[security]->scholarly) (2.19)\n",
      "Building wheels for collected packages: bibtexparser\n",
      "  Building wheel for bibtexparser (setup.py): started\n",
      "  Building wheel for bibtexparser (setup.py): finished with status 'done'\n",
      "  Created wheel for bibtexparser: filename=bibtexparser-1.1.0-cp37-none-any.whl size=37096 sha256=93cfbe8d603ff2364680dafe8187a7083dcfc9115d4be14f991b9b73af057678\n",
      "  Stored in directory: C:\\Users\\Owen\\AppData\\Local\\pip\\Cache\\wheels\\aa\\4b\\a0\\424a31590e13ddc0e9cbb6ac5d27addef407b1dd781dbef1b1\n",
      "Successfully built bibtexparser\n",
      "Installing collected packages: bibtexparser, arrow, scholarly\n",
      "Successfully installed arrow-0.15.6 bibtexparser-1.1.0 scholarly-0.2.5\n"
     ]
    }
   ],
   "source": [
    "!pip install scholarly"
   ]
  },
  {
   "cell_type": "code",
   "execution_count": 2,
   "metadata": {},
   "outputs": [],
   "source": [
    "import scholarly"
   ]
  },
  {
   "cell_type": "code",
   "execution_count": 6,
   "metadata": {},
   "outputs": [
    {
     "name": "stdout",
     "output_type": "stream",
     "text": [
      "{'_filled': True,\n",
      " 'affiliation': 'Ph.D. Candidate, Stanford University',\n",
      " 'citedby': 13,\n",
      " 'citedby5y': 13,\n",
      " 'cites_per_year': {2019: 8, 2020: 5},\n",
      " 'coauthors': [<scholarly.scholarly.Author object at 0x000002380172E710>,\n",
      "               <scholarly.scholarly.Author object at 0x000002380172E518>,\n",
      "               <scholarly.scholarly.Author object at 0x000002380172E748>,\n",
      "               <scholarly.scholarly.Author object at 0x000002380172E780>,\n",
      "               <scholarly.scholarly.Author object at 0x000002380172E7B8>,\n",
      "               <scholarly.scholarly.Author object at 0x000002380172E7F0>,\n",
      "               <scholarly.scholarly.Author object at 0x000002380172E828>,\n",
      "               <scholarly.scholarly.Author object at 0x000002380172E860>],\n",
      " 'email': '@stanford.edu',\n",
      " 'hindex': 2,\n",
      " 'hindex5y': 2,\n",
      " 'i10index': 0,\n",
      " 'i10index5y': 0,\n",
      " 'id': 'X7FY3wUAAAAJ',\n",
      " 'interests': ['Gas Hydrates',\n",
      "               'Geochemistry',\n",
      "               'Planetary Science',\n",
      "               'Basin Modeling',\n",
      "               'Sedimentary Systems'],\n",
      " 'name': 'Zachary F. M. Burton',\n",
      " 'publications': [<scholarly.scholarly.Publication object at 0x000002380172E898>,\n",
      "                  <scholarly.scholarly.Publication object at 0x000002380172E8D0>,\n",
      "                  <scholarly.scholarly.Publication object at 0x000002380172E908>,\n",
      "                  <scholarly.scholarly.Publication object at 0x000002380172E940>,\n",
      "                  <scholarly.scholarly.Publication object at 0x000002380172E978>,\n",
      "                  <scholarly.scholarly.Publication object at 0x000002380172E9B0>,\n",
      "                  <scholarly.scholarly.Publication object at 0x000002380172E9E8>,\n",
      "                  <scholarly.scholarly.Publication object at 0x000002380172EA20>,\n",
      "                  <scholarly.scholarly.Publication object at 0x000002380172EA58>,\n",
      "                  <scholarly.scholarly.Publication object at 0x000002380172EA90>,\n",
      "                  <scholarly.scholarly.Publication object at 0x000002380172EAC8>,\n",
      "                  <scholarly.scholarly.Publication object at 0x000002380172EB00>,\n",
      "                  <scholarly.scholarly.Publication object at 0x000002380172EB38>,\n",
      "                  <scholarly.scholarly.Publication object at 0x000002380172EB70>,\n",
      "                  <scholarly.scholarly.Publication object at 0x000002380172EBA8>,\n",
      "                  <scholarly.scholarly.Publication object at 0x000002380172EBE0>,\n",
      "                  <scholarly.scholarly.Publication object at 0x000002380172EC18>],\n",
      " 'url_picture': 'https://scholar.google.com/citations?view_op=medium_photo&user=X7FY3wUAAAAJ'}\n",
      "Wall time: 12.8 s\n"
     ]
    }
   ],
   "source": [
    "%%time\n",
    "# Retrieve the author's data, fill-in, and print\n",
    "search_query = scholarly.search_author('Zachary F M Burton')\n",
    "author = next(search_query).fill()\n",
    "print(author)\n",
    "\n",
    "# # Print the titles of the author's publications\n",
    "# print([pub.bib['title'] for pub in author.publications])\n",
    "\n",
    "# # Take a closer look at the first publication\n",
    "# pub = author.publications[0].fill()\n",
    "# print(pub)\n",
    "\n",
    "# # Which papers cited that publication?\n",
    "# print([citation.bib['title'] for citation in pub.get_citedby()])"
   ]
  },
  {
   "cell_type": "code",
   "execution_count": 9,
   "metadata": {},
   "outputs": [],
   "source": [
    "publications = author.publications"
   ]
  },
  {
   "cell_type": "code",
   "execution_count": 16,
   "metadata": {},
   "outputs": [
    {
     "data": {
      "text/plain": [
       "['__class__',\n",
       " '__delattr__',\n",
       " '__dict__',\n",
       " '__dir__',\n",
       " '__doc__',\n",
       " '__eq__',\n",
       " '__format__',\n",
       " '__ge__',\n",
       " '__getattribute__',\n",
       " '__gt__',\n",
       " '__hash__',\n",
       " '__init__',\n",
       " '__init_subclass__',\n",
       " '__le__',\n",
       " '__lt__',\n",
       " '__module__',\n",
       " '__ne__',\n",
       " '__new__',\n",
       " '__reduce__',\n",
       " '__reduce_ex__',\n",
       " '__repr__',\n",
       " '__setattr__',\n",
       " '__sizeof__',\n",
       " '__str__',\n",
       " '__subclasshook__',\n",
       " '__weakref__',\n",
       " '_filled',\n",
       " 'bib',\n",
       " 'citedby',\n",
       " 'fill',\n",
       " 'get_citedby',\n",
       " 'id_citations',\n",
       " 'source']"
      ]
     },
     "execution_count": 16,
     "metadata": {},
     "output_type": "execute_result"
    }
   ],
   "source": [
    "dir(publications[0])"
   ]
  },
  {
   "cell_type": "code",
   "execution_count": 26,
   "metadata": {},
   "outputs": [
    {
     "data": {
      "text/plain": [
       "'Unraveling petroleum degradation, maturity, and mixing and addressing impact on petroleum prospectivity: Insights from frontier exploration regions in New Zealand'"
      ]
     },
     "execution_count": 26,
     "metadata": {},
     "output_type": "execute_result"
    }
   ],
   "source": [
    "publications[0].bib['title']"
   ]
  },
  {
   "cell_type": "code",
   "execution_count": 27,
   "metadata": {},
   "outputs": [
    {
     "name": "stdout",
     "output_type": "stream",
     "text": [
      "{'_filled': True,\n",
      " 'bib': {'abstract': <div class=\"gsc_vcd_value\" id=\"gsc_vcd_descr\"><div class=\"gsh_small\"><div class=\"gsh_csp\">Determining oil quality is essential to identifying valuable resource accumulations. However, in new areas of exploration, little information is available on the processes affecting resource quality. Geochemical analyses of oil seeps from frontier regions of New Zealand’s East Coast illustrate an application of underutilized resource quality assessment techniques. Distributions of <i>n</i>-alkanes and isoprenoids reveal biodegradation, and thus potentially lower oil quality in the “southern” versus the “northern” oil seeps. However, sterane and terpane compounds are unaltered, indicating overall biodegradation of these oils is low to moderate. Additionally, lack of 25-norhopane indicates degradation of southern oils may be solely aerobic. Therefore, any subsurface accumulations are potentially unaffected. Investigation of sterane and hopane isomerization ratios and additional sterane and terpane maturity parameters is …</div></div></div>,\n",
      "         'author': 'Zachary FM Burton and J Michael Moldowan and Richard Sykes '\n",
      "                   'and Stephan A Graham',\n",
      "         'journal': 'Energy & Fuels',\n",
      "         'number': '2',\n",
      "         'pages': '1287-1296',\n",
      "         'publisher': 'American Chemical Society',\n",
      "         'title': 'Unraveling petroleum degradation, maturity, and mixing and '\n",
      "                  'addressing impact on petroleum prospectivity: Insights from '\n",
      "                  'frontier exploration regions in New Zealand',\n",
      "         'url': 'https://pubs.acs.org/doi/abs/10.1021/acs.energyfuels.7b03261',\n",
      "         'volume': '32',\n",
      "         'year': 2018},\n",
      " 'citedby': 6,\n",
      " 'id_citations': 'X7FY3wUAAAAJ:u-x6o8ySG0sC',\n",
      " 'id_scholarcitedby': '6228890964690954357',\n",
      " 'source': 'citations'}\n"
     ]
    }
   ],
   "source": [
    "# Take a closer look at the first publication\n",
    "pub = author.publications[0].fill()\n",
    "print(pub)"
   ]
  },
  {
   "cell_type": "code",
   "execution_count": 28,
   "metadata": {},
   "outputs": [
    {
     "name": "stdout",
     "output_type": "stream",
     "text": [
      "Help on Publication in module scholarly.scholarly object:\n",
      "\n",
      "class Publication(builtins.object)\n",
      " |  Publication(_Publication__data, pubtype=None)\n",
      " |  \n",
      " |  Returns an object for a single publication\n",
      " |  \n",
      " |  Methods defined here:\n",
      " |  \n",
      " |  __init__(self, _Publication__data, pubtype=None)\n",
      " |      Initialize self.  See help(type(self)) for accurate signature.\n",
      " |  \n",
      " |  __str__(self)\n",
      " |      Return str(self).\n",
      " |  \n",
      " |  fill(self)\n",
      " |      Populate the Publication with information from its profile\n",
      " |  \n",
      " |  get_citedby(self)\n",
      " |      Searches GScholar for other articles that cite this Publication and\n",
      " |      returns a Publication generator.\n",
      " |  \n",
      " |  ----------------------------------------------------------------------\n",
      " |  Data descriptors defined here:\n",
      " |  \n",
      " |  __dict__\n",
      " |      dictionary for instance variables (if defined)\n",
      " |  \n",
      " |  __weakref__\n",
      " |      list of weak references to the object (if defined)\n",
      "\n"
     ]
    }
   ],
   "source": [
    "help(author.publications[0].fill())"
   ]
  },
  {
   "cell_type": "code",
   "execution_count": 32,
   "metadata": {},
   "outputs": [
    {
     "data": {
      "text/plain": [
       "'Zachary FM Burton and J Michael Moldowan and Richard Sykes and Stephan A Graham'"
      ]
     },
     "execution_count": 32,
     "metadata": {},
     "output_type": "execute_result"
    }
   ],
   "source": [
    "pub.bib['author']"
   ]
  },
  {
   "cell_type": "code",
   "execution_count": 39,
   "metadata": {},
   "outputs": [
    {
     "data": {
      "text/plain": [
       "['Zachary FM Burton',\n",
       " 'J Michael Moldowan',\n",
       " 'Richard Sykes',\n",
       " 'Stephan A Graham']"
      ]
     },
     "execution_count": 39,
     "metadata": {},
     "output_type": "execute_result"
    }
   ],
   "source": [
    "author_list = pub.bib['author'].split(' and ')\n",
    "author_list"
   ]
  },
  {
   "cell_type": "code",
   "execution_count": 41,
   "metadata": {},
   "outputs": [
    {
     "name": "stdout",
     "output_type": "stream",
     "text": [
      "author placement: 1\n"
     ]
    }
   ],
   "source": [
    "author = 'Zachary FM Burton'\n",
    "for i,a in enumerate(author_list):\n",
    "    if a == author:\n",
    "        print(f'author placement: {i+1}')"
   ]
  },
  {
   "cell_type": "code",
   "execution_count": 42,
   "metadata": {},
   "outputs": [
    {
     "name": "stdout",
     "output_type": "stream",
     "text": [
      "Wall time: 17.1 s\n"
     ]
    }
   ],
   "source": [
    "%%time\n",
    "search_query = scholarly.search_author('Zachary F M Burton')\n",
    "author = next(search_query).fill()"
   ]
  },
  {
   "cell_type": "code",
   "execution_count": 45,
   "metadata": {},
   "outputs": [
    {
     "ename": "ParserError",
     "evalue": "Could not match input '2019/3' to any of the following formats: YYYY-MM-DD, YYYY-M-DD, YYYY-M-D, YYYY/MM/DD, YYYY/M/DD, YYYY/M/D, YYYY.MM.DD, YYYY.M.DD, YYYY.M.D, YYYYMMDD, YYYY-DDDD, YYYYDDDD, YYYY-MM, YYYY/MM, YYYY.MM, YYYY, W",
     "output_type": "error",
     "traceback": [
      "\u001b[1;31m---------------------------------------------------------------------------\u001b[0m",
      "\u001b[1;31mParserError\u001b[0m                               Traceback (most recent call last)",
      "\u001b[1;32m<timed exec>\u001b[0m in \u001b[0;36m<module>\u001b[1;34m\u001b[0m\n",
      "\u001b[1;32m<timed exec>\u001b[0m in \u001b[0;36m<listcomp>\u001b[1;34m(.0)\u001b[0m\n",
      "\u001b[1;32m~\\Anaconda3\\lib\\site-packages\\scholarly\\scholarly.py\u001b[0m in \u001b[0;36mfill\u001b[1;34m(self)\u001b[0m\n\u001b[0;32m    189\u001b[0m                     \u001b[0mself\u001b[0m\u001b[1;33m.\u001b[0m\u001b[0mbib\u001b[0m\u001b[1;33m[\u001b[0m\u001b[1;34m'publisher'\u001b[0m\u001b[1;33m]\u001b[0m \u001b[1;33m=\u001b[0m \u001b[0mval\u001b[0m\u001b[1;33m.\u001b[0m\u001b[0mtext\u001b[0m\u001b[1;33m\u001b[0m\u001b[1;33m\u001b[0m\u001b[0m\n\u001b[0;32m    190\u001b[0m                 \u001b[1;32melif\u001b[0m \u001b[0mkey\u001b[0m \u001b[1;33m==\u001b[0m \u001b[1;34m'Publication date'\u001b[0m\u001b[1;33m:\u001b[0m\u001b[1;33m\u001b[0m\u001b[1;33m\u001b[0m\u001b[0m\n\u001b[1;32m--> 191\u001b[1;33m                     \u001b[0mself\u001b[0m\u001b[1;33m.\u001b[0m\u001b[0mbib\u001b[0m\u001b[1;33m[\u001b[0m\u001b[1;34m'year'\u001b[0m\u001b[1;33m]\u001b[0m \u001b[1;33m=\u001b[0m \u001b[0marrow\u001b[0m\u001b[1;33m.\u001b[0m\u001b[0mget\u001b[0m\u001b[1;33m(\u001b[0m\u001b[0mval\u001b[0m\u001b[1;33m.\u001b[0m\u001b[0mtext\u001b[0m\u001b[1;33m)\u001b[0m\u001b[1;33m.\u001b[0m\u001b[0myear\u001b[0m\u001b[1;33m\u001b[0m\u001b[1;33m\u001b[0m\u001b[0m\n\u001b[0m\u001b[0;32m    192\u001b[0m                 \u001b[1;32melif\u001b[0m \u001b[0mkey\u001b[0m \u001b[1;33m==\u001b[0m \u001b[1;34m'Description'\u001b[0m\u001b[1;33m:\u001b[0m\u001b[1;33m\u001b[0m\u001b[1;33m\u001b[0m\u001b[0m\n\u001b[0;32m    193\u001b[0m                     \u001b[1;32mif\u001b[0m \u001b[0mval\u001b[0m\u001b[1;33m.\u001b[0m\u001b[0mtext\u001b[0m\u001b[1;33m[\u001b[0m\u001b[1;36m0\u001b[0m\u001b[1;33m:\u001b[0m\u001b[1;36m8\u001b[0m\u001b[1;33m]\u001b[0m\u001b[1;33m.\u001b[0m\u001b[0mlower\u001b[0m\u001b[1;33m(\u001b[0m\u001b[1;33m)\u001b[0m \u001b[1;33m==\u001b[0m \u001b[1;34m'abstract'\u001b[0m\u001b[1;33m:\u001b[0m\u001b[1;33m\u001b[0m\u001b[1;33m\u001b[0m\u001b[0m\n",
      "\u001b[1;32m~\\Anaconda3\\lib\\site-packages\\arrow\\api.py\u001b[0m in \u001b[0;36mget\u001b[1;34m(*args, **kwargs)\u001b[0m\n\u001b[0;32m     19\u001b[0m     \"\"\"\n\u001b[0;32m     20\u001b[0m \u001b[1;33m\u001b[0m\u001b[0m\n\u001b[1;32m---> 21\u001b[1;33m     \u001b[1;32mreturn\u001b[0m \u001b[0m_factory\u001b[0m\u001b[1;33m.\u001b[0m\u001b[0mget\u001b[0m\u001b[1;33m(\u001b[0m\u001b[1;33m*\u001b[0m\u001b[0margs\u001b[0m\u001b[1;33m,\u001b[0m \u001b[1;33m**\u001b[0m\u001b[0mkwargs\u001b[0m\u001b[1;33m)\u001b[0m\u001b[1;33m\u001b[0m\u001b[1;33m\u001b[0m\u001b[0m\n\u001b[0m\u001b[0;32m     22\u001b[0m \u001b[1;33m\u001b[0m\u001b[0m\n\u001b[0;32m     23\u001b[0m \u001b[1;33m\u001b[0m\u001b[0m\n",
      "\u001b[1;32m~\\Anaconda3\\lib\\site-packages\\arrow\\factory.py\u001b[0m in \u001b[0;36mget\u001b[1;34m(self, *args, **kwargs)\u001b[0m\n\u001b[0;32m    194\u001b[0m             \u001b[1;31m# (str) -> parse.\u001b[0m\u001b[1;33m\u001b[0m\u001b[1;33m\u001b[0m\u001b[1;33m\u001b[0m\u001b[0m\n\u001b[0;32m    195\u001b[0m             \u001b[1;32melif\u001b[0m \u001b[0misstr\u001b[0m\u001b[1;33m(\u001b[0m\u001b[0marg\u001b[0m\u001b[1;33m)\u001b[0m\u001b[1;33m:\u001b[0m\u001b[1;33m\u001b[0m\u001b[1;33m\u001b[0m\u001b[0m\n\u001b[1;32m--> 196\u001b[1;33m                 \u001b[0mdt\u001b[0m \u001b[1;33m=\u001b[0m \u001b[0mparser\u001b[0m\u001b[1;33m.\u001b[0m\u001b[0mDateTimeParser\u001b[0m\u001b[1;33m(\u001b[0m\u001b[0mlocale\u001b[0m\u001b[1;33m)\u001b[0m\u001b[1;33m.\u001b[0m\u001b[0mparse_iso\u001b[0m\u001b[1;33m(\u001b[0m\u001b[0marg\u001b[0m\u001b[1;33m)\u001b[0m\u001b[1;33m\u001b[0m\u001b[1;33m\u001b[0m\u001b[0m\n\u001b[0m\u001b[0;32m    197\u001b[0m                 \u001b[1;32mreturn\u001b[0m \u001b[0mself\u001b[0m\u001b[1;33m.\u001b[0m\u001b[0mtype\u001b[0m\u001b[1;33m.\u001b[0m\u001b[0mfromdatetime\u001b[0m\u001b[1;33m(\u001b[0m\u001b[0mdt\u001b[0m\u001b[1;33m,\u001b[0m \u001b[0mtz\u001b[0m\u001b[1;33m)\u001b[0m\u001b[1;33m\u001b[0m\u001b[1;33m\u001b[0m\u001b[0m\n\u001b[0;32m    198\u001b[0m \u001b[1;33m\u001b[0m\u001b[0m\n",
      "\u001b[1;32m~\\Anaconda3\\lib\\site-packages\\arrow\\parser.py\u001b[0m in \u001b[0;36mparse_iso\u001b[1;34m(self, datetime_string)\u001b[0m\n\u001b[0;32m    213\u001b[0m             \u001b[0mformats\u001b[0m \u001b[1;33m=\u001b[0m \u001b[1;33m[\u001b[0m\u001b[1;34m\"{}{}\"\u001b[0m\u001b[1;33m.\u001b[0m\u001b[0mformat\u001b[0m\u001b[1;33m(\u001b[0m\u001b[0mf\u001b[0m\u001b[1;33m,\u001b[0m \u001b[0mtz_format\u001b[0m\u001b[1;33m)\u001b[0m \u001b[1;32mfor\u001b[0m \u001b[0mf\u001b[0m \u001b[1;32min\u001b[0m \u001b[0mformats\u001b[0m\u001b[1;33m]\u001b[0m\u001b[1;33m\u001b[0m\u001b[1;33m\u001b[0m\u001b[0m\n\u001b[0;32m    214\u001b[0m \u001b[1;33m\u001b[0m\u001b[0m\n\u001b[1;32m--> 215\u001b[1;33m         \u001b[1;32mreturn\u001b[0m \u001b[0mself\u001b[0m\u001b[1;33m.\u001b[0m\u001b[0m_parse_multiformat\u001b[0m\u001b[1;33m(\u001b[0m\u001b[0mdatetime_string\u001b[0m\u001b[1;33m,\u001b[0m \u001b[0mformats\u001b[0m\u001b[1;33m)\u001b[0m\u001b[1;33m\u001b[0m\u001b[1;33m\u001b[0m\u001b[0m\n\u001b[0m\u001b[0;32m    216\u001b[0m \u001b[1;33m\u001b[0m\u001b[0m\n\u001b[0;32m    217\u001b[0m     \u001b[1;32mdef\u001b[0m \u001b[0mparse\u001b[0m\u001b[1;33m(\u001b[0m\u001b[0mself\u001b[0m\u001b[1;33m,\u001b[0m \u001b[0mdatetime_string\u001b[0m\u001b[1;33m,\u001b[0m \u001b[0mfmt\u001b[0m\u001b[1;33m)\u001b[0m\u001b[1;33m:\u001b[0m\u001b[1;33m\u001b[0m\u001b[1;33m\u001b[0m\u001b[0m\n",
      "\u001b[1;32m~\\Anaconda3\\lib\\site-packages\\arrow\\parser.py\u001b[0m in \u001b[0;36m_parse_multiformat\u001b[1;34m(self, string, formats)\u001b[0m\n\u001b[0;32m    518\u001b[0m             raise ParserError(\n\u001b[0;32m    519\u001b[0m                 \"Could not match input '{}' to any of the following formats: {}\".format(\n\u001b[1;32m--> 520\u001b[1;33m                     \u001b[0mstring\u001b[0m\u001b[1;33m,\u001b[0m \u001b[1;34m\", \"\u001b[0m\u001b[1;33m.\u001b[0m\u001b[0mjoin\u001b[0m\u001b[1;33m(\u001b[0m\u001b[0mformats\u001b[0m\u001b[1;33m)\u001b[0m\u001b[1;33m\u001b[0m\u001b[1;33m\u001b[0m\u001b[0m\n\u001b[0m\u001b[0;32m    521\u001b[0m                 )\n\u001b[0;32m    522\u001b[0m             )\n",
      "\u001b[1;31mParserError\u001b[0m: Could not match input '2019/3' to any of the following formats: YYYY-MM-DD, YYYY-M-DD, YYYY-M-D, YYYY/MM/DD, YYYY/M/DD, YYYY/M/D, YYYY.MM.DD, YYYY.M.DD, YYYY.M.D, YYYYMMDD, YYYY-DDDD, YYYYDDDD, YYYY-MM, YYYY/MM, YYYY.MM, YYYY, W"
     ]
    }
   ],
   "source": [
    "%%time\n",
    "pubs = [p.fill() for p in author.publications]"
   ]
  },
  {
   "cell_type": "code",
   "execution_count": null,
   "metadata": {},
   "outputs": [],
   "source": [
    "# TODO: \n",
    "    # get author placement for each publication\n",
    "    # fix above error\n",
    "    # make nice dashboard w/ simple histograms"
   ]
  }
 ],
 "metadata": {
  "kernelspec": {
   "display_name": "Python 3",
   "language": "python",
   "name": "python3"
  },
  "language_info": {
   "codemirror_mode": {
    "name": "ipython",
    "version": 3
   },
   "file_extension": ".py",
   "mimetype": "text/x-python",
   "name": "python",
   "nbconvert_exporter": "python",
   "pygments_lexer": "ipython3",
   "version": "3.7.3"
  }
 },
 "nbformat": 4,
 "nbformat_minor": 4
}
